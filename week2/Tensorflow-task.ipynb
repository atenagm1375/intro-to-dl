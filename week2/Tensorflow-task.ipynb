{
 "cells": [
  {
   "cell_type": "markdown",
   "metadata": {
    "slideshow": {
     "slide_type": "slide"
    }
   },
   "source": [
    "# Going deeper with Tensorflow\n",
    "\n",
    "In this video, we're going to study the tools you'll use to build deep learning models. Namely, [Tensorflow](https://www.tensorflow.org/).\n",
    "\n",
    "If you're running this notebook outside the course environment, you'll need to install tensorflow:\n",
    "* `pip install tensorflow` should install cpu-only TF on Linux & Mac OS\n",
    "* If you want GPU support from offset, see [TF install page](https://www.tensorflow.org/install/)"
   ]
  },
  {
   "cell_type": "code",
   "execution_count": 1,
   "metadata": {},
   "outputs": [],
   "source": [
    "import sys\n",
    "sys.path.append(\"..\")\n",
    "import grading"
   ]
  },
  {
   "cell_type": "markdown",
   "metadata": {},
   "source": [
    "# Visualization"
   ]
  },
  {
   "cell_type": "markdown",
   "metadata": {},
   "source": [
    "Plase note that if you are running on the Coursera platform, you won't be able to access the tensorboard instance due to the network setup there. If you run the notebook locally, you should be able to access TensorBoard on http://127.0.0.1:7007/"
   ]
  },
  {
   "cell_type": "code",
   "execution_count": 18,
   "metadata": {},
   "outputs": [
    {
     "name": "stdout",
     "output_type": "stream",
     "text": [
      "Traceback (most recent call last):\r\n",
      "  File \"/home/atenagm/.virtualenvs/hse/bin/tensorboard\", line 6, in <module>\r\n",
      "    from tensorboard.main import run_main\r\n",
      "  File \"/home/atenagm/.virtualenvs/hse/local/lib/python3.6/site-packages/tensorboard/main.py\", line 40, in <module>\r\n",
      "    from tensorboard import default\r\n",
      "  File \"/home/atenagm/.virtualenvs/hse/local/lib/python3.6/site-packages/tensorboard/default.py\", line 39, in <module>\r\n",
      "    from tensorboard.plugins.beholder import beholder_plugin_loader\r\n",
      "  File \"/home/atenagm/.virtualenvs/hse/local/lib/python3.6/site-packages/tensorboard/plugins/beholder/__init__.py\", line 22, in <module>\r\n",
      "    from tensorboard.plugins.beholder.beholder import Beholder\r\n",
      "  File \"/home/atenagm/.virtualenvs/hse/local/lib/python3.6/site-packages/tensorboard/plugins/beholder/beholder.py\", line 199, in <module>\r\n",
      "    class BeholderHook(tf.estimator.SessionRunHook):\r\n",
      "  File \"/home/atenagm/.virtualenvs/hse/local/lib/python3.6/site-packages/tensorflow/python/util/deprecation_wrapper.py\", line 106, in __getattr__\r\n",
      "    attr = getattr(self._dw_wrapped_module, name)\r\n",
      "AttributeError: module 'tensorflow' has no attribute 'estimator'\r\n"
     ]
    }
   ],
   "source": []
  },
  {
   "cell_type": "code",
   "execution_count": 19,
   "metadata": {},
   "outputs": [
    {
     "name": "stdout",
     "output_type": "stream",
     "text": [
      "tensorboard: no process found\r\n"
     ]
    }
   ],
   "source": [
    "! killall tensorboard\n",
    "import os\n",
    "os.system(\"tensorboard --logdir=/tmp/tboard --port=7007 &\");"
   ]
  },
  {
   "cell_type": "code",
   "execution_count": 4,
   "metadata": {},
   "outputs": [
    {
     "name": "stdout",
     "output_type": "stream",
     "text": [
      "Collecting keras\n",
      "\u001b[?25l  Downloading https://files.pythonhosted.org/packages/5e/10/aa32dad071ce52b5502266b5c659451cfd6ffcbf14e6c8c4f16c0ff5aaab/Keras-2.2.4-py2.py3-none-any.whl (312kB)\n",
      "\u001b[K     |████████████████████████████████| 317kB 149kB/s eta 0:00:01\n",
      "\u001b[?25hCollecting pyyaml (from keras)\n",
      "\u001b[?25l  Downloading https://files.pythonhosted.org/packages/a3/65/837fefac7475963d1eccf4aa684c23b95aa6c1d033a2c5965ccb11e22623/PyYAML-5.1.1.tar.gz (274kB)\n",
      "\u001b[K     |████████████████████████████████| 276kB 214kB/s eta 0:00:01\n",
      "\u001b[?25hRequirement already satisfied: numpy>=1.9.1 in /home/atenagm/.virtualenvs/hse/lib/python3.6/site-packages (from keras) (1.16.4)\n",
      "Requirement already satisfied: keras-applications>=1.0.6 in /home/atenagm/.virtualenvs/hse/lib/python3.6/site-packages (from keras) (1.0.8)\n",
      "Requirement already satisfied: keras-preprocessing>=1.0.5 in /home/atenagm/.virtualenvs/hse/lib/python3.6/site-packages (from keras) (1.1.0)\n",
      "Requirement already satisfied: h5py in /home/atenagm/.virtualenvs/hse/lib/python3.6/site-packages (from keras) (2.9.0)\n",
      "Requirement already satisfied: six>=1.9.0 in /home/atenagm/.virtualenvs/hse/lib/python3.6/site-packages (from keras) (1.12.0)\n",
      "Collecting scipy>=0.14 (from keras)\n",
      "  Using cached https://files.pythonhosted.org/packages/72/4c/5f81e7264b0a7a8bd570810f48cd346ba36faedbd2ba255c873ad556de76/scipy-1.3.0-cp36-cp36m-manylinux1_x86_64.whl\n",
      "Building wheels for collected packages: pyyaml\n",
      "  Building wheel for pyyaml (setup.py) ... \u001b[?25ldone\n",
      "\u001b[?25h  Stored in directory: /home/atenagm/.cache/pip/wheels/16/27/a1/775c62ddea7bfa62324fd1f65847ed31c55dadb6051481ba3f\n",
      "Successfully built pyyaml\n",
      "Installing collected packages: pyyaml, scipy, keras\n",
      "Successfully installed keras-2.2.4 pyyaml-5.1.1 scipy-1.3.0\n"
     ]
    }
   ],
   "source": [
    "!pip install keras"
   ]
  },
  {
   "cell_type": "code",
   "execution_count": 5,
   "metadata": {},
   "outputs": [
    {
     "name": "stderr",
     "output_type": "stream",
     "text": [
      "Using TensorFlow backend.\n",
      "WARNING: Logging before flag parsing goes to stderr.\n",
      "W0724 10:24:23.975869 140629097203520 deprecation_wrapper.py:119] From ../keras_utils.py:68: The name tf.get_default_session is deprecated. Please use tf.compat.v1.get_default_session instead.\n",
      "\n",
      "W0724 10:24:23.976480 140629097203520 deprecation_wrapper.py:119] From /home/atenagm/.virtualenvs/hse/local/lib/python3.6/site-packages/keras/backend/tensorflow_backend.py:95: The name tf.reset_default_graph is deprecated. Please use tf.compat.v1.reset_default_graph instead.\n",
      "\n",
      "W0724 10:24:23.976917 140629097203520 deprecation_wrapper.py:119] From /home/atenagm/.virtualenvs/hse/local/lib/python3.6/site-packages/keras/backend/tensorflow_backend.py:98: The name tf.placeholder_with_default is deprecated. Please use tf.compat.v1.placeholder_with_default instead.\n",
      "\n",
      "W0724 10:24:23.989646 140629097203520 deprecation_wrapper.py:119] From /home/atenagm/.virtualenvs/hse/local/lib/python3.6/site-packages/keras/backend/tensorflow_backend.py:102: The name tf.get_default_graph is deprecated. Please use tf.compat.v1.get_default_graph instead.\n",
      "\n",
      "W0724 10:24:23.990262 140629097203520 deprecation_wrapper.py:119] From ../keras_utils.py:75: The name tf.ConfigProto is deprecated. Please use tf.compat.v1.ConfigProto instead.\n",
      "\n"
     ]
    }
   ],
   "source": [
    "import tensorflow as tf\n",
    "from keras_utils import reset_tf_session\n",
    "s = reset_tf_session()"
   ]
  },
  {
   "cell_type": "markdown",
   "metadata": {},
   "source": [
    "# Warming up\n",
    "For starters, let's implement a python function that computes the sum of squares of numbers from 0 to N-1."
   ]
  },
  {
   "cell_type": "code",
   "execution_count": 6,
   "metadata": {},
   "outputs": [],
   "source": [
    "import numpy as np\n",
    "def sum_sin(N):\n",
    "    return np.sum(np.arange(N)**2)"
   ]
  },
  {
   "cell_type": "code",
   "execution_count": 7,
   "metadata": {},
   "outputs": [
    {
     "name": "stdout",
     "output_type": "stream",
     "text": [
      "CPU times: user 1.54 ms, sys: 365 µs, total: 1.91 ms\n",
      "Wall time: 972 µs\n"
     ]
    },
    {
     "data": {
      "text/plain": [
       "333328333350000"
      ]
     },
     "execution_count": 7,
     "metadata": {},
     "output_type": "execute_result"
    }
   ],
   "source": [
    "%%time\n",
    "sum_sin(10**5)"
   ]
  },
  {
   "cell_type": "markdown",
   "metadata": {},
   "source": [
    "# Tensoflow teaser\n",
    "\n",
    "Doing the very same thing"
   ]
  },
  {
   "cell_type": "code",
   "execution_count": 8,
   "metadata": {},
   "outputs": [],
   "source": [
    "# An integer parameter\n",
    "N = tf.placeholder('int64', name=\"input_to_your_function\")\n",
    "\n",
    "# A recipe on how to produce the same result\n",
    "result = tf.reduce_sum(tf.range(N)**2)"
   ]
  },
  {
   "cell_type": "code",
   "execution_count": 9,
   "metadata": {},
   "outputs": [
    {
     "data": {
      "text/plain": [
       "<tf.Tensor 'Sum:0' shape=() dtype=int64>"
      ]
     },
     "execution_count": 9,
     "metadata": {},
     "output_type": "execute_result"
    }
   ],
   "source": [
    "result"
   ]
  },
  {
   "cell_type": "code",
   "execution_count": 10,
   "metadata": {},
   "outputs": [
    {
     "name": "stdout",
     "output_type": "stream",
     "text": [
      "CPU times: user 5.1 ms, sys: 252 µs, total: 5.35 ms\n",
      "Wall time: 3.98 ms\n"
     ]
    },
    {
     "data": {
      "text/plain": [
       "333328333350000"
      ]
     },
     "execution_count": 10,
     "metadata": {},
     "output_type": "execute_result"
    }
   ],
   "source": [
    "%%time\n",
    "result.eval({N: 10**5})"
   ]
  },
  {
   "cell_type": "code",
   "execution_count": 11,
   "metadata": {},
   "outputs": [],
   "source": [
    "writer = tf.summary.FileWriter(\"/tmp/tboard\", graph=s.graph)"
   ]
  },
  {
   "cell_type": "markdown",
   "metadata": {},
   "source": [
    "# How does it work?\n",
    "1. Define placeholders where you'll send inputs\n",
    "2. Make symbolic graph: a recipe for mathematical transformation of those placeholders\n",
    "3. Compute outputs of your graph with particular values for each placeholder\n",
    "  * `output.eval({placeholder:value})`\n",
    "  * `s.run(output, {placeholder:value})`\n",
    "\n",
    "So far there are two main entities: \"placeholder\" and \"transformation\"\n",
    "* Both can be numbers, vectors, matrices, tensors, etc.\n",
    "* Both can be int32/64, floats, booleans (uint8) of various size.\n",
    "\n",
    "* You can define new transformations as an arbitrary operation on placeholders and other transformations\n",
    " * `tf.reduce_sum(tf.arange(N)**2)` are 3 sequential transformations of placeholder `N`\n",
    " * There's a tensorflow symbolic version for every numpy function\n",
    "   * `a+b, a/b, a**b, ...` behave just like in numpy\n",
    "   * `np.mean` -> `tf.reduce_mean`\n",
    "   * `np.arange` -> `tf.range`\n",
    "   * `np.cumsum` -> `tf.cumsum`\n",
    "   * If if you can't find the op you need, see the [docs](https://www.tensorflow.org/api_docs/python).\n",
    "   \n",
    "`tf.contrib` has many high-level features, may be worth a look."
   ]
  },
  {
   "cell_type": "code",
   "execution_count": 12,
   "metadata": {},
   "outputs": [],
   "source": [
    "with tf.name_scope(\"Placeholders_examples\"):\n",
    "    # Default placeholder that can be arbitrary float32\n",
    "    # scalar, vertor, matrix, etc.\n",
    "    arbitrary_input = tf.placeholder('float32')\n",
    "\n",
    "    # Input vector of arbitrary length\n",
    "    input_vector = tf.placeholder('float32', shape=(None,))\n",
    "\n",
    "    # Input vector that _must_ have 10 elements and integer type\n",
    "    fixed_vector = tf.placeholder('int32', shape=(10,))\n",
    "\n",
    "    # Matrix of arbitrary n_rows and 15 columns\n",
    "    # (e.g. a minibatch your data table)\n",
    "    input_matrix = tf.placeholder('float32', shape=(None, 15))\n",
    "    \n",
    "    # You can generally use None whenever you don't need a specific shape\n",
    "    input1 = tf.placeholder('float64', shape=(None, 100, None))\n",
    "    input2 = tf.placeholder('int32', shape=(None, None, 3, 224, 224))\n",
    "\n",
    "    # elementwise multiplication\n",
    "    double_the_vector = input_vector*2\n",
    "\n",
    "    # elementwise cosine\n",
    "    elementwise_cosine = tf.cos(input_vector)\n",
    "\n",
    "    # difference between squared vector and vector itself plus one\n",
    "    vector_squares = input_vector**2 - input_vector + 1"
   ]
  },
  {
   "cell_type": "code",
   "execution_count": 13,
   "metadata": {},
   "outputs": [],
   "source": [
    "my_vector =  tf.placeholder('float32', shape=(None,), name=\"VECTOR_1\")\n",
    "my_vector2 = tf.placeholder('float32', shape=(None,))\n",
    "my_transformation = my_vector * my_vector2 / (tf.sin(my_vector) + 1)"
   ]
  },
  {
   "cell_type": "code",
   "execution_count": 14,
   "metadata": {},
   "outputs": [
    {
     "name": "stdout",
     "output_type": "stream",
     "text": [
      "Tensor(\"truediv:0\", shape=(?,), dtype=float32)\n"
     ]
    }
   ],
   "source": [
    "print(my_transformation)"
   ]
  },
  {
   "cell_type": "code",
   "execution_count": 15,
   "metadata": {},
   "outputs": [
    {
     "name": "stdout",
     "output_type": "stream",
     "text": [
      "[0. 1. 2. 3. 4.]\n"
     ]
    },
    {
     "data": {
      "text/plain": [
       "array([0.       , 1.6291324, 2.0950115, 2.6289961, 0.       ],\n",
       "      dtype=float32)"
      ]
     },
     "execution_count": 15,
     "metadata": {},
     "output_type": "execute_result"
    }
   ],
   "source": [
    "dummy = np.arange(5).astype('float32')\n",
    "print(dummy)\n",
    "my_transformation.eval({my_vector:dummy, my_vector2:dummy[::-1]})"
   ]
  },
  {
   "cell_type": "code",
   "execution_count": 16,
   "metadata": {},
   "outputs": [],
   "source": [
    "writer.add_graph(my_transformation.graph)\n",
    "writer.flush()"
   ]
  },
  {
   "cell_type": "markdown",
   "metadata": {},
   "source": [
    "TensorBoard allows writing scalars, images, audio, histogram. You can read more on tensorboard usage [here](https://www.tensorflow.org/get_started/graph_viz)."
   ]
  },
  {
   "cell_type": "markdown",
   "metadata": {},
   "source": [
    "# Summary\n",
    "* Tensorflow is based on computation graphs\n",
    "* The graphs consist of placehlders and transformations"
   ]
  },
  {
   "cell_type": "markdown",
   "metadata": {},
   "source": [
    "# Mean squared error\n",
    "\n",
    "Your assignment is to implement mean squared error in tensorflow."
   ]
  },
  {
   "cell_type": "code",
   "execution_count": 20,
   "metadata": {},
   "outputs": [],
   "source": [
    "with tf.name_scope(\"MSE\"):\n",
    "    y_true = tf.placeholder(\"float32\", shape=(None,), name=\"y_true\")\n",
    "    y_predicted = tf.placeholder(\"float32\", shape=(None,), name=\"y_predicted\")\n",
    "    # Your code goes here\n",
    "    # You want to use tf.reduce_mean\n",
    "    mse = tf.reduce_mean(tf.squared_difference(y_predicted, y_true))\n",
    "def compute_mse(vector1, vector2):\n",
    "    return mse.eval({y_true: vector1, y_predicted: vector2})"
   ]
  },
  {
   "cell_type": "code",
   "execution_count": 21,
   "metadata": {},
   "outputs": [],
   "source": [
    "writer.add_graph(mse.graph)\n",
    "writer.flush()"
   ]
  },
  {
   "cell_type": "markdown",
   "metadata": {},
   "source": [
    "Tests and result submission. Please use the credentials obtained from the Coursera assignment page."
   ]
  },
  {
   "cell_type": "code",
   "execution_count": 16,
   "metadata": {
    "collapsed": true
   },
   "outputs": [],
   "source": [
    "import submit"
   ]
  },
  {
   "cell_type": "code",
   "execution_count": 17,
   "metadata": {},
   "outputs": [
    {
     "name": "stdout",
     "output_type": "stream",
     "text": [
      "Submitted to Coursera platform. See results on assignment page!\n"
     ]
    }
   ],
   "source": [
    "submit.submit_mse(compute_mse, <your email>, <your token>)"
   ]
  },
  {
   "cell_type": "markdown",
   "metadata": {},
   "source": [
    "# Variables\n",
    "\n",
    "The inputs and transformations have no value outside function call. This isn't too comfortable if you want your model to have parameters (e.g. network weights) that are always present, but can change their value over time.\n",
    "\n",
    "Tensorflow solves this with `tf.Variable` objects.\n",
    "* You can assign variable a value at any time in your graph\n",
    "* Unlike placeholders, there's no need to explicitly pass values to variables when `s.run(...)`-ing\n",
    "* You can use variables the same way you use transformations \n",
    " "
   ]
  },
  {
   "cell_type": "code",
   "execution_count": 22,
   "metadata": {},
   "outputs": [],
   "source": [
    "# Creating a shared variable\n",
    "shared_vector_1 = tf.Variable(initial_value=np.ones(5),\n",
    "                              name=\"example_variable\")"
   ]
  },
  {
   "cell_type": "code",
   "execution_count": 23,
   "metadata": {},
   "outputs": [
    {
     "name": "stdout",
     "output_type": "stream",
     "text": [
      "Initial value [1. 1. 1. 1. 1.]\n"
     ]
    }
   ],
   "source": [
    "# Initialize variable(s) with initial values\n",
    "s.run(tf.global_variables_initializer())\n",
    "\n",
    "# Evaluating shared variable (outside symbolicd graph)\n",
    "print(\"Initial value\", s.run(shared_vector_1))\n",
    "\n",
    "# Within symbolic graph you use them just\n",
    "# as any other inout or transformation, not \"get value\" needed"
   ]
  },
  {
   "cell_type": "code",
   "execution_count": 24,
   "metadata": {},
   "outputs": [
    {
     "name": "stdout",
     "output_type": "stream",
     "text": [
      "New value [0. 1. 2. 3. 4.]\n"
     ]
    }
   ],
   "source": [
    "# Setting a new value\n",
    "s.run(shared_vector_1.assign(np.arange(5)))\n",
    "\n",
    "# Getting that new value\n",
    "print(\"New value\", s.run(shared_vector_1))"
   ]
  },
  {
   "cell_type": "markdown",
   "metadata": {},
   "source": [
    "# tf.gradients - why graphs matter\n",
    "* Tensorflow can compute derivatives and gradients automatically using the computation graph\n",
    "* True to its name it can manage matrix derivatives\n",
    "* Gradients are computed as a product of elementary derivatives via the chain rule:\n",
    "\n",
    "$$ {\\partial f(g(x)) \\over \\partial x} = {\\partial f(g(x)) \\over \\partial g(x)}\\cdot {\\partial g(x) \\over \\partial x} $$\n",
    "\n",
    "It can get you the derivative of any graph as long as it knows how to differentiate elementary operations"
   ]
  },
  {
   "cell_type": "code",
   "execution_count": 25,
   "metadata": {},
   "outputs": [
    {
     "name": "stderr",
     "output_type": "stream",
     "text": [
      "W0724 10:40:54.784908 140629097203520 deprecation.py:323] From /home/atenagm/.virtualenvs/hse/local/lib/python3.6/site-packages/tensorflow/python/ops/math_grad.py:1205: add_dispatch_support.<locals>.wrapper (from tensorflow.python.ops.array_ops) is deprecated and will be removed in a future version.\n",
      "Instructions for updating:\n",
      "Use tf.where in 2.0, which has the same broadcast rule as np.where\n"
     ]
    }
   ],
   "source": [
    "my_scalar = tf.placeholder('float32')\n",
    "\n",
    "scalar_squared = my_scalar**2\n",
    "\n",
    "# A derivative of scalar_squared by my_scalar\n",
    "derivative = tf.gradients(scalar_squared, [my_scalar, ])"
   ]
  },
  {
   "cell_type": "code",
   "execution_count": 26,
   "metadata": {},
   "outputs": [
    {
     "data": {
      "text/plain": [
       "[<tf.Tensor 'gradients/pow_1_grad/Reshape:0' shape=<unknown> dtype=float32>]"
      ]
     },
     "execution_count": 26,
     "metadata": {},
     "output_type": "execute_result"
    }
   ],
   "source": [
    "derivative"
   ]
  },
  {
   "cell_type": "code",
   "execution_count": 27,
   "metadata": {},
   "outputs": [
    {
     "data": {
      "image/png": "[encoded data removed]",
      "text/plain": [
       "<Figure size 432x288 with 1 Axes>"
      ]
     },
     "metadata": {
      "needs_background": "light"
     },
     "output_type": "display_data"
    }
   ],
   "source": [
    "import matplotlib.pyplot as plt\n",
    "%matplotlib inline\n",
    "\n",
    "x = np.linspace(-3, 3)\n",
    "x_squared, x_squared_der = s.run([scalar_squared, derivative[0]],\n",
    "                                 {my_scalar:x})\n",
    "\n",
    "plt.plot(x, x_squared,label=\"$x^2$\")\n",
    "plt.plot(x, x_squared_der, label=r\"$\\frac{dx^2}{dx}$\")\n",
    "plt.legend();"
   ]
  },
  {
   "cell_type": "markdown",
   "metadata": {},
   "source": [
    "# Why that rocks"
   ]
  },
  {
   "cell_type": "code",
   "execution_count": 28,
   "metadata": {},
   "outputs": [],
   "source": [
    "my_vector = tf.placeholder('float32', [None])\n",
    "# Compute the gradient of the next weird function over my_scalar and my_vector\n",
    "# Warning! Trying to understand the meaning of that function may result in permanent brain damage\n",
    "weird_psychotic_function = tf.reduce_mean(\n",
    "    (my_vector+my_scalar)**(1+tf.nn.moments(my_vector,[0])[1]) + \n",
    "    1./ tf.atan(my_scalar))/(my_scalar**2 + 1) + 0.01*tf.sin(\n",
    "    2*my_scalar**1.5)*(tf.reduce_sum(my_vector)* my_scalar**2\n",
    "                      )*tf.exp((my_scalar-4)**2)/(\n",
    "    1+tf.exp((my_scalar-4)**2))*(1.-(tf.exp(-(my_scalar-4)**2)\n",
    "                                    )/(1+tf.exp(-(my_scalar-4)**2)))**2\n",
    "\n",
    "der_by_scalar = tf.gradients(weird_psychotic_function, my_scalar)\n",
    "der_by_vector = tf.gradients(weird_psychotic_function, my_vector)"
   ]
  },
  {
   "cell_type": "code",
   "execution_count": 29,
   "metadata": {},
   "outputs": [
    {
     "data": {
      "image/png": "[encoded data removed]",
      "text/plain": [
       "<Figure size 432x288 with 1 Axes>"
      ]
     },
     "metadata": {
      "needs_background": "light"
     },
     "output_type": "display_data"
    }
   ],
   "source": [
    "# Plotting the derivative\n",
    "scalar_space = np.linspace(1, 7, 100)\n",
    "\n",
    "y = [s.run(weird_psychotic_function, {my_scalar:x, my_vector:[1, 2, 3]})\n",
    "     for x in scalar_space]\n",
    "\n",
    "plt.plot(scalar_space, y, label='function')\n",
    "\n",
    "y_der_by_scalar = [s.run(der_by_scalar,\n",
    "                         {my_scalar:x, my_vector:[1, 2, 3]})\n",
    "                   for x in scalar_space]\n",
    "\n",
    "plt.plot(scalar_space, y_der_by_scalar, label='derivative')\n",
    "plt.grid()\n",
    "plt.legend();"
   ]
  },
  {
   "cell_type": "markdown",
   "metadata": {},
   "source": [
    "# Almost done - optimizers\n",
    "\n",
    "While you can perform gradient descent by hand with automatic grads from above, tensorflow also has some optimization methods implemented for you. Recall momentum & rmsprop?"
   ]
  },
  {
   "cell_type": "code",
   "execution_count": 30,
   "metadata": {},
   "outputs": [],
   "source": [
    "y_guess = tf.Variable(np.zeros(2, dtype='float32'))\n",
    "y_true = tf.range(1, 3, dtype='float32')\n",
    "loss = tf.reduce_mean((y_guess - y_true + tf.random_normal([2]))**2) \n",
    "#loss = tf.reduce_mean((y_guess - y_true)**2) \n",
    "optimizer = tf.train.MomentumOptimizer(0.01, 0.5).minimize(\n",
    "    loss, var_list=y_guess)"
   ]
  },
  {
   "cell_type": "code",
   "execution_count": 49,
   "metadata": {},
   "outputs": [
    {
     "data": {
      "image/png": "[encoded data removed]",
      "text/plain": [
       "<Figure size 432x288 with 1 Axes>"
      ]
     },
     "metadata": {
      "needs_background": "light"
     },
     "output_type": "display_data"
    }
   ],
   "source": [
    "from matplotlib import animation, rc\n",
    "import matplotlib_utils\n",
    "from IPython.display import HTML, display_html\n",
    "\n",
    "fig, ax = plt.subplots()\n",
    "y_true_value = s.run(y_true)\n",
    "level_x = np.arange(0, 2, 0.02)\n",
    "level_y = np.arange(0, 3, 0.02)\n",
    "X, Y = np.meshgrid(level_x, level_y)\n",
    "Z = (X - y_true_value[0])**2 + (Y - y_true_value[1])**2\n",
    "ax.set_xlim(-0.02, 2)\n",
    "ax.set_ylim(-0.02, 3)\n",
    "s.run(tf.global_variables_initializer())\n",
    "ax.scatter(*s.run(y_true), c='red')\n",
    "contour = ax.contour(X, Y, Z, 10)\n",
    "ax.clabel(contour, inline=1, fontsize=10)\n",
    "line, = ax.plot([], [], lw=2)\n",
    "\n",
    "def init():\n",
    "    line.set_data([], [])\n",
    "    return (line,)\n",
    "\n",
    "guesses = [s.run(y_guess)]\n",
    "\n",
    "def animate(i):\n",
    "    s.run(optimizer)\n",
    "    guesses.append(s.run(y_guess))\n",
    "    line.set_data(*zip(*guesses))\n",
    "    return (line,)\n",
    "\n",
    "anim = animation.FuncAnimation(fig, animate, init_func=init,\n",
    "                               frames=400, interval=20, blit=True)"
   ]
  },
  {
   "cell_type": "code",
   "execution_count": 48,
   "metadata": {},
   "outputs": [],
   "source": [
    "plt.rcParams['animation.ffmpeg_path'] = u'/usr/bin/ffmpeg'"
   ]
  },
  {
   "cell_type": "code",
   "execution_count": 50,
   "metadata": {},
   "outputs": [
    {
     "data": {
      "text/html": [
       "<video width=\"432\" height=\"288\" controls autoplay loop>\n",
       "  <source type=\"video/mp4\" src=\"data:video/mp4;base64,AAAAHGZ0eXBNNFYgAAACAGlzb21pc28yYXZjMQAAAAhmcmVlAAC5iW1kYXQAAAKuBgX//6rcRem9\n",
       "5tlIt5Ys2CDZI+7veDI2NCAtIGNvcmUgMTUyIHIyODU0IGU5YTU5MDMgLSBILjI2NC9NUEVHLTQg\n",
       "QVZDIGNvZGVjIC0gQ29weWxlZnQgMjAwMy0yMDE3IC0gaHR0cDovL3d3dy52aWRlb2xhbi5vcmcv\n",
       "eDI2NC5odG1sIC0gb3B0aW9uczogY2FiYWM9MSByZWY9MyBkZWJsb2NrPTE6MDowIGFuYWx5c2U9\n",
       "MHgzOjB4MTEzIG1lPWhleCBzdWJtZT03IHBzeT0xIHBzeV9yZD0xLjAwOjAuMDAgbWl4ZWRfcmVm\n",
       "PTEgbWVfcmFuZ2U9MTYgY2hyb21hX21lPTEgdHJlbGxpcz0xIDh4OGRjdD0xIGNxbT0wIGRlYWR6\n",
       "b25lPTIxLDExIGZhc3RfcHNraXA9MSBjaHJvbWFfcXBfb2Zmc2V0PS0yIHRocmVhZHM9OSBsb29r\n",
       "YWhlYWRfdGhyZWFkcz0xIHNsaWNlZF90aHJlYWRzPTAgbnI9MCBkZWNpbWF0ZT0xIGludGVybGFj\n",
       "ZWQ9MCBibHVyYXlfY29tcGF0PTAgY29uc3RyYWluZWRfaW50cmE9MCBiZnJhbWVzPTMgYl9weXJh\n",
       "bWlkPTIgYl9hZGFwdD0xIGJfYmlhcz0wIGRpcmVjdD0xIHdlaWdodGI9MSBvcGVuX2dvcD0wIHdl\n",
       "aWdodHA9MiBrZXlpbnQ9MjUwIGtleWludF9taW49MjUgc2NlbmVjdXQ9NDAgaW50cmFfcmVmcmVz\n",
       "aD0wIHJjX2xvb2thaGVhZD00MCByYz1jcmYgbWJ0cmVlPTEgY3JmPTIzLjAgcWNvbXA9MC42MCBx\n",
       "cG1pbj0wIHFwbWF4PTY5IHFwc3RlcD00IGlwX3JhdGlvPTEuNDAgYXE9MToxLjAwAIAAADIzZYiE\n",
       "AC///vau/MsrRwuVLh1Ze7NR8uhJcv2IMH1oAAADAADVayF8oYJVUBjg5Cl8UC950wnQObmxLpMS\n",
       "eTd2N1o7ZvU7nZLqidQWs9IRqH4qZFuUNOvgrgAArGB7WlESNB735J/CfrjEy3i5zjzWx5r7oD4b\n",
       "7vRGf5YZpSE2SfCltWRnqtLPBS3FxRjhpp/BEdar5txSfEu67R/ppgZwAi2i8ff512MwmU2ndVwZ\n",
       "0/IypwbXeLiexIGKwjGLSLtuFQ6Y/OKysfXRdbpNhUrKtfRj7PsZ4sEuP5y4zl61S+z6VZzYCdA7\n",
       "422O/g7ogLDysqUE24GpHGaJCX2wbS68ujTHQP6XxiSrNlnDwZHgbp5EeVkCuMJlhlbRejAAAW5E\n",
       "i95ObYO5PsuB/yXJXIr296w2R4KtEWts2QxCeaTyILNtSj0FAa6n+Sm+7xuX2JriZx97d2rE/cAU\n",
       "Qsh/+Ymis26EZW9S/cjgVqTEtyVS3CIlK2Ezdp99jK7/nX0GHUivuh8QdJ4bhVPEmo5B7TQYe9Nv\n",
       "n+ebyMRkTx7hvj05vOEfMTes/dwPLUI91WSm8NQ11fuo1LrBS7pJhE73vxY1JjcZWnegaFLpPjAo\n",
       "+BqceCYe5S3Av97ANnEBmzojm/SDmWarQluOhREg6XGZMu4a7snjhzyH4/KonlxVMyXTB8Ya3dGT\n",
       "vrxM2T8GRxsFP+Ki2XIeafZhzaICPKgU1x2LYZqQc9bRDlrWDpuTNmcCbrO7DXBPWt4+vc4y9j4f\n",
       "9IbTpWR0gti3hfugAL5SqzBQBPPDOD6Y8UFjbWEdqCKzj/3OA6QpBOtIpMv8RPGtEtT4zpsL5DgU\n",
       "W7Veh556LI0Gg2s6EOTSBZVPhwxULIDHJ4lu03Q4tzre/frYdOiQv6jsVE3nfmYai+kwFdN6umAJ\n",
       "NF2es2HeJ6s8al37PrMlToRBo4xG0fUr2D3h2KAIiqdNTLWxNiMbC0LlGN11lvyX+Ahm0GVXideP\n",
       "ZkoIbgwLSFFn+qsWQi1gd5YlvJF+grCkWEC4T6N+MBdJXBfELB0P7DGADeeCiixt23fF6RarigDj\n",
       "svDNkTR+V+9XUMdHw/r9y+xO7it8Vyuyb5IT0k1W8+dFsC6mgDXeLVn/GbNZF3YGWU5EG8Y7nNsj\n",
       "bqko6CZeuErm8/ib08sKyMf/AAs7SrpKVD0cArb4AdKJIDbC2QNrWjiENcXzYlCSxePQmmUdD6Mp\n",
       "RY+Ih/GAtAGYIicR2lJheHH0YIQkwjUDrCJbZFeCnESU2nGNJoBWg14ogfTtthCkfxV3eFvcRPTK\n",
       "e+iEpUbwuIvmByipRxXu4m/5ZbB/ehGgXmszbLWVf+4PJebyN/wJxNw1Nrnm+FQmwW4U5fw9Uz+r\n",
       "qw3L3V3bjLxkEL0N6FF3N23po/nf7SCqgtG2VPUz6EZ4DUBF9C7KDffgpo3XMOrCq0UelxcgbN5A\n",
       "0BVURaH1iEZ0thD0RIdt8IMc7IvMYC4fUKDSWlLTx3Rn2vg1xTeIjoWnawISnUuTAgeNuhdyHwZ0\n",
       "L9y6QJF7dDGmEBx2G8gLcI5UYPTDN71STlxmoRsXhCRfvFysfMcjpg5k1qs459KWwsyLeKD36EWR\n",
       "QvjCUgtobDK0vn+lToJZzDw2LPj41HdFZ4GUgC+woiUC6bNdDA0VQ/ggV7PwTXzCmDDKwJOvcBGE\n",
       "XuAh+gr4F6rXz071XuvnJnsoYPA0FCK64ypHxPUl0Lhq8fEME1eJb4NcTtI/TS65nCJUdMpA46Ev\n",
       "BT99o/i4QlmyGpZMXdmf0ZBvR6T6Btxwt3PAaQVIZuNrsdj1NGyCXwnHIxTFqGsAwDgywa1R7XPT\n",
       "srq7IBWGTZPwCRQAYMa3ixuXJgQEMbmfGIgCNj6J350MvUBV9UsmzWd9ZKKHEQkW/avZIKgXkWZC\n",
       "wsEPQpfInl4W7sNehHscSQ6iY1EYowTYkrbWiW8ZNO3vHKtlf7gAIbIfsS30YogXjQD80UyzlOpV\n",
       "nstBi0nEFYJzbRPp3Z1dysKg9MFa0DB92Q1NBqsCB+G4AQUl+BjY7LKPky0JmZCauW6cdAay0JLP\n",
       "aYRjJ3UMNEfHhhsXA8B1RGd2NZooaTXn544v18cWFcRrXuEUl97TITldnYCQRfEaAFL2pnoOO+wv\n",
       "odxXniGP7TAemSC1yPDBzoGf6WfXKcxwVXC/nA5Gg7//5cPAfhwd+gKRaEC81Sn08xm4kpo4mca9\n",
       "hZxuTeNMwRMuL9yXQQmauCe3uNVe5LO0X9FVqA1xWVlWaqAi9FSYMMYAr/ii/jr++YbxNCRi3dgX\n",
       "D1TuFuHplz/H0GUBpVbd1ZJ52yuqiGThmmkqN9IwDzn46P0sebGwjxu2wghcnfCxmvkaippiizdB\n",
       "3Y9sL8LO2Gj5yBaiVxHkQGbo5On3+yJ1RwuFk9l2fYbtrgPH9ZF01jfRnIP8vJUT/DoiHNb7zUw9\n",
       "milD0m+r+P8kGAWS5oNlKATuKhwLMgDQvL/2Xxjlzs4LzzJshq45AcjqNsJZAtUM/nkvT5c+tl99\n",
       "LyNFA86+FmYJH4JADRpYYOg6NHMWsAwE1amLcFR9r0R4cEtKUAmpKcI/sJfRptbhPTp3pNXVZkOg\n",
       "lxUAVXLxhAvM7ve5ct6bpU3I6pDH2Liipvmm6CmJ3v6yuNm3OOXwWQTatKKNmZ25NhR7ceooPg2G\n",
       "NDGhgnZbnPJm8Rp525sJPs6z/SR7sklallac95AWnxIy2+rCNAy7o0LS+XRCi8zEf218IlxGL1Vz\n",
       "0C6j9kt0+cpKE50f0Wjb/wgibTcyUS4u+pi0bEmRvFw8jNWtEf4XrkTeVHv7xnrEZnk30j5tonXH\n",
       "bvbfiA6S2Jz6pQRKah4FvICQmDUzXnP9XqZ12kJBmPpEBqJ8ccAQFt/7gxhAY4uN7ztlgFkA87lX\n",
       "FGQicH6wLEVRAZDiMfAOwhRN/i2L7d8LnqvC1VGMaWJu4jyYsPaafC/C5gfb8oI3qmh+B1lawVS2\n",
       "cIaNkm6AZ6ruPoNu6oYG6lixJFnn/fkNl/ZB8z5hAvLKmxbXE/Xm6bdt0CgvaAEW1hpi+eYIwsTA\n",
       "dQLonddupQ6NI+p9TlwkeSKS3bdRnusB2CC8NvRXjHhK9F9l7jgurgS99nGSreW53pi9c3gotVy0\n",
       "CLvCAKben0UrdTfUz4yk/cmyGPzw3cxOHjnhtKiSOGsPxkD8HjKBbxaAgwJyRrlhLidU9tsRJ58G\n",
       "xa6I+Dzg6irCZAn8nm9fFRjQvCjRCCqvel+gyrpPmAkWUHs1bbg8MbXKL0yzblH8WkwQaz/4B+Hd\n",
       "Z23tkPXBL+neec86bkyyF/fvBXSYkqrpNofZeAvySsUSZUNjrStV1UQW9jZ/Pv1jtywNG3Vuednn\n",
       "pDXn+swhe42VB5Xf2HILTdXdsoRXsHkw/bnZ7YXFPSD/mp7KSJJJKkBeGO8PgYtoQHeRXW45vaj6\n",
       "kAbtxQtxfc2hQihyM3+PQ+v+/46+MvpnjH6rm5xwQgT97znqaX7LK8Gf/KJ448pvpXvyuCYtgpvh\n",
       "dUPp/oCeQTD+DgZ1CKVWFlwtdfVTaqh+yoecR4nxb3ejR31GA65zY0GHB9XLCrBowOXoidwMHtwN\n",
       "yYKZEjcs2WBWhi6HMjSVOh2MjU69gz/xVdzenkfy/Xa7So/XatBcWxcMYMrGqLS5GZpBEDlW03z4\n",
       "ODcsQGWqefyp3El6oYpvIaBArM2Hr8btRX7wKwP3UmDInMTNpGVQz99L1ia3QXpyWzEdlSCQGIgl\n",
       "L3svFXFB7v3UvQYKY/GEX16FVOFWZqdH66Jl/mNvzPjTpCtns563LIcqbmf9tXmaHelBIY4/kDUQ\n",
       "7RCkTgR7gy63aoHTYqeLfi57kFTPOWvMZw74TRhcZ7NGpJ5TET08JWN2aNg3mSzQE4Q9UNduuO+z\n",
       "YsE+4OYMA18oBeYMF0m69wagodMN7pYT/T+HuSQG6NozdfxrS3AXm+ZnemIQOh//hhyftQknzT9t\n",
       "8dgTlfxhi3Wi5NbF/ZLVSOa2XEBnmmvM2F9w8Qs00bQ1o9TpP9pPPv8c5Ly7p0n1C+UppoRq8yOw\n",
       "0w4SdpWm09Wnep3B57GV8E6s1KqMZZizdYfAynjyqNFPoqWhFfgdCJ5jofCx7PSR40OIrPjIl0LS\n",
       "A00cRVSjvmby+5aN+y6uq8EhZ/9kXXN7HmyaURjwkgjnS7KKlgZfAipaR/CorYK+6+gc+cwvbTpJ\n",
       "pDMiOm5VxeXpRevzpKuTQySkD5LyQCp1/L/xsdijXZCUERGIh4t7vYhEg/bn/Hkn3J///LcjjVZN\n",
       "xIurPIAm/u/CNn1nG3KE/UwAhI2bQhoNEMveBU53NuFrixfOOL747UNKQGFVeVvaCOOZRMJ+4j2y\n",
       "GMyx1lgNO5oPhU/PFIFrrplQW+6Fs+w1XFRSt3YSoVczQwagvnkm8WuDjjo1JBXcaloWyGEFR3gM\n",
       "CjIZ8+76YXPzzPGyLn1yFgyZVBmbi/rgBtyZRAAnNKhKAcxD2xoNGylejLsTb8RV8OlczXUn7dnL\n",
       "3mza3pimPCImL5DEyL+60dq5CcdQ6PW2dBv0fB5x7F+7KwKMiZGFrDX/NQKkYpQepYUTMPMgWedm\n",
       "42SCUW85XCTRberJv3LMFluXNE2/2NxVZU2kF/IeTQJmry3tegQormaw2Ayu1nTIbUIgLR2U+mI1\n",
       "tcsM7m6SIYFWHhuQy8UidBLtMuClj0pv/Tigogvv/Tux98myQCKvoavWtmX3t2E8+F34yqoRd03A\n",
       "qIlEPJ3F+yUHZpro7C4ambyeHJhFTuFQa3Ej5/0TwLItcanT5dFecWN/i76CEKC1T/ob+aGLeJ71\n",
       "VWhLxlLGC/+arJ0gf4QDVz9bbEqiYKzKM4p9OWErs1w3SQ4QaAQWnnyXUuJXA5zoBOKk3JAjh7X4\n",
       "w7q86n+VXwF7gmNETy57jAsgGWQ5NiV513aB1trCwiYeoHNr6yYlpt2c11jlAHW1niPHJnBnyVR8\n",
       "nqYpnNqrMZAdigrGQlLy9CMGWC6gKIJffbFWh6QAGJtDY6SKd5spbtQfWVRV5iZiEkqfPNSuXatt\n",
       "bEQp2oUVQhUlffaCdsP3M2rLtZne3BjyRVa3suJFr82jSdm+LrVEhENNkm9R2gG4w9SexQHvkgsV\n",
       "JDQ8ih0cToAWHRrEgY9XY6p2LHitYI+xxHXUoU3SC75/3vUVxFCi21Klvdin5KENNotU9t9V1Mbl\n",
       "OU/2RB6CdFYeWBpfKz2K1Ra+oIG/zs+1+nN3poEde2Hv6vejCyHXM3iQSrVIeK2xycdI2n1YYyEw\n",
       "xjEL7lIPFAeV2dGUqbyL6SUrVpS2FSKzd+4g1xDgAPs7/cgXtaYs/h2YyquAoAS2QbFAOFk+OfN/\n",
       "xzAmxidh0ce0WSuQFslIfHQxF6cXZg6V299/vI0oV8h+em6y8ahRhsruf7FkoKPYuPDmo7ZIINsS\n",
       "GqOr/HsxInW3kVVtv5ATI2T3l7j2CYjKB2MWCO7YvV4DI0BVF5v0PImvYZRCOdOMDN+jVq925nOJ\n",
       "Rod2rI8lsylBZO1bKxj+xwX9xgJJfl/+hYrKrM/tWadMAWERAZ6Eu0lqPH4gfuSlgMrsAoro34nY\n",
       "9/xHtpiHV/2wrEYcdTWa3tj7Zs2/WjvCrANqcAKj+/AVtWZA6gafUkm/E7myCOXxFw+otBLCcuL+\n",
       "VN8ehZQPoCbIxjOc3SrPpEfKK1iYSCwL8PQagVhzYEFCN/Jacvlv4SxbMb5vEvA81Byepn4pn10t\n",
       "jGqjw5v/1P5naT+zQZQUZsLCJi5OwVkSbubkT+cxxht2zrSlwqot/qXlb4x40L54Lds9IYdwOb7X\n",
       "sM3fx7iGdk+v2c7I+hOsw1ymKtZxX20FE+a3lyMM3qLfcZNcHcOdPzsY/enyVj6HsEC7GIHZs1Vx\n",
       "VV0KerEZAZwVU9d368Xh3sGQkExfFInT5+PiE+qt8roQffZkQsx65XHsKKknUw9qkSyK0xqOfDTW\n",
       "De9WWW988EhZLxiy6cRi7OL43hHkwu/Fkw1B/mrl0HPV1gDeJ7v8K39fj9oMsreEia7KHaJlv7ys\n",
       "BIXYPLUErHju1HuAi93Q9yJcDuYvWVZ0vXAO+Z6AwjCpv4reCjEj25mYXF8jCE9GCunzHJKxDJbp\n",
       "Bj4GTaxY/c+O2YKvgTU0OSEFq6HNpJkPLFdnBEo9x5CRDP4yCmxXir5rjugsu2ggQk16U99iCEun\n",
       "/sh2fApZv8CezZaHt3ymI1xCcKjm1kbH9xUGOGwkYINKOGkKt7rRzaJlZRHCyWq6uZv6oWz03i/W\n",
       "P/RUIzAthiu6H2ebj/3GNMnsTHG3MatfhJPsxztouulNX48tdbPdCoZ3qOKP2WUkHH5WSXxXb7L4\n",
       "Ctr2xd168EjaWYqVe6ANPFe1sPQB+i4+5VZGb55bsvzvtFZdNshSthcsIxSZX3TIbK3irsCK0+Ns\n",
       "tZi7cTBF63yhl/1EU7hKs+A2KIflzSi6qurlJMO55J3nUfpJIDxZiD22ISfLu2+7pyT4AAQLqnGr\n",
       "XO1wRkh+mVvJ4LWYH2orGzhgfH/QjKT6Y9aWqHpgpnlJlf0Pc13Aj+DOiXEg9i3PH8k8YOEk/tsZ\n",
       "M90lBxLLIZsZL3/lztZMOKULhtv+FIYMhtBqDyCGuBe2SzSOe6/lVPFXEPbmfnws8xi41OLzk0ow\n",
       "UpIk3GXvmhV8ZOcNmLX9IUsOLKtP6DLSDk0E5XjmEfuFGiMkpdG0dzBt2ASfS4Wwx8DyWPtOQRjE\n",
       "QpEFFYV3w78MEo3sHU0eri3t1fXXTwOrFCbnpAWGp5anLRbOjnfxt+6lYtlX8EwAOpf2cVHxEdh1\n",
       "M9iZ1945N+fFp6FS9HEXneRWdjwK5VumA50zjBAqBIh1h+c0nZh4IgyKA4gStbtWLEr2Z3L4vRlr\n",
       "VT2PBzdOn241X9hp25ub2NQg0AGIHLqnimTOf7bmTn+6s4BVuYGZc4n9LdGs6tSKrHb5uR2tDMQL\n",
       "+gkPTPjHsuBhI1frayvn181SDVQfG5ySbnZNb9mnLbbjGV7IISEpq1uQHcYwAMAtvpOH1VbywPjL\n",
       "Uv8tlIn+JavIuxM65r8nh0wxBgRfV1T5RUqiea8P8k2asPTzF8zytMWs5oTIUmQlcfEJUMdOaXpt\n",
       "KTJkcE+vmb8rVHazCfaa0wdY0vL4ryhRzSZp8tmZcU/KJMEk8bf3J/bLNfOubFsmJNd0orfDUrKX\n",
       "s13okKidjtOG3PRhMwM32eiSjemuZSKnqzXvedUnm+R64oJknMxuOj02FG1au7sr/JGCiWvEzxYc\n",
       "++YpZH6nvB6bo6lyyIM9+SIyaidPa75zLQc6Q0bkm2jfm6IkzVZ5FsZYrLr8qxIQTXGZjGiPFq1Q\n",
       "xzem6ruQT0VsGD1qTgkmcZrhE2ZtHLQXG5P1mupijJmIbTh0E1jpzm/SWA5Cuw/LsL7O46jddtDr\n",
       "uRT5Lq/N46iLnucPO4tP4B6WIHV4qz4OdfGDjcrZ2/002qhC4H6U4VCqhFLJsoSOqXwvT8bEmXIG\n",
       "RLJL98OyfOVVD9EKvDtX6CslGR7xlNWSvXB236A/aUUKYSQi5s1u6liAJ++n7actVH+HM+WhUoR+\n",
       "dk+4dhiXrsNjQXHOFUVtvZQMh9s54Sd0R4BOnv0DtPGVxKtXCNImPoqliqAn/jyHcFeg5aL78SZ2\n",
       "Be1iWWdAAcGaW8s6pw01hhcAjTpUFuEJRCemMD0sL96BOJ5wzzAvFttef9n59yjnM9Bk+NWy+fDJ\n",
       "gc2puAintEHiMCfqj1bi3ZbfUDi5nr3QohuKvL3wr8CKT8lWTyWWQMvR9veLc1rq7gUmuIebQSKm\n",
       "vUCMKbFFuvRiyekcmEyLdCTmnh54/5rqqpLLbukLPFA+/2l7zVaFgFXodQoL90s9EGwpjD3V4q4P\n",
       "1ViNQ7IGaBdoMru4XhMSpvkJThNN0pd0IaneCVwv1d0kVpIRe/cTrwajLW/iFTXgQwd7nJmk/Lop\n",
       "ep4yheRcgxUrlkC6EQiiE3TocSN4ViZ3EsJDaqiGf5djTlgb4KPdxiO+40y53Ja3T50onRCbz9Lt\n",
       "3JyBD/puzYO9v3tXl55l3cWKFsPoXe2BO0hb2j0a1+FhsW+2WMnuwTjZYvE/NrWLyoeGTHZIAOg3\n",
       "88rqdaVyPn1+S1Ar5i4GnpG5Yi+5lbLzH1yBorSLfeyIjNsyW3VBMaqa3xM0/te2VbIMvT/pjzq8\n",
       "2h+Q68sRADO1MobqV9hUrZThyGhATKXCNBqxw0X8R+/RCbFfxxJJicaPhcdW7tiUtBD+I06JJY8k\n",
       "sTTGbp7mITWSu+eXkREcUOlkc4dQyC/10BsI5XmMl9UjIKtzcoe7GGUHq39XITw3KrTBvhN3PRPc\n",
       "DYdVDrMQ6rBVJ1i8klbZIZ+WcFrSbvx3lF5CnBkhSZ3xMmH8zquGLHrJTmWcapxpZWStivD8KFyt\n",
       "3MzG03QuVhjju+0lokqozfRBzWLkwU3g42JPDlyd55h7q5paD3MxnPOwKa8AmZQ0Yvk5zfEOs10V\n",
       "YdmRIkE5SuPgmSi/FpgdkRn+3n8x3Nze9XvUzdJ5uUbzc2025taELu3Sy9luWlhb+03fN5P6lorI\n",
       "wL+tuyKLa8kylbE8JqRFqeIda76Zz2kojmCaYr/AWYiUbHkQQ6bD/BrE043cL83v698QbFiiWc7u\n",
       "MY+saaJjvJzQKs/xXKX5EoMx7Ul8tpN/uQjG783jRyr88wHIf07W/1O5bhPrnMstNE2necNJOl7+\n",
       "a3MBRNywVeQqlqUjP9D1GxT2yQeSHlT3XwT6ivUtKF17e9YF2h6TVWSiqGMb3vCsrx0cOFWK8QE5\n",
       "431/zgd5Z8ybNk9wWqyAXOI5t7f8FRA7h97Sv2nfRARgVOBTvNlR9iMu1EnrGxm7y9DGwXu+9tjw\n",
       "2jhzPtCFp5WzMRZZN06K5pAYq4hoy1stRzFWD++YR8+vHj2JdFMKGJFiBq7w49lVZv5/3P/Y2Du2\n",
       "EkrLeN7STw6BnDdZjllkqltKQ60K0/ATtd4e9JRpUrpmgMqoSwnnLHjH988AewpdfvmKTRrxT0cD\n",
       "dOehJsHopPokfSmfVvVmtqi74Nk+zKICzI9I62GX0HR+nCz9mUwrLgAkiMtyAJ1Pe7NWPgOwQANG\n",
       "qQkhcgXg1s9rMpJVwHDqK+wG9R4tkO7N32Zq8bNE9vCIg13Iuz92ClaOYHj2+jJEc79nAn+DAz2R\n",
       "xAmwNXYZe8Ygy5Th5CcvNVBbS+e5HPc1gEgmWJUMPJ5N2hvCA9163RmGHxzVTqsPg8gNoPCaVSmN\n",
       "V68RJjgOuUYVjGrObRoT79ytYfKygpuUFsVhDmVN6wimx5Bj5qCVfUvXIXFw8/LxJAd/Fl+k6wMd\n",
       "OUgmBXaa3Y6uLkL2XnwqKEiE90SsLPsNj5IFu28lZDayPLzis25pUgaSrttpvtnvPphNMBqhHsYQ\n",
       "Mt6aeswZHiSKqFJi6Btv6Wj7vFkwZG8N0NionaKtEgjruVacxxcm+rsGeHqidXXnVjXXmpLUlwrI\n",
       "Ob9bRMcrh+vMKE5tGQUUjiYxK8/y1zwauVQAg85xCrOIpBkLfi/eTtG3wu9QDcOH70QVsecZ9T0g\n",
       "yygpce5zQEvonVwneLLLIFltwCzfpEDGmYAwZPJEWIyduiqmPPJxmqDAVvdbFa128H30IOjIARUY\n",
       "ZRwuVguakyC3aMeajzJxbDoRU5lUBeVQZ+h87aN7gRQ3e1oY/oMF8Nn9h3XhTdyUvhXmgSFbh34b\n",
       "Oz8aEMJhR40aYbsRtTKXyueoXIgwEZqCiVKDI/Z4NA1ijJ/IwmvOdXM9z7Np71pxUECW/hxU0Bc0\n",
       "CdA9yvJFcZudcbWboQIgQQ1jm9+mx/mo5WIyA+Ph2CSGtPEcZdu7L0VA9cIKqcs/bcY0Abn7JRO4\n",
       "MLCHbjVo+9SN9Zu9b5woNAqxepeSPRcJqf8JiVJ/IY1xKHCDyXBu5A7LdtcZ2+XAEpiDa645TFB8\n",
       "gpzqbpaZUZH5HXjVbgxcFgFUDtzndv3Wd2tCjPXy6xED+ALrZAng3/hcTbZwcX8GlCpGTFCQWvHG\n",
       "wAtv8TEVTVChSW9BrV0kl1l80OEqmOG4U6tB7TQ5OyAzGfuAoL1P0JBkxVeCQ4D5ldd4arBkbVvH\n",
       "r8G2T/h+hQ6RAAmdrFtZNTbKNomc7cFE7XfHHOwH7HDP2yaDQokvZxCK4/brsCUIv3AtxujEbSm6\n",
       "+zHOxZ9FQfkwSVzEKGihsBgGBpHRUOtVN4AkV7fnW5cNXfqmsIuAMT9Qi7nMmRYTtnJ/hYZHsUZf\n",
       "hquH04C10XImQ+OiMy5RO2RhLKO/7BiUQuw1743MgUTDXHWFa/jI/TpbzNKEvJlQx1dA1uBTSOmK\n",
       "damVsSHBduvEBaG9y1fqNsJXWVp9ymX+7Bt3y8b8Y7RE7ZLoiCDiRKAvLX0Ydq8tBFSA0hbdWM+A\n",
       "hN8hjXqcVQdm+Rn9OV+Ux3IS522dPCs0huHb1rXjUnPv8XbxRCEEYLCH1OY1dpJiyQx0K5fl8rbT\n",
       "kKwbQoAR4c98Vto9XgTzMMGWQh1eLgGbCum/kLVqVCnOXRfc2BjHzILse44MKtT4Bxgq6tbwFW2N\n",
       "SqdrLPc5FR3DMCQSwQq/Lu7yUGz5KFgZipI9Q9nG+aI+7sFp/0IIWTO313vgLgy/EpKggcPXCnTJ\n",
       "mowmxljTcaFphxTj1tQEyXTvUzCK3eX+ajpNMM8AHnhYNPz/1hlHlzwROcGH1VahLjNi44tg87HX\n",
       "/N6XdI94VDWv9pzL2obSXxC/kO1zP+/8DPCKHvyVLjq41nKsYr2lWTMrwZxojFyqJQ8i4EOjY5RZ\n",
       "eSGwVHgQkQ2c0HXrBDpgwRUik0eqZsIFg/n0+TqB91iHn8djsD1/b6oN9Fr8QX8XnJFt/PhLQ2TT\n",
       "fN5P9WNWO5MGzQdmE4xMIzoyeg+3WpD9AasiBPTpf+eFIyhaXn6If71pOPPKNot4Be5HU1/15U7D\n",
       "gDJwFYT7FcpGePrDXTTd/oi72dn3v9voBivgWVeOOL7YfXqKVZ0NndLw171Gr79azeyVHN/ni2p+\n",
       "7c4hyGm+3UP3jvLaBFm4b9fo3y3sNrQ+ghinMWCrBmVWV8vFI9SVVOKjW2rA5d7FQg2KqzW2vTey\n",
       "CzAX0aBI2BhABaXOz3JyweCNbBUCHefD+NegA6ejFIi7T1NVp/D3rg1sxL7BLQfo7KiHWbvwph9U\n",
       "+8cMv6FfOJwuHXyLvJR/JNq78dKSFw2JIiaJnX4XG4irfcGm8lhYJ0HHL7j+AjzMgaotAHssOYiB\n",
       "Dhj/Q8xHxcdqGhdiDAIFb0IjfnjZB627ixLQhbFVdUf/wVvy0I/AFGxogBI5As0m+SK/SY5FLtsm\n",
       "pcWJnwTUUfbFmauIWZEmpwjdWFIaVRZ5sHOryDCiXfNqffDhVyAeVkilGVV7ZOhffZ5Kp/vnRboj\n",
       "/NcujGF/jNSdBMYSejGe4sS4bj2/PXKbgnFRadxfXxtHPc2kjD+fu+6bfdqjy+x4HkBaaZVFeIRB\n",
       "YjDw8HkfNbrJnzbZY284Zu+ccczOiEmoT8n07FlxrMzcjcwhcULdBNhtW9pV8VQbSk/W5sMq8/FD\n",
       "3EsSK5kjcfuAiOe2V7FmhUMWonDLFRB0sLBxw1qFHLqjOmuuKAHdrQDHRxFVpjaNaSwaNN/b2VTO\n",
       "AiwJzbJd4Qeq8YcBVWZuIydy6tPrJg9e/27vFRQtOZsMolaREPXG1E1LN30DUpJuEUkjElIcpWbC\n",
       "2NS7hnnZsytMlOthSAqqJXrUWypgwprxlTh3ByihYgYkgC9ioo0dalfgm4zRPe13wRQGm1k2aDSO\n",
       "M4mvdqfbl4Hzkbct7CT3u8u0bpnpClBY66mW6crFKMuWqqPi5HgdBJKlL8LWLh02zwDlqeJ1JaKX\n",
       "SzUH768gsnIxyyD98YYSXjusReDgbzT06tpZTwbR5H/3HMl0WhOMOI3b6UY2tpjo24lJNKRvd+eW\n",
       "kIKpvJyNS7rGqpFXaeGlUGzWhtANF5o8yiTzGJSo0ssOAYGxpahKO4UCdVkXROOzbKq7K0x92rTv\n",
       "Hd2k6rpTf/7i/0ysLBDUUQWIz0ochOBH3UAYPR6njv4fBaxoAaVHji6rrhHJaAvuU54qK9GJP9VJ\n",
       "reQmOpidBst4pKf95Ro/HucreNScbdV8LX0NZz156AD/U4mAaRIAXpdDK1C10eVI6N3AqL6E9LKO\n",
       "LILXLHf6InCezpQzg95jQF6zMwpy3bhAa0isgOEh1fjlrT7AflvfSjtca6uXGA9mKFUdEYu1BwJ0\n",
       "KYDNxIcVV9KkRdExUFXunGfN1DKmKpnVuKAzxRlnZM2moVb0kbpUMFhcar3y8giOEGfCjrDSCU5b\n",
       "3grEHuRCxRCxF1BRHhWiQN+W+i6sZekE4B4nQIQkjQjpECrPdFOdLPHKYsa6CPLu2RCvCaaavVxo\n",
       "oMU9TxJYtM15sB+WMICDtnNITYDklndBn2VsRzhLxeBfQNUBT3zYbrC2DihCy/4+Q7TeFq82wHzB\n",
       "k3xUuHH2ON9TOdBHJAVQAg43wGCh0awQPn1AhDfLXqujW0t6HIxgOSwOjcYY67UgmIh5hS9Die8t\n",
       "yeX5TiCGhMhxzMKvr1k/yEemfeq1zyQ/bixAp2faoq8Zv8mDCeBLE7gccc8CAIekYuNq6yzMdovb\n",
       "8jgnXBTbg3MG5YC9bP9q/Vi4eF6rAO3MXurtqxSJUbFu11ZjuUOXa6gsga0IpAJB1cxlMoCuUUeb\n",
       "6oy8LcmSPxWwxOemozNPzNZHjhgMEQmJlpiN6e24XgQLn8Ad7ucBDOJjwreyDo9qUJ6i33TRINOJ\n",
       "BIHoKumFAmUwm/kdTdUoiP4fhxkCyHC5kD0vJ6g3ebF1PFGmUvy1A/ROWZNhxK+EbY89geIPL147\n",
       "zMMr2mW9Q0cxzYeCrH1dZXyjXvUpPYpTPjyU8GbY4n8VHO4l+teijxu273jpKew2Fw8CM2OdJ47p\n",
       "v6h7ZZka9+94xWjQPz+rs2mu2G4gXjrF+bpq7oj0DRYYqqie8C+BPgj5+vRBhTk8yxh1gknwXXZP\n",
       "RzrWvCioJembyvF+C7TbdInwAI7A8b+EYO5Ahk2Rl5D6e95nwxWaUwaZ7BD9mcypfRoYgaEO2xLy\n",
       "5EDk/x+tGqzYsxbTKsKAB/wBP3eaCr1UyTtpA8ToD4hPxYna49vQsgbVd+2RzILxpCYEkHuVs6WH\n",
       "93G/a9RW65zFszRCRWjB5s6Ox5RbdVMJ7yT0/tpquEme4wdbXYS4OUTQLlaemkAxMZ0xZhdxpA8H\n",
       "ONFGN3uDIV6xkoyy4xOfFEZ3w28zYUhpRmZk4/jGOiPFLK/KFJjkzpzvCdF6j8Vm62a1fR5eFvmi\n",
       "91yKPjwUyLC+jxLM2sfrnWhrTsOXiKsJz26IIr/Ola7tSgJblszgvfqsVUnFvt+stQKb+xXfGS+k\n",
       "bOnJ3mFP8Sq6h6Z6pOQsS4hHpkRISOKZ9HkfNfs7Mc59dS3yGIN9Ave1qrSLNLuMjo0axesK41Lt\n",
       "Bn/UKbLTpzgnk+461CFCgFSb409pFPIS5i8MFLZfdQKzj23PSIdQN1Q7js6HGrdLe0oNlS39AM6E\n",
       "yPQzLZyF4R/fx+1EgSvVsALc8yxvAgxNkflKiQoKYKXGviN0SH5HBHFtRHKPUglUmVwHkgUM8RVt\n",
       "vIa14ANqwDZLsdRhAGVoFbDjkYkvUgpqoJ70w1YbccFSLqSROjyLUHo4+H2npXYDxdtx53iNDOME\n",
       "L2geRpfd77/745nHdK4S0I+zk4coivcB7kGVfUIlayAAUN8JoTsVAG5Kywbs2f2pjGU+l+ey9kuh\n",
       "fjxJXINU+4b70+d1+E9e8zCKLAEkyrxZ0WnZJWMQu8gnYTPxvXMhpr3U2b7anJunWwz4WtRh1vaB\n",
       "0onm8NuxSLAnez30GQf4uxHE7bTMoyebviTKRFNdw3icndXgE9SNb6TIJFUtDYz6+L7ou/4fVjSy\n",
       "MD0XxCPM+P30FULgPiNj0yv8D6cCC52bd75z4HFMeVFdvN5yu8sqNF8sENlJ8z4a9WxNHNycz+hI\n",
       "FXPC9pVfPfPwL/oF9GJb3WH09rmXhLkNS1oCyU+BM111UJ+yj8+unkz3mKlnEL+y073pZFcZizG1\n",
       "aaGPjczsUO2TlpHl1C/Tb7HVTZSCemyMGJzqK8XcjAEuGJZZhZ7XIFyYOMmT1Jo+4QgClhnqyXEI\n",
       "oHuXyjakG3lTlVdqybBUrsmq7OCLMiYhk1b3dzpnzwwG+ThGU+1+6gLAy0MR+fjo/tCk9K83/9ix\n",
       "u2Q7lt++U2bH/NF1aJPWZVRaK52kItI0rMq4LemhqszK5LJZB7KtLFNfmhHH8QW8R7l/Qwx2eubx\n",
       "D0qzjG54pywlONzde5GtAqNFomLZHJTjeOQmB4wzvtJK/CuJ3RZE4jYgWg0g/yVuDE0k0dAO1GKC\n",
       "WT8Lp2L8cAg+UVI0SkFpeqaEaxBxipVY/lrNFmQyE+KUzTUrofFdEYPITtoGOnsNv1xn/RxbUOji\n",
       "4CyGIwxW4tywExT5MBjqcQWUp/bLZtjm44w9k3My1afq6n/Tdz6CvfGOXYA9+ZAGZd3+YHXLd4VU\n",
       "HZjW1psWixoCZ+CQ+0aJxnEPPRf58sldNEARyro3EGv35v4ppURcFDfEFkxL4efyfQhuWk2Yhqi5\n",
       "XNvIYYsboPstqugKDuYniD4NI9/h+itp/WsiK2AHf9FxjInqIFS/jjPsQOBFqLlE646NE6cT/K+l\n",
       "OZI9YxjBFa2MRP+F2DmuDYPNxlGth61E71hJzmTdIa0gND07Ezfpwql+0KT0fYwO6lfC2jH9mSGB\n",
       "u9H/s6Lvv9QsACm7ZPIudilTocBltwVCz97pnuTvfITYx8lTRTYYUYvm6TtJMORFD+DUJeRtX5cg\n",
       "zlE8smXB8sidLGu/CShVywZsFpfMl//8m/sqnuO9kOCIkTV7QiLgfzm63KLAgFLm98g2AV7iU/rX\n",
       "jSq2KXxc/sNo4aQCSE3CQHPJ3NET2M2DI3AFtu+Y5/iKwNP96X3b8xowKe4YjT6qypKjmkGSlo3a\n",
       "uaeX+9mqNQ4cBsPRm0Cmr0rMa4zPQBmO6DaFtYQ9i8xeohj2IFMth/Dj1Vh4jCge1PWUMAdwYcw7\n",
       "TYsv6WpqIS/5+m3TBkyzyDim1fz+8fxcJu7Bw3Yb1PBimIgN+xAjucwsgEMRLc4kYDowQ/up/5IB\n",
       "tuuTkPzMhX4csTgMv/EpjEktVdkp+AzdQCb0OrJ+kCBY7NYxfvFXzol8qG7y2lFmm0w5sRBYviQO\n",
       "X3tj/9GAAv16ES4IrV/0FhdGiiui2oJ72+T0OhfVXYERwXSlErImx636nqS6ho35XOVdzRjWR25M\n",
       "wLSYIGU2yNHTHEywt3Mu705XsHjJkMnvRZr3gkYlRVusLvUJITkB6UovKEcT5lrGUfcNjdkBNp7Z\n",
       "hkVCWMC/mjDSX9Xwp2cldqhJhxqGzb3UM8bzDtdNZnR5u6I3c5yroThq9XJwAnhem+umo7bdOzsO\n",
       "SjxtZzUjpHQsWbe0azSVEuxSpjDr78oj5VKYf8hnwE1UtXc606MTMRv+jPpP0Y685OI5RXE6TTID\n",
       "g25T9tvfpzO/t0bBWVdvaEfYZH0tuHOTSMx1ZdnJyeTwkhVsiLn2oVGrwwBBMN+yuiHZ6dXa9laV\n",
       "59pYV9ZcHagPZ8c7vYaEm233dqpy100wkTVWNWMubHJNNzGS6BcOrk0rXaiAUaVwBAOM/cV4POh2\n",
       "kFARhQMdmVo2mvVVbHUP7FCYgp2AxQ90sgS28UnICtbjpvXTpwRuKs6/Vd55OWf5hTuAA5EA9PQw\n",
       "m5GJ8FyONJZdh2Y8+S6RQvssOblA07wyKB3hUtEG8/mVJR7u9QRqikqzK4GaEXCRkBvPsRtIBz2Q\n",
       "jzX+xuvVjipEq1m0yZcA/PBoa2ZaAK35lJns7BZ4iS/bg8av3ScPIEhD8eOSa4Wm+Prla3OPaxX5\n",
       "RWNB8GqabRpQJABa0L5Vkd9cqkMsdF80Payc72k8fGrD9gPXWd9I0JUui/Ko5C0GA8szVRoSwIuj\n",
       "d5l6H9WnMR6tpPk4li33A+C3pkjmYf9wWww4SeCktRj4gJoa/4JW5WYdAAp96EwRlqNbqfC4LcgW\n",
       "DXXM1SRw2KY3gobAkC1bQSBWtM4b09AzdpmeIcGYXoVqDwWzEHR3c2PIDeFE9uWe4u6bQBjfBWa5\n",
       "Rd9gCZxExFYel5fOcnpJPJZCduYga8Sdifx7yLjRt+ckOMWs83H7TktOIAznLEhzIPzgm5uZJYQ5\n",
       "T9s+attYACb5vikOjXFKxk1r8nAKptyDbVwzeHQAcQIh6g89XaP3W5yy8R3WadaLWIMWhHqMB/ZZ\n",
       "fn5zRZSAZKyGOS+ma3gbMXrGvwAqHjx//3nwKTTxJDXsaUt761Z86noCtiQA3DW0HOLHzoovaEpX\n",
       "y/XJuH3Gt7jfgr+SX8b5t4LpZQidiuXR6gEkKpwn7nxF6T1NJhZ0tBJCGYm1ng4SswUZzdrMC5Ta\n",
       "IOgVu0XmlegosW7fqU98naN2V0JWZG3RZ2yNJsCx+C99nNmPpQDwCd2VcHoSe9MK+qgL/dGDwumu\n",
       "iiPX+tFUGwEdn1aBEEFaJcMXrPeT9sh8EqZxSR1KNdTDKtZC/qYD6ZuE+Sts76ckpegPnCabwNnd\n",
       "TK+RhPC/B7WefkGMsR4E7Zo2o4GgiW0RvXhmUf4oADgwDee4pKddWbuAOwxwg4WdcyUi+XSyisFe\n",
       "vPB1PMzs+Pvvp9cPm+lwOl3Jt0Ts/Dv1zDw/kdckFCkLIAIMAl/2w1SbxQAhojQaS3uT6YzOu1Mt\n",
       "WX8+gjwPGOCMat5uY0CVOEclK21SwuV4Dg/0xivsnYyFkxNfRfszt5wOuAwJrF2RhxAq8BvFFKUA\n",
       "ZLlG1Q/HGj18gWtMfU4IiiR6DK7FNX+HQUv3CW0ShI5CFWgBFi/WjHSV5MDuzRW73EagFb21xsMY\n",
       "QLFBGN184xO2iz0Jt56ojgH5P9KdNe4Csqw0j2iGTV+sAcR8t/Zy2NtPeTmRmHrqe/+f7ClXnjQJ\n",
       "pn7lIQF6nFHc+4KlxOW3CslHA0ZI1MecqjPeJh6MzFLtOjCeSr4K4NXbNGc7AJGED4Vwg4MO/whd\n",
       "5dHfr/ljeRiZb2ijz49YUq5roudc55TDoz/X6wLM5czcwoJgkvSE6vqp5Bb+f9s1M5w1WIe9jKCR\n",
       "lkaX8S7UdvD5tVPexhKHkX3r4lolCAYIgwLlmXY4+yjS3Vfkqu5hUtMfSucDx89sbASPmjsd/0c0\n",
       "ZHS+estjv8JCAARH5Mx5JACr+dAACnkAAALOQZoibEL//oywHNxOTnPgXYCg2uAaFUX8LkapTCNn\n",
       "wNK1F6hx7Sw0K/vzHleDMDACkyZBRVBot1pNFvqZXPDHRXIRh6nTtEg3ypFfUOUM3o/ZYGX+y87p\n",
       "9Py3LB5FjOdeW7hbbYzA/B/T/ExHzFmQTR5VCDwZKD8RlPt2eV8qhVHWuuEey2vqvq/1mDb5PyDl\n",
       "3wz1sniG7FlestzharQ/DKF1XTg2+LBjpxelNepxPRZF7e/VB7Q1O9R7q2XX315xGenXUDxa5Lix\n",
       "3n03bvg1PXAQQNBagot5LMvHi4jEh+RJNZzRDDW83k9dAbfTEeYXf2SvnNFXW2PJ+ocCqRA/wEON\n",
       "yQYkw8mMIgHuAFwqfyey5nUswWY2iPvKkYO9kTI1PZ7YX3xctm/+gYmA2U9BTWmsd9qv/YiOVIkF\n",
       "7QD2rzWEJP9BwL3LQljqPxw5Pa5NWJb0xEtIg7DHgWx21iPzk8CZgpdpH5rDRc4fxOIcyYGgU1k+\n",
       "Mjdk0jtTz6Qc6uIlFwXHV9IN9uanC0ag1GsvaDHs7FTyXdMkKi5LiEaeGStu8hq5h6OaW+b+ebPV\n",
       "cIpMs0xy1tO43Q7qr1dK0wVA8rJFR7a1ypQ2KTmNFX+1Z4k33UDdWJECLE8hTGJI0JE88m7QZS82\n",
       "4o8wjHQokct8jHH5ceC2EyibolugM22X0oqKqvHN2q8g7izrTQPPTOdDUie9al8rI2BrnfimchxO\n",
       "1rGr2wLUQeekkCCoR1vX8tQFrt7HPhh20RJGSp2Nnk29sWdLQaI8VTtgHHeH0XE3Tlv3GAXbmDd6\n",
       "vJtr8e5TV43RGIys6uHvc87Y88QNK90yuVUfIUjywJ52ODNi7GKuWVG8Bua7gYZ/Tsdmu9J/Pz/9\n",
       "ex9sxuhBzfVnWCOLRou+lUTgYlwS7Kb4XvRe9Tm0UE1w/bU4mbDMTMPPPKMcqUOmAdyo6Y68Timy\n",
       "IRAGHAAAAFkBnkF5H/8H67xSD6n2W770ugMvdYbDIyEjEQxPEnfZyTNuyMtZVBVSi9Z+ty2Uhy3A\n",
       "tUpdI6A1uowhnZi7TUszjoAXPpFY6HtbbK4xO2pK0UqBD+cmY04RMQAAAM5BmkU8IZMphC///oyw\n",
       "hOJyc58APZJh2sqwnsuAo3dimou5pQqD3dPTAHoxy+jUw2XlPMSTI7m/+Dl1n+8ZAHs+NwSy0bVg\n",
       "7uYdMYm/Q7KV8ksmat0z8+/1+XOe62kjWrNxLqn/bxznKmNFM7A4qr2ECaT0KWtIbODbNWtJY/Y7\n",
       "JOJt2gpEsjDAKWjX1YrZvLSDF6mrDE5J9bv+ESr/rPEcAJcDnwdqn1HqaDdSFZxV+WQ4pmulaKnR\n",
       "oukuFLg97cMcZFee3tEwXDr1YDKKgAAAAEdBnmNqU8I/BVU1Yoo1ZgweUnm9jjTcmaULRmvoncXy\n",
       "YulXvBPQs5qpZqJSxm2ckpVD94AW8WLuvSR0BxnvTIZRMWW9GRm20wAAACsBnoRqR/8E8+gMlCXv\n",
       "Ip0LSm7lXxWIZ04iXwAC6BQaYNfX5FV16oRq5DehAAAAc0Gah0moQWiZTBTwv/6MsAJwplNmH7A9\n",
       "4AZ9TWdfUr1NMFyO4DOOt6VB6i7hqWK+QxUHa4QRDey21dtuVeXSuljkJmeM8qPCfOT8W8kxaIas\n",
       "dsOGHNSM3rR/v1uK9euhN+/CFE+2C6oE7e2WGAjGHSPwVzsAAAArAZ6makf/BPT6w9TvzwEasEcv\n",
       "cTex7waPR7qmiz5JTvADW42GjknkERjRrQAAAHxBmqpJ4QpSZTAhf/6MsAAAZQaMGkl4YAsyVa0i\n",
       "Y3Eko3F3J7U/937GvN/Qfrva0VftPcGgq3PGXROaEk2+//PFvuX9G4AQyoFu6GJSnNTkuaGCaLRV\n",
       "18jOaW3GTXDTA68gJI3/KRCRhdp0SMurZkcR8nn+P5rVKS4gLipDAAAANkGeyEU0TCP/AyraSd9i\n",
       "cMB7MJwZfEASw1zUOkqLg1cRgB4ASyKdz3+/vyFyntUf3N54WOAUUAAAACYBnulqR/8E8+P8sOID\n",
       "t7bsd4U+gEwALWfEHziHqHCx7QIyySMQEQAAAFtBmu5JqEFomUwIX//+jLAAAMU93bAFW4S4p8c9\n",
       "pU1RnQRKU1e+DmqpBYlNE4zMXETugVXFy29+HbPEpZSgtCqY8xQUSexRO7HffgVv+toEK5eTFEBv\n",
       "sGiYykEMAAAALEGfDEURLCP/Ays0UABNYfWG9+Lj6xvDAm/9yVKth9gBto3d5tIpYfmLK/zAAAAA\n",
       "IAGfK3RH/wTxiGan2VzS3TXeG6Z5gAC3BFQsib9AzOrBAAAAFAGfLWpH/wTz4/yw4gO3tux3hBdx\n",
       "AAAARUGbL0moQWyZTAhf//6MsAAAxUH/AEI9Sh2yD3ae3AT8uSInoPOAg0baAs7x3/kdw0tXjrZD\n",
       "9+WqeGFyBNCe0PQS2Jj7PwAAAGtBm1NJ4QpSZTAhf/6MsAABindtgGrqTSV4y/s2qbrdQKdb1d9+\n",
       "Z2NKoOG7iMLS7O54DW+Aq9k/QkXaRXZzrZgHyvEubAP/Pr5EIGFunRgJ5DueAsg0C1MRdiU5Trce\n",
       "hrjlFuYHYQNbpnGjcAAAACRBn3FFNEwj/wMq2k7SP+FIw0Zh4XSfd3phkRVOV0nXqo4AS8AAAAAf\n",
       "AZ+QdEf/BPGIZqfZXNLdNd4bmhiAAPf5i8NRGJZWUQAAAB4Bn5JqR/8E8+P8sOIDt7bsd5BMaIAL\n",
       "pWWr0Lk4WcAAAABHQZuVSahBaJlMFPDP/p4QAAF9H3n0fQ4Ab2nWxe5OYUYolNISY1igq4lxFhQ5\n",
       "r6GJlZ1/Q0tb7o+eQEzuE4SI8CUHrwbDIsAAAAAnAZ+0akf/BPT5Gb/xpvx9LwQvaMGAPq8rnC8A\n",
       "COZ3DGMWDtDWiorZAAAAekGbuUnhClJlMCGf/p4QAAF9FYzkcdW8AcolcN1TR03Jpibq85JeGiKz\n",
       "LwOJqqGqZN1nPygaQaQUBT6DrOGMHaQFMB9vueYAUG8R6roMrzDekqRNUSKocGapt+S5DauHztcX\n",
       "YxxJ5be0sRVt0UUbLnGFZ68yRsEln/SAAAAAI0Gf10U0TCP/AyraTtI/4UjDRmHhdJ93emGRFU5W\n",
       "cQuLALaBAAAAHQGf9nRH/wTxiGan2VzS3TXeRlEuxABOnvXKbFnBAAAAIAGf+GpH/wTz4/yw4gO3\n",
       "tux3joAAHErVsAErHIR73GVAAAAAXUGb/UmoQWiZTAhf//6MsAAC7Y7bAJpQM6YM/3YZfbvwMYRd\n",
       "j0HOepbP3K9dLXd5naCu+P5IC/HlEdbgYDb63kmyyPenDFKwaBfn2jlHeK6SG+eMvhOT9gRgVRT+\n",
       "pQAAAC5BnhtFESwj/wMrNFAATWH1hvfi4+sbwwTgA8kz15QuuZW0ACF9e42heENzAGLAAAAAHQGe\n",
       "OnRH/wTxiGan2VzS3TXWClu3lxAAuKADiYS9AAAAIQGePGpH/wTz4/yw4gO3tu0xVJEAIzSFyc6j\n",
       "i17H9Bz5gQAAAHBBmiFJqEFsmUwIX//+jLAAAvDoIIQCf4mABvkkcnt/1G6WjRkUrQXDdUsuL1kg\n",
       "TzrXh1jwHeN0ImpgI5nhB+0vP3r3Mtw1ibqXOiq8tRj2dm6mCFeEXhslXOJR1wUTCSb1HnneCVwM\n",
       "RvtUIU18GLswAAAALUGeX0UVLCP/Ays0UABNYfWG9+Lj6xvDBOADyUlO4ALi1Skv/xN2jzsKN9AC\n",
       "BgAAAB0Bnn50R/8E8Yhmp9lc0t04tVSvAAW30Wn5IoyhFwAAABcBnmBqR/8E8+P8sOIDt7btMtgl\n",
       "q/GDKgAAAFZBmmRJqEFsmUwIX//+jLAAAtutJAAS+k+AFdprgaTbk6F3V/BKkyGZK2SkapihdpMm\n",
       "B4gYBRtY2rcwbrBmElJqYOQ+23aZs0As+z3l6IlseKWDjGNn8wAAACdBnoJFFSwj/wMrNEnfVuG6\n",
       "oadgZj0gihzyLspUMzQAF0BAeLuQCpgAAAAfAZ6jakf/BPPj/LDiA7e27SPHxDAALisy6dRE6+xL\n",
       "aQAAAFhBmqhJqEFsmUwIX//+jLAABbWiHwR4QBzXEtT27KlqUbmFwu4bn6qSsvwMStqwmmHyeUBn\n",
       "qNR946xFEK9mJqt7GvI0y/qP8Jjo4cHHHxVHk821WUCT5ZFBAAAAJ0GexkUVLCP/Ays0UABNYfWG\n",
       "9+Lj6xvDAssv7ABxPHE5BU8jBqJrQQAAABcBnuV0R/8E8Yhmp9lc0t0+B6LSXxAK+QAAAB0Bnudq\n",
       "R/8E8+P8sOIDt7bu853gAXB4On10BAwEHAAAAFlBmupJqEFsmUwUTC///oywAAW3HbYBo2uBZk9z\n",
       "zt5yTtm+qFBdWQX5adDJ9CkGvhW4t4lzUWL6TqLtgg0pXthl40doFjzUVtgadyGarOcNxUbFEKYo\n",
       "GtLDwAAAACUBnwlqR/8E9PkZv/Gm/H0vBC9owbQw0dwAa3D1J152yDMA4EK/AAAALkGbC0nhClJl\n",
       "MCGf/p4QAAWMuDl3sTgDmHusEoqONia1YTdfgiNnp7P1gc50S2gAAAA/QZsvSeEOiZTAhn/+nhAA\n",
       "BYy7AC45YAvxmiRF9IukNZo/SS8mgQO3s98iABAnbEUJqbbmYglMXQWLZgBIRLaAAAAAK0GfTUUR\n",
       "PCP/AyraTtI/4UjDRmHhdJ93emGTIp4P+xFAAtnb8yRC1Ds40kEAAAAZAZ9sdEf/BPGIZqfZXNLd\n",
       "P1xgESZWj5BFwQAAAB4Bn25qR/8E8+P8sOIDt7bu2qLiABc7SXcKFl5gD/EAAABKQZtzSahBaJlM\n",
       "CF///oywAAW8p4Uaq7AJhwlBQiRj/5q9fbISiIAyKEaRn6u4waAhfD6MDnKK6s3ldp5Nx9dXeWaE\n",
       "FBR8XrixvMAAAAAqQZ+RRREsI/8DKzRQAE1h9Yb34uPrG8ME4AsvVRAC1Tzuars3XVE71JOAAAAA\n",
       "GgGfsHRH/wTxiGan2VzS3T+pRfbo4HUMwLuBAAAAFQGfsmpH/wTz4/yw4gO3tu6E+HIdUAAAAG9B\n",
       "m7dJqEFsmUwIX//+jLAACyZd2wByjSfDy1uj4fNA95Tky72r8Tl88s6wRcubL+uqdeSPCeRyME76\n",
       "iF0a7NtzjhHaRMgrb129wYpy+I1zFwMrVoA+ivxcghcjTgx8QDs9sZnWKEiw+SoWE9jD+2cAAAAq\n",
       "QZ/VRRUsI/8DKzRQAE1h9Yb34uPrG8MFcbZkQ9h0gAEIgC3BESbCmjAhAAAAFQGf9HRH/wTxiGan\n",
       "2VzS3T4HokDUgAAAABYBn/ZqR/8E8+P8sOIDt7bu2eBj/IIvAAAASEGb+kmoQWyZTAhf//6MsAAL\n",
       "JlOgAndKMdR3kcbLuP+sWZHrV8MlhU6tX09s4Ad4HXyh8m9q5jtoM8pPRlKSzC4d5NoUWsMwIQAA\n",
       "ACdBnhhFFSwj/wMrNEnfVuG6oadgZj0hMiZ8NgAca6wi3cpFweOoj4AAAAAYAZ45akf/BPPj/LDi\n",
       "A7e28kWmladGBA6ZAAAAY0GaPUmoQWyZTAhf//6MsAALJjtsAyaotc/HvhQpMLuDhdBx/xjAhoXb\n",
       "KhjEMkpgjsdC/jiGESjoeYXYX7S3LMsrBDgrVvRjprPL4HPo0ZbARrNDrFW5ebPIe7E4A4D58mac\n",
       "cAAAACZBnltFFSwj/wMrNEnfVuG6oadgZj0hNRJGABCIBF5CLzwM9AAlYQAAABgBnnxqR/8E8+P8\n",
       "sOIDt7byVEK06nm8BD0AAABAQZp/SahBbJlMFEwv//6MsAAK6U4r49bsAcUVEAhDgf6OS60Oa9fB\n",
       "MAnCJUD9hcgM2L5gvmbaxtX0CAK8tA2aDgAAACQBnp5qR/8E9PkZv/Gm/H0vBC9oxnx67OKYtZsA\n",
       "CdQLKUV0hswAAABHQZqDSeEKUmUwIX/+jLAAFcYU6L6IAQc0QmXYtFqXnF0slgUrHs+ktDM6Sgdy\n",
       "GB3UWV42v92heizaiLSeUnaPlJ8w6kZJ8ccAAAAqQZ6hRTRMI/8DKtpO0j/hSMNGYeF0n3d9M6Ww\n",
       "CjhJkGkR6EKe7vmLTisaAAAAHwGewHRH/wTxiGan2VzS3Wft8rGKgATNfkXYA5o9G0EAAAAaAZ7C\n",
       "akf/BPPj/LDiA7e2+PD0tBecCCaMFfAAAAAiQZrESahBaJlMCGf//p4QABWO2Wm8AHPi64NSW3BX\n",
       "a5RC7wAAACJBmuhJ4QpSZTAhn/6eEAAVlU5sbDojABt3IAVWgulX36TdAAAAH0GfBkU0TCP/Ayra\n",
       "TtI/4UjDRmHhdJ93fSXr+0zbg6cAAAAdAZ8ldEf/BPGIZqfZXNLdaBwLAAcbbpDbIE9FEvEAAAAS\n",
       "AZ8nakf/BPPj/LDiA7e262SsAAAATEGbLEmoQWiZTAhf//6MsAAVxitDuAK3xubOoDaA+UfqQ31T\n",
       "u+QZv5xq6+Dt+5eE6dq2lQ50nh9f9R5b2m3+VlLX8489t+fTVIfqMiYAAAAuQZ9KRREsI/8DKzRQ\n",
       "AE1h9Yb34uPrG8MKr0tgBFxriXfrGXpfYyNGw4GQCxyrUwAAABgBn2l0R/8E8Yhmp9lc0t1mqdtT\n",
       "AUMsB0wAAAAXAZ9rakf/BPPj/LDiA7e2+KT5HR5wHTAAAABPQZtwSahBbJlMCF///oywABW8dtgC\n",
       "rbRgETeMyojZav/V8i7DGPMWFYKC41dffOXoySukvKe21HZjRvbP4T9GsaBjiNTE5Og4+dSIVYtb\n",
       "gQAAADNBn45FFSwj/wMrNFAATWH1hvfi4+sbwwqj4NADasW8ibIS5tDkEMP9CLRcY7yim0JO+YEA\n",
       "AAAgAZ+tdEf/BPGIZqfZXNLdaBneABdLEzgBmOatVUZS4d0AAAAXAZ+vakf/BPPj/LDiA7e2+O3p\n",
       "Es3i8UEAAAA4QZu0SahBbJlMCF///oywABW8p0ADldFwy12US4vZUf/EOM2PUDdmciIydcZ1ALHu\n",
       "P6VzjefIpIAAAAApQZ/SRRUsI/8DKzRQAE1h9Yb34uPrG8MKr0tgAtSTzSLgN4iTcKA4AUEAAAAS\n",
       "AZ/xdEf/BPGIZqfZXNLdMZKwAAAAEgGf82pH/wTz4/yw4gO3tutkrAAAAGRBm/hJqEFsmUwIV//+\n",
       "OEAAU+94UAtZ0NQVywoy4107aYygF6J7gLR0moYRvaNkIcjlhsCr+ZStvWvjE9z7n6l84OEsQHAF\n",
       "y3q1kFHoS4uOrhldZpnOJUZw0ptaX5bLqCvmpoS9AAAAKUGeFkUVLCP/Ays0UABNYfWG9+Lj6xvD\n",
       "CpJIZsAENxYbZ2tAl78DrE3AAAAAHQGeNXRH/wTxiGan2VzS3WdIIMABLVpUnpE8IMCBAAAAIAGe\n",
       "N2pH/wTz4/yw4gO3tvj4u8YgBDiM7hK/PD7CuDQhAAAAN0GaOUmoQWyZTAhf//6MsAAVLKdAA5XN\n",
       "575CPm2d94FAhrk/pMgmYsQHqqOxN1lAGcIhGVEMZUAAAAAYQZpbSeEKUmUwUVLC//6MsAAVNgux\n",
       "fkVNAAAAFgGeempH/wDle6ESjDEh50XEjDgoQi4AAAA2QZp8SeEOiZTAhf/+jLAAKX/kGIO6juxq\n",
       "Fvo78NZuAUEesvNaySECmAWYygnxWD9a8ztHyKmBAAAALUGan0nhDyZTAhf//oywABUtf3IAOF+m\n",
       "DX3Sa1L8m6tTuQEgzl2aHa3ukbMh4QAAABpBnr1FETwj/wBjgAJ703jxyz2g+CadnOYBXwAAABoB\n",
       "nt5qR/8A5XuhFIWmdPo39JgAujDr+LpCTgAAAGtBmsJJqEFomUwIZ//+nhAAFPdHzIieTFoAWyzP\n",
       "StyFjosG7tRHY+jU/ql3RoKnQT2DU+18kiVAwFYBlTZqDClirnMzKB8KEY8m5NSvmPQ9spPj88AA\n",
       "zTUjcq8SvO5GStLNQv8lwhwDiY0bPwAAABxBnuBFESwj/wBkt4tp2Q7Wd2zNF6Zu1vymvCNgAAAA\n",
       "HAGfAWpH/wDle6EUhaZ0+hpVGwAJ27GDxWQDQS8AAAA4QZsGSahBbJlMCF///oywACk4fYKt0YIc\n",
       "huy00xf+Jy0ItNwWy8vpV7zlEA/xf252PSwcIjn9MGAAAAAfQZ8kRRUsI/8A3Nxg01iXMVKkWZWh\n",
       "l5uR1g7Ie0pkTwAAABoBn0N0R/8A5XuhD8m4s3zW3gATZ9yu0CkJeQAAABMBn0VqR/8A5XuhFIWm\n",
       "dPol429ZAAAAUEGbSkmoQWyZTAhf//6MsAApOH2A5Vzqn38D1q/sE/sTqOr9KPwgeBPui6mYV8Pb\n",
       "upb7zTeDHWcXjazAXZRJihcu4LivLytH9LDVuHJk2BJvAAAAIkGfaEUVLCP/ANzcYNNYlzFSpFmV\n",
       "n/EQCAEsipEvmVPpDjgAAAAUAZ+HdEf/AOV7oQ/JuLN8WJFLesAAAAAbAZ+Jakf/AOV7oRSFpnT6\n",
       "LNKwAJ1h46HVX9bBAAAAOkGbjEmoQWyZTBRMM//+nhAAFPzj3ACucfZxixCIpVotT4pvKP8WAI/C\n",
       "IMLu04+H7j4G6TXYT98/HHAAAAAZAZ+rakf/AOV7oRZeuZ0fuefsBywgk7AgYAAAAEBBm7BJ4QpS\n",
       "ZTAhn/6eEAAqDKILeDDCkAKlrTHVODP5xPlQnraHVm+u9nejwzmNEIQl8GxFbQJZulSOPJcPVbK/\n",
       "AAAAJ0GfzkU0TCP/ANzcYND3+mpvTn+whpjs25gAnGsYmOl6+DtI7cn58QAAABkBn+10R/8A5Xuh\n",
       "D8m4s8HE6IbZ8NttXEnBAAAAFgGf72pH/wDle6EUhaZ0+iXt2qP4soAAAABCQZv0SahBaJlMCGf/\n",
       "/p4QACn4vQACH6XF8czsR+xZZaQ8QTbDlDUjABP4PQc5KxDkxYDsZMGyuVMrK0ekN8tpYBvQAAAA\n",
       "JkGeEkURLCP/ANzcYNNYlzFSpFmYYFctDAAJapgyuc4lT0YVpwQ9AAAAEwGeMXRH/wDle6EPybiz\n",
       "V9ff8oMAAAAXAZ4zakf/AOV7oRSFpnULaqkQVZP8WUAAAABzQZo4SahBbJlMCF///oywACt47bAF\n",
       "W4UVJa5KuzcXs/br7Bzr88iMSeeH9G/7PBX2e/6KQdwO0s66auOBrOjAZRy4/J0E/uBZqCflzwnA\n",
       "8kMrSiPZ/jhqk/owbe7Iplq9A953AZmtGIdTNXTMsZeycDFDpwAAAC1BnlZFFSwj/wDc3GDTWJcx\n",
       "UqRZmIiByjcANcYz+C3EegalI0WHMm6BgowqcsAAAAAaAZ51dEf/AOV7oQ/JuLPIrYc7D2/FqUkf\n",
       "4u8AAAAeAZ53akf/AOV7oRSFpnUNNj2vgAJG9FlcCToVkHtBAAAARUGafEmoQWyZTAhf//6MsAAr\n",
       "jEOo0ACf3LiEXwkPQEWEfZpc1HRvAPajlk5H3AgZTjV15T9maMOhKX/e4lBVQhPobRiqgAAAACdB\n",
       "nppFFSwj/wDc3GDTWJcxUqRZmI9YiAFYx9AVpzfPv16469fKntEAAAAaAZ65dEf/AOV7oQ/JuLPH\n",
       "GNlWADalLXKwQtoAAAAaAZ67akf/AOV7oRSFpnUNUtYAOK30CXI9xH0AAABFQZqgSahBbJlMCF//\n",
       "/oywACtxKvABYfUjP2nVRRJk71dHpxrFTkhEMwPtKnybIxSwknDgXm66+3zsY4pD5ahnpTz5qpEx\n",
       "AAAAJEGe3kUVLCP/ANzcYNNYlzFSpFmYhQnAAN1qq8+ARduZxTEPCAAAABgBnv10R/8A5XuhD8m4\n",
       "s8cnd5czLrb8WUAAAAAUAZ7/akf/AOV7oRSFpnTw9MJeUGEAAAAnQZriSahBbJlMFEwv//6MsAAr\n",
       "mk9oM4AWAYlEYwECRF1B7Xt8+QpIAAAAFwGfAWpH/wDle6EWXrmdH7nn6/5JYQatAAAAU0GbBknh\n",
       "ClJlMCF//oywACyVCFOb8BStr+e2MQonQ2DXTRnBlf3AIGDXYjKoBpl8GwXCOKdelk0n1avEdj84\n",
       "8Qw3pwit9vUSEFob5qx78Fr40YpoAAAAJ0GfJEU0TCP/ANzcYND3+mpvTn+wkmYRb2RtgAbcgHM+\n",
       "tywwR4AsXQAAABQBn0N0R/8A5XuhD8m4s88+re/kfQAAABMBn0VqR/8A5XuhFIWmdQ7qVhSRAAAA\n",
       "JEGbSEmoQWiZTBTwv/6MsAAreXtGAG9WUUeLbx46Dbh+x75CkwAAABcBn2dqR/8A5XuhFl65nR+5\n",
       "5+v+SWEGrAAAAD5Bm2xJ4QpSZTAhf/6MsAArbX3Kc0qnbgBfZ+wyVT+HIJ1Xzo1LciImuWbtUrfB\n",
       "l09QEQx5e++z14mq1ZiDgAAAABxBn4pFNEwj/wDc3GDQ9/pqb05/sIukMILT6HhBAAAAHAGfqXRH\n",
       "/wDle6EPybizxxi9HAAnWGnR0lm4j4AAAAATAZ+rakf/AOV7oRSFpnUM/NTVMAAAACdBm61JqEFo\n",
       "mUwIZ//+nhAAK0SeoGAI6XdRDhA73pNTZ7UDF8YWGzEAAAA4QZvRSeEKUmUwIZ/+nhAAKxA+K8R5\n",
       "qcALD10FtfyoIGsxv5E1E16tGgsIKFhi+lUuK+xoa30CwXcAAAAeQZ/vRTRMI/8A3Nxg0Pf6am9O\n",
       "f7CJiF53SUKj6HdBAAAAFgGeDnRH/wDle6EPybizxElENiduI+AAAAAVAZ4Qakf/AOV7oRSFpnUM\n",
       "A1NUMmqYAAAALUGaFUmoQWiZTAhn//6eEAArDqx2MlAEe8hJ03Rig5SZIG59/HeQwv2+qk4S8QAA\n",
       "AB1BnjNFESwj/wDc3GDTWJcxUqRZmILysJGP6SzgnAAAABQBnlJ0R/8A5XuhD8m4s8R3zShO6AAA\n",
       "ABEBnlRqR/8A5XuhFIWmdO4kLQAAACdBmllJqEFsmUwIZ//+nhAAKxrJ7gBYeVoksWM0osx8Hn/E\n",
       "ZCaILuAAAAAdQZ53RRUsI/8A3Nxg01iXMVKkWZiC8rCRj+k9oP8AAAARAZ6WdEf/AOV7oQ/JuLNM\n",
       "kLEAAAARAZ6Yakf/AOV7oRSFpnTuJCwAAAA6QZqdSahBbJlMCGf//p4QACsZ6/gCOqh9fJfPYu0l\n",
       "U8+uSafgTMlBCIxbUI62WuUcAyAqWlFvsiC7gQAAAB1BnrtFFSwj/wDc3GDTWJcxUqRZmHU6YH/3\n",
       "q1VQwAAAABMBntp0R/8A5XuhD8m4s8i0dC2hAAAAFAGe3GpH/wDle6EUhaZ1DGk5KFtBAAAAMEGa\n",
       "wUmoQWyZTAhf//6MsAAreev6AOUZXkqCl28Mq/cUF4w16OeCIJ7k15/AS4+CNgAAAB5Bnv9FFSwj\n",
       "/wDc3GDTWJcxUqRZmIQzB7zB+Uj3OLYAAAARAZ8edEf/AOV7oQ/JuLNMkLEAAAAUAZ8Aakf/AOV7\n",
       "oRSFpnULFnSXZdwAAAAzQZsFSahBbJlMCF///oywACqFP48+t2ATXRmY2nXIrhJCh3j1M7a5cfFv\n",
       "nd3r8D7XDDKhAAAAI0GfI0UVLCP/ANzcYNNYlzFSpFmYXvcigBuZVCySxHDiHe7uAAAAEwGfQnRH\n",
       "/wDle6EPybizu1lrpeEAAAAeAZ9Eakf/AOV7oRSFpnULGbsaOABc7R8aGe3CuPmBAAAASUGbR0mo\n",
       "QWyZTBRMM//+nhAAKgYTywBeatTHzNJqFQ/H96sgCFl1bhydDbmhW3xeb38URe4YiRNmdxC+rVdh\n",
       "KXuZNv5vOOdRBgUAAAAiAZ9makf/AOV7oRZeuZ0fuefsJR9DwAP50OHmZpJD5vBNwQAAAHJBm2tJ\n",
       "4QpSZTAhn/6eEABT8bjgCJj6nan/oRvpJSRqwiOmRiZvxbwQVWMSruTLD+oAf0Yyd7aTdG2QLBHJ\n",
       "jUHZNZnbTR0ZlSUB7dno1EmItOAO0yV+PFoavIm62dRP0BgnqMTEJEdGbWqpcoRlwSk4RcAAAAAm\n",
       "QZ+JRTRMI/8A3Nxg0Pf6am9O27/EmG8uKgBKjws/P2YfE/VQFTAAAAAdAZ+odEf/AOV7oQ/JuLPC\n",
       "agYAJmid79q978lBLKEAAAAVAZ+qakf/AOV7oRSFr3fQst5CHqYEAAAAX0Gbr0moQWiZTAhn//6e\n",
       "EABT8bjgCEeNyBXPJWH8JOjBK3Jzf022cst9c7tgKcvY28bx6bcLeycPy/Y4jwzqOIO0EqyjIiGg\n",
       "Mciry2e7+8kmhkndRqVuMEC1N4fxq0MGAAAAHkGfzUURLCP/ANzcYNNYlzFSpYkcpw6MPbRkXrTF\n",
       "RQAAABEBn+x0R/8A5XuhD8m4s0yQsQAAAB8Bn+5qR/8A5XuhFIWvkRyAEg+mVaKvrryDSyaqvtI/\n",
       "AAAANUGb80moQWyZTAhn//6eEABT8nRgCJj7d5mi/dNRrmnh36Vttra6I/kKjb8oyMjZvLE4sG9A\n",
       "AAAAHUGeEUUVLCP/ANzcYNNYlzFSpXolxzRQPjQTcCFgAAAAEwGeMHRH/wDle6EPycpvVTfpaR8A\n",
       "AAARAZ4yakf/AOV7oRSFpnTuJCwAAAA4QZo3SahBbJlMCGf//p4QAFPxuOAKrzE0Nx8owOrM6ZKD\n",
       "WLNz+lbXgZFyDd+8LMWBa9g4Je0QMCAAAAAcQZ5VRRUsI/8A3Nxg01iXMVKliWZfIGSnnEBcQQAA\n",
       "ABEBnnR0R/8A5XuhD8m4s0yQsAAAABsBnnZqR/8A5XuhFIWvs6YAH7h9xvYBEr5cakEAAABKQZp7\n",
       "SahBbJlMCGf//p4QAFPxuOAK3ygEw2h0sXHCCxZZNkK3ltxlcZv4ulVl6rGnLLImDrn9cvlDFyhx\n",
       "HSuW3n0ZAhLrShc+CLkAAAAeQZ6ZRRUsI/8A3Nxg01iXMVKlgqhvy1Fbxkq9RIbcAAAAEQGeuHRH\n",
       "/wDle6EPybizTJCxAAAAEQGeumpH/wDle6EUhaZ07iQsAAAARUGav0moQWyZTAhn//6eEABT8OuA\n",
       "Hxiwndf+3TbX9GU77Q1gvWg8vKfWv1k7OL3PUxOuTDpAaWIiNZjGI0M73zv/nkwUkQAAAB1Bnt1F\n",
       "FSwj/wDc3GDTWJcxUqVLN0AKfYLF/pmBvQAAABUBnvx0R/8A5XuhD8nH+M0dx7ZQ1IAAAAARAZ7+\n",
       "akf/AOV7oRSFpnTuJCwAAABHQZrjSahBbJlMCGf//p4QAFRK26xgAAsD4dt+Ozt+KkJwIJ+1l3hl\n",
       "kcG/wnykn7od/hMUGK3frQvxtJcyu52xmW5JcfKIGBEAAAAkQZ8BRRUsI/8A3Nxg01iXMVKleCpC\n",
       "kIARfWyoESEBNhkr+FTAAAAAFgGfIHRH/wDle6EPycqqDnXB+OK41IEAAAAUAZ8iakf/AOV7oRSF\n",
       "r3kVnNQ0j4AAAABFQZsnSahBbJlMCGf//p4QAIqkDgh4l+oAoSRDEWZsJzglW6H4Yb6++8552ZCq\n",
       "4wNmZsF/p6GVyq4S7K/rSkyyt2L3Ph8xAAAAJ0GfRUUVLCP/ANzcYNNYlzFSpZN0hAC0AWxua96d\n",
       "iHO8EsJoHu5DuwAAABUBn2R0R/8A5XuhD8ppyAeBSvswb0EAAAAUAZ9makf/AOV7oRSGA9RTFfqR\n",
       "krEAAAA2QZtrSahBbJlMCGf//p4QAFP1VTgBXOb3iXFterHARFYZzpwIqATcC+Pv2lxFmHcncxsh\n",
       "YN6AAAAAI0GfiUUVLCP/ANzcYNNYlzFSpXbU/IABB6oZs9px74B8AiyoAAAAEwGfqHRH/wDle6EP\n",
       "ycsyUI+oaR8AAAAUAZ+qakf/AOV7oRSFr0ejdc+K41IAAAAuQZuvSahBbJlMCF///oywAIwjgkuq\n",
       "D15USIAvIJJ+kj3BzN8EYhv/oC7ayhC7gAAAABxBn81FFSwj/wDc3GDTWJcxUqV6ArBgyAR4wDph\n",
       "AAAAEQGf7HRH/wDle6EPybizTJCxAAAAEwGf7mpH/wDle6EUha95HsGlGLEAAABAQZvySahBbJlM\n",
       "CGf//p4QAFP1VTgBXOcKL1Gz2aKdN/g3m9gdQx5NBEOvhv2rzcRfV4UG+DNWT/76s8RBAlEDAgAA\n",
       "ABlBnhBFFSwj/wBkt4tp3hr+xBO1bAWNIOHpAAAAEQGeMWpH/wDle6EUhaZ07iQtAAAAWUGaNkmo\n",
       "QWyZTAhf//6MsABXfctg82b4ANMRaEl/k3CVQmjdbrsaoZc+GDuZ7GTBqktn1+uss+hK8DpWbXw0\n",
       "Yr6YcsF1KpxuCU8BAKYgRdYAWhWahSXWnaGDAAAAIEGeVEUVLCP/ANzcYNNYlzTYWwc/3ltzy2NX\n",
       "jJV6UoJwAAAAFAGec3RH/wDle6EPymeiQlbBLErBAAAAEwGedWpH/wDle6EUhgNSzsBTDegAAAAf\n",
       "QZp6SahBbJlMCF///oywAFJw+wBmQMlvhrk07Mwi4QAAAB9BnphFFSwj/wDc3GDTWJc1VRcL4Xzs\n",
       "wKufQV/QbSyhAAAAEwGet3RH/wDle6EPymejOn7MN6AAAAATAZ65akf/AOV7oRSGA1LOwFMN6QAA\n",
       "AC1Bmr5JqEFsmUwIX//+jLAAVLHbYArU/rKm26XHbBX9NzMkSUgFzcqMDRfyCpgAAAAeQZ7cRRUs\n",
       "I/8A3Nxg01iXNVUXC+1wmGaK2jDtmkQtAAAAFAGe+3RH/wDle6EPymeiava/GDehAAAAEwGe/WpH\n",
       "/wDle6EUhgNSzsBTDegAAABPQZrhSahBbJlMCF///oywAFd3x8EXP0IU1vgCRiAjolofoQmHMQK2\n",
       "ZmpkWdq+UIUH4CSejhWPGlxH2b+yw7hL9zcC5u+++irxF0jncDFB0wAAAB5Bnx9FFSwj/wBkt4tp\n",
       "3hTthtMueb8HVVoIB3vPi7kAAAAgAZ8gakf/AOV7oRSGA1Lfwfz4ABqnKgXbDe0mXUnArYAAAAAm\n",
       "QZsiSahBbJlMCGf//p4QAFaOsjRQAJsyH/e9Nvm/fC9Btp3ND5kAAAA/QZtGSeEKUmUwIZ/+nhAA\n",
       "VitKOrgC8ieKBFRe/5KEQAJeyAGXUStbtgKwSDSO3ruuxQ/fALP9YYeC7OIqcEvAAAAAJkGfZEU0\n",
       "TCP/ANzcYND3+mvd+DyJz34ZhAA3dllApocDYT9xS/SBAAAAGwGfg3RH/wDle6EPyc1dZUAALF5u\n",
       "N9/IpsgjawAAAA8Bn4VqR/8A5XuhFIV0BU0AAAA3QZuKSahBaJlMCGf//p4QAFYd/E3llGAHKo6y\n",
       "wGs+JkOzxtVX1I78FIHbKjliD6jevEgltz4IeQAAACBBn6hFESwj/wDc3GDTWJc02FsHQCGGpf2R\n",
       "AHZnrdKHYAAAABUBn8d0R/8A5XuhD8pno187AvLwGpAAAAAVAZ/Jakf/AOV7oRSGA1LfxMIzg5ix\n",
       "AAAAKUGbzkmoQWyZTAhn//6eEABWVljI4A4A9ImQBsStE9WatJkvwlABYF3AAAAAHEGf7EUVLCP/\n",
       "ANzcYNNYlzVVFwvazkQvhTVALiAAAAAVAZ4LdEf/AOV7oQ/KZ6NlOwUfBI+BAAAAEwGeDWpH/wDl\n",
       "e6EUhgNSzsBTDekAAAA1QZoSSahBbJlMCF///oywAFcY5XKkAdBYssj2mW2c9U9vw+YJK3dCeUiH\n",
       "x2UpT0IZBl8gpIEAAAAcQZ4wRRUsI/8A3Nxg01iXNVUXC9rORC+FNUAuIAAAABMBnk90R/8A5Xuh\n",
       "D8pnozp+zDegAAAAFQGeUWpH/wDle6EUhgNS32SEjcEj4QAAAEZBmlVJqEFsmUwIZ//+nhAAVjG4\n",
       "4BMOZ6c9zd7LX3EYTtGbBzpTogE9bMORqs5AOe2FtnT8E03raFMiYyfBQN67GmA55MFBAAAAIEGe\n",
       "c0UVLCP/AGS3i2neFO2G07WMAB9P5oaBIYHCQAMaAAAAEgGelGpH/wDle6EUhbCywQcf4QAAAEZB\n",
       "mplJqEFsmUwIZ//+nhAAU+TFUwhwBVua2tGTJnlceYZT2Zm+nuu277gZITiottShGgwf0j8zbV6i\n",
       "J3ve3OBsAqInzgm4AAAAKEGet0UVLCP/ANzcYNNYlzTYWwc/eyZJAA/Dxj/zVewfliOjAFlFDUkA\n",
       "AAAPAZ7WdEf/AOV7oQ/JVAqZAAAAEQGe2GpH/wDle6EUha94VMm4AABBamWIggAO//73Tr8Cm0WX\n",
       "agOSVwr2yqQmWblSawHypgAAAwAAEbCGP88XdhmA8wj1/5TvdVNMLQ4YdbOI4gE0HcqTKjBPE/Kd\n",
       "u1474g7Uq6IPGG/MDq3n2mKsKvEjdNgAAE4HyNDjURqPpwoVBcKo18CTKy6ywGC6PlUJA4JVLXhN\n",
       "HMZhMGIK3mbd8ZlCCF3DliewesozlTuKuJbZ1m7Ja1+2DkEugkxQY8sPCNiF5ffzsQudXFiTExlg\n",
       "Y96DRFogBGcG9QJFrDloOJn4uUA4d1J6EBOsrPlgl3P+6LuVD4usDQIcq+nGXy2fYoud/bGTj8+5\n",
       "QAYx28fDpUh1CsKDJZXS7zt8uk1IgvJb7db4R4r3N6pj87SNL81AAJUncRtFim4nzL+Bk3NrtH9p\n",
       "VPk8aBS8n36pd0KJfaK2Q1TdkPnsnGRVVxulEXhVzx4ERa3HfbarkIfP6M6BzF4eYvUE1sj+T9r7\n",
       "KPmSuST9/6Rc/75YSe5jefaSI7E6JBWqq7s/SoJ3um2Z0zNLl6PoyesqZ0ofFimWcis1g6r+eYKF\n",
       "rmPpgJL/Nw8J0lsRXfJC3fyJWhwfFMagr/4TRzH3/pkg34ubMOvySd7jG32d+MxLrSmYYU1456Tx\n",
       "hw4C4CWfPiqB2uJTuzGZd2XvHyi7RmTqLzDkVzJrbJpw6TqiRp1N8cAUTbktk1OCaDpP35imvus9\n",
       "y0yaz8Mv46dkiIEj2E2h+y8cnVMeL6nK4EdRpnQp4bV/GMDcA1Xk3MaxJ0nTO6nmEv8UIEfT5Wyt\n",
       "tUNifKITDKTGlKgtw0xbYP9QdOq5pgTAwHNZ5walWp7Nen+p4tT4hUOqlAR+EtWtplk8xJOMNcH4\n",
       "uClwx63DeD6RYCaEwmyrClp25XsL6EQm3Y6NshNn6oup2H6G4Dh3DdyGvHYLaH/sLJn4kSi2X1cd\n",
       "j15S0w6YVdtkV6xpO4xkXLfckeMi2hFA+DQIAWtgaM97LhJwmrFIJz1e1EpRTXmeWjs2MO4ku2l/\n",
       "dec1NDapoSJJu0I/WgUbT8fSJSzsBPNffVuO8ALk3c3lFcLe0FqYwv3BvywlGIk1ns5KGx/66wI2\n",
       "arDJ+m6huFhmcF3q/VSmFlwT8A9ebGMXSieoAvhQjbLPg5rv9UrJtGrjAUY6pzAfBAnwMju0EoQS\n",
       "s05jTVMrWi1/+1eu5+shHXugRJd3F7qEKFfikmjhZvw82nex3GY24FwplMDPx6pvtnWHQSalxmWw\n",
       "JwbAzb73722x2I88n70JmAANDxAfTIBHUnOMi871d2QoREnKveKx6ZLx3j9U+3bcLgY+bmDHoPCj\n",
       "f9GAKJ9a4myjxuhH7rx2MmWaVrUr0V4EdRYRNVOdqpm/gHioZe0sZQkiV16hVx0yqJSI5eKZmOOL\n",
       "9BMZHjdDmcdY/m5vyEegFMJPBJtY5ZbewUZAhyNUruvIDcHkU9Nj3AGYqjXopRcZSt6u0GztPY6p\n",
       "jM32h7vKLd2BUw+uVWM9PNOQP+cBWufQrlxM+IuCoW5REXT26RKEYTWugc3Y/lmazoH1eWlWOYFz\n",
       "gnv7OiQvVLd+65eYQxm27pNpVOxoJwsK0XenEOVq3Zcun19HfYCbzYZ1VpMAROiUZveDk+SkrCkn\n",
       "zXTr1PyflEvSfC/F3tp/aya2SBn4uEGkeAyPtgiR6rKYwTI1iAFgRPxOa8MBYYaMqOKgrNsHLx/e\n",
       "u1ist7t9o1xAow/53W6xZtXckcBp+mSBaFRl+9D8Rq0ite4bmcpBatVXELYW29eTX0OOkWLmLPOi\n",
       "hNJQIo2DPAzAsljR12gOW7Gu4zJIM/DStTrFIUUY82Rd8xhsm0f9uF9+L25WVjDyPLt0ou8nvDMR\n",
       "gNGdXusJFoLJTg/BZpXepqnrus9k5cRD+WQU0ZdMwK2rtu+ebSooX9QtQZhM6Yd/Eo2BSLKyFs+J\n",
       "J8fwTOdAtvH+rk2KvtYZd3hWb2SoZjJZbjRaXQn2Ed2Z9zm9kPK7EjcpaQNUCaDSGeS2rCVVGlpb\n",
       "oXCDwVrNzUIlSo69C58cOWLtdV1pJIqJVhwovejEuN8JdYA/T8ZwyKKrJHyeiIbFcztCkjvVEmbO\n",
       "eNL4oUdD7/n4uvx7wBrczrGeYkCOrzxkwTfOH35AqPbsQD36vxUphsLD6SxHfZfezuK9+RqPpEwU\n",
       "5S3xgjfQ5+wLWn0hSWaJMLL06KIS7voQij+gaMGCDren6gkAmLiN+GOK+LEcjd7qc8t8V2NlcHOh\n",
       "EelNiQc+zRnSoFNheAIhy6ZPt9ftEK7HYnc8B9Y1fmCywXpdf44AiHiGKTCVAuJtiCmlyoiOsElb\n",
       "xbFsN+5QHdm9J7+oyFeKctEyLLtIDMobzXXMgoktB4GHWCeOYWd2GaM7IxQag/5QbgA87Gz9CeNf\n",
       "A/e6j36Pr9/dFhIgJqYS/0eMiWdzv/+gwMYg53wG6DpPEQodV4mdKHliCOe9CB72aRfK3htBXFAc\n",
       "7RDEPuMnpD2In1TYGvpmtO9QoXpXy9hCP4OMq5Ccwr7RD+BaIP4rawyhKTc38FnxJsLjiic3vi5R\n",
       "q88lLGjQZMNzoQqXWD1K0OHMljB14Ac6NhIXLekEy15ytbLsrwSgr1YrZhp7KGTi0xPZqgYQ5Ui1\n",
       "AUgPTlx3TgqpD2p2RLLmkTfC+og7+PyDUP/TKYKHZ9+MP7O/nh4pEWFsT6OmWTvvMWtRnclXygnW\n",
       "xMfIPAEgbgCCVu78xUTAuPAGQWYBx6UQIw9q79+RUjJZ6LavJcyXNHqxExjQjn+gfqtblQzEcPxz\n",
       "BsFR1jRM9ohHrN+NubVnATAsg8+p/HUMvcDvasO09hHywmVyeSw9wrSMsN7jgrfLGQlzrXaA6IP4\n",
       "Lej/l7U3LXBwzcPQITVkaayXdgYxeBSV+XSbKyn417yGe/p/f8iuBM64f4ELCIUNh/TAQu32qw5b\n",
       "C8ULXbw7KGp9/B6CWciR8z0J/xl8zvBJ+aZdERdh4OOLGMq0lfAkCQiB1YLxfkGA0UUkgDQZSZ27\n",
       "WH1vGs5BqJDoKKMHKAb8GWHkLhcotSKmgKoLo/11BXbjNXKNmIUn3TqsNYnIFfVe77r0NqVYuit6\n",
       "U4quod8o5y5SEtilo3MVupbSq/capeemXy9bxO3VUNLp7OlO/hu2nYZYX9gqQBLkPTNLQS3hXSJB\n",
       "9Pqg2XjO5Q5tME7mhDSGkHbYN4kvCihWBG11BRGkzrarloY4vtObeYqP50QgdX+k1OVGzMoMel9D\n",
       "GbYRRvHw119Gnd7NvJ/PBnDCJR0O/H5YvSjxiQbaIQWNDoRk4V3Qwu2EpxrqwXRkdUEMCqDZO0/p\n",
       "f6lN/KQr19iLcWboB8on/VLUGw0+cpXXgU4kJQa+5v16/UFRtE/E7Q0NOyiLdQYaFojad8vHXqUO\n",
       "M93HmrVeFyACrMvehWRU+v6ji+mQZ8yk/QMq9xxoX/L/JxCtY86soC8CUnPMSGNel1cljNJRtL5E\n",
       "QpVuk0RFfsVHGrzJe3lB3lg36FsgZ7DvYF4C1NO04kOX3A63/C86nkRUOS22SkqUBSBzDRKN4jWa\n",
       "lklreYxnXIfWy/BeuvfVi+2L8WUwmT6scyMaIITIEO6q7cH1+24JST4VO02ztPmJONEYkWNam6nX\n",
       "RnSK9uG3XT+2aIEHk1S/KTTtmQD1xA9RAV2Pjv0MXvAH/iMXn3DTgaFb58U2uOKrEAguHhcIxaeo\n",
       "Fc13IRnARmKUZ7H+/hdlBYYCXNw02RCht8GCtjre6rwS2XilTycK8YoEJgeSGcWg5PEmSwqJMEQn\n",
       "MWBsFEYKU0nWSDpd+Pd/LMd5SIijmOwmNxrocnTPvpt5LPLYK1rhvCIs/zkCEXCPLuZ+5xZEmYlX\n",
       "QppURYKrMLhUg3cfD5PBKxFs5hmXe5ZG08w1yUT+MHbOaXG98HP9LChl9RV+irjqe4d8dgpKfNKC\n",
       "r7tFs2fOZETU2/ZWl4v6dTB8raWoI8qWVvHA0LqJqF8ehEXGQShM6NjXTRP7mxiAesJVvwVEYCAa\n",
       "6QgRW3nEfvI040UDHe9gLffp0vOZybT0A8w4AYXmMzWyu1SSqGG4wbmUklV6B0Zrrh8GD8AgXkqy\n",
       "Kgn4DSeqMATgedsrsIW2Hsl6wDhLQ3kEq/ry1/3kxOS/BVAAnbAzemUbDBYlN81e/I9H4N5hdYFe\n",
       "B/hObdZxdx9NFC1zLnABfd0iGgWtTOnJfWsAbsij3Oi2czJY9Mik+dUErD9bZR123BeNLYJvjtAt\n",
       "VinTJbsbO30k05HjwZNzeRkhuTciLKDFkwlk5OHbmReRHjjeAve9+c7pFilR5GlkZ7/Fwg/ybY4q\n",
       "hmqtROIzzIipLnLGCMVOVmNsjXxKYPUjQ7/DcuM+jS9hjbAVZ20f+F5K8ieuwIXuKcyyzYxgPcJq\n",
       "0jWf3FH2rVetB14qUNmT6lclEz25GldvHrJFWdesgio6iAVz8WFiWVLYEHrolROrSGqWklPmgQBZ\n",
       "8/igJSpAzZoYpu+FEvE4czmKyBgez0iUL6A6q5T1VqYwHtvATF0gol29Bt3C7FvE4S45Px67wQ8o\n",
       "3J/T79XAv8B2u7912eKUuQxO22QOvBiDveNI9LoGJCo/5fkXmRSnm6NOvETVuTlYr6yQKge4f87u\n",
       "akyp7Ok4ubOXOLd62R0/URRnLRG1sUAdS3XwAg45TwNjryWr9y8luLP40hxxWreUKvNqap/mN9ia\n",
       "dn7BGPp2YgSBrTJj9/9E360hc5vEqAF18erqdwoihORw1BiyMy7k9vO8kHUKYlQl6IhLEmxWhTVX\n",
       "RAkOC2X7zGYJnKDmNh6wYT66CJ+Rvy3mTiwTYTtUsQiN9Rbv3xEKUROAlGPWLirBrInOn0bOOWXt\n",
       "hF92xsci1nzjFN8V/lX2FhSRXXYecX8GZn9kDWYN5GAJjWhHyJOGw52yxX4beL0HBpknETwc2Tru\n",
       "tQANOdCIC7ESWeQ/xly4bEZXc0iFI6DA4odAKnusHAWLjrbN1z/dzWWfzwHW4mDkGVfoJGgLOx/u\n",
       "apu3N5sY2LxoxujvsOqwSeGGJMctmKKtbsrjdQHImqs73q93CF88JBBM42Vpamupy9YVmsVgkuDM\n",
       "1iqUz2tKEPIzpU1CaGXMfZ3JbyJrHE2RFDEDqSBXBWIQ697S0j/jogqv/5Wyw930xyzDVg5xRvv8\n",
       "x2n7vmwtZERlhslkHkXKhbJg7vqh0eJlRniAdgDe0ZNFErPRLOsP+Ynuv9lCmk3nU9UyYS0QW+ZP\n",
       "zkJWhC0Isrwlmpjb28UhoIWTzS8pKcBH0U1CREtMWxYlOKrK2JSsjTqLq6IwgqYBjXBEXivr3EIu\n",
       "tsKzGVSX/kC9RQ9UbwsOyON9Rvp3uM3dAKoY+590xOp0cc6Ugv2fADRyVpC3mnv2ZdCGxzxdii9I\n",
       "GjGCVIsfz84V4L5/fVlg8ttRyfo91OYMBndnHX0dIBvtqsHfU5BHOmxD41oJ+h5cl7p+Ew8ETOci\n",
       "TvE81pdrrjMcQvEXwtJgNEns0Pzkj/xeFQVWSTkw2wIvmNR93OCfpJ2/InhPm5rLruxpfNYGoqmp\n",
       "/lb41WG0DN2+84++em6/CEPPZSDAKhEr473JeuOaU4fNMghTK+7LazKw0LaRbCl+N5qCdtdc227m\n",
       "qPFLzKavqyAlCcQtpZnaQE6b8cPGkWupRVO1bw58EnolmVT8SKFwzMfXXwLJsbjTeXNkWDV4RtxR\n",
       "zhf18cOCjBnQrBTyuVij7MoulvoVoM2M1Lb5vh5dGWflFHYZPhTiJ/L00jKYJrc/I61kdIqTMTHm\n",
       "s8pDQw/GpdjEvsvwA6mj2GtlTm1vJxuPSYI0BYWsk79eoDTcETU4ePFkaT7vlA+CBxLIXcnvNRER\n",
       "6vGKcfTll9yqJ8THYHQxdnLaZJ1QH61gbHpWyZ7O75jrLsliTioxVwAr9p8ytjhGIt8RmwbwBWb4\n",
       "J1zkcf3vDWILfi9x45GkaaUQlTfq+kmAeBYlevcnQM1BnAEiotpCq2LHI88iSfOybXoHpnTZeW4v\n",
       "qHgPdmwoQGv7cZElYgK6bPk/ZEKfr+aURcTTzhIzt0uR+oUjuXP3/D7dndlgGAtmyWAuqDdyDJRk\n",
       "zFtxRGFxzq3hHYPX7K2syVslSrmmS+7l6ElAPngtmPlirZffUUSlbTDgPeeXZr2YioXwKK9LjCeL\n",
       "DNJ7Ru/UWoSOb8tAOnzIYCCCxx3pt4KOBDYwAl+nYIRA0wfqNve5qLerehfMXion8YXq51B+jJ1i\n",
       "L3Ti2OZd94nobRf8zNRpZncQSPJT4qCDM+dAknoeivEFZ2l6hqw9wEXMj4L7chdyDXGsraCWz2Nt\n",
       "jL5h9tTEk75znQg+wpzaciXEKD2FN8sbqlDuWRWyoTF+aaL3lZwPIG/FDlFjoBpnqygPZLG4yPZ5\n",
       "xyzwwhIhv/SM13RkgvtX1a4zst+7rpbfw0dFNOzhKAgGIA7wVCegfnwX6DC1dvhK5awlq7HggT8e\n",
       "JuZ+3L/nR0kaIvz62c0H0r9KMMnAQGSHGQNhmUB//Ys19C6ufVOPmpzKWqiaUjVz7dHzk0ub2uo+\n",
       "l7OgLRoV10njuw9jcq5uCzxQEKM3LgCIYbxz7zJUBUmxrDj287FiUO17ZDDcqwMudIbUHo/AKAyu\n",
       "TLz5z7WwxsUSsHXggielqSmpBb71l1/MkqGui/dhgylZBZPYPKrOsh/4QPx8sZK7Hu0PIqvzEqGh\n",
       "8+pPrgts8drea1gmPC13j9xOZ60W6mFqncMeLziRtQPBmYA1ocpv7GVpAqcs7TX/O9V9do+izF95\n",
       "1bvydufhBSMbrBPNE6lCXe3fD/wiDjeJjaOw89Al4AmtSVyUzpfFhsSNmHrBYwBRf6xoX41wL4C1\n",
       "/1CXw+Ah9rPLXIehVs/l0mMZsY7AoRLC1P2rhpHVVh8djmzQVfwL2FZDFx6FR0tvSpMpeS91sfxS\n",
       "MlPusmoLnlXZldSVFRuboQtkdqMUPNnDYx7Qm7pA75pg7WJPB9JSPh17LoymQSS4Sg5GURS4EvRP\n",
       "PFOnhdMXu12xUrPJwmlZDZVpsTzwiguw11WJNDhoaOiFITw4IV4KuDUPPuDBQhLjYpZAFboayzuK\n",
       "rfyKzX8ECIbEnfLh4xFJSvelkVIfrjpfEj0btnFTpZlP+wUxRL3JwPbWyoQfvVr7jbu8vnGkXSuQ\n",
       "UA2fnSobHfF6A/j5XXnX4fg09HE+nxJ+NOVPM35hPfjr6G68kY3siQsp+nTsyPpiY5dHcF3fZu+k\n",
       "THGWHay6gjjEo04lEG5minFmhMi1xB3oD2GC61pGq5t+HMCt31Lx4TWRSIYy0kRiUgTzl/xpK6De\n",
       "3vAnOC7sMtZUQblXWaNJoWkMsh0fjFKdDxKyZTZZ2LlDyCU1Evip+VBD0UB5EJP74RaCHXsYqJ3T\n",
       "ALJIo88RgRZlmWbX7o+hKXqmuswBivapMD5It95zNovSYpkQNlUWRbe9cKFWDSochiR1tQgFDcE2\n",
       "MtRQMMI85DKqUTsjwOS7ULVVZRrhcSRaW53mjFd0Xytel2YB2NCbhetWpzNzUOIu22T2cB297lBS\n",
       "O/xds85u3McVv4Z2mnU0KL1iMz2IkhcL9vT9p1aCUtJ1SMCf1q/UBTJLgl9KEsXrduQSsgvnrEuS\n",
       "dTxBlrN5lMJVglY5lPgWt36LY/Ige6UakdbeE2updnFD5IH87jigZ/wWLhfRlyfjAf3rjsIjgbzw\n",
       "ODEm6tkZMLwgaG2ibIG3QefNWipPHZK4lur57w80Ofo7HmEvlPpnTwZQSuFRmjY/ZjQnN+Msr6Bh\n",
       "YwHeoIiERkU+/BOtucyZxwvYWLxWe1gZYpbyM/gOeaXDjPav50qsFDfeF1prtJaWxnQaWZYdQylC\n",
       "Pq3NU6BDqfy2yn1qGp3I+O4ReAgDHkAtluySVhZsQsUBMVhlfXztKm8YFG+rvdw/M2/D27qGcZfp\n",
       "mKDKWhS0EiSALuZg6jwpiBvA4rXbCK5VtbcDZqN41HbQaPViZmpCZzjudlZ5ZjrfnJVr7/2FZhD6\n",
       "uzoW/KcjXBjl7euyiVhv4L7HJ9qK+pFhCLhRPxoV88qcVwI/xD0Rkzks8dwKpJVfTtjtWiUxGPRD\n",
       "iSAEI0Fnixj42eXdSaYqY523zjoMjUu77zGDLAEkGZLawp1MhbnUMCe9+Z0zGsrCoSygD5Bpe/j1\n",
       "ef05DrG7AsVigSrIyhhTrHNdoNPitCHZ/6CZk5ZDugOEm9wDVXg56DQsfkjHcbeHXaZRno+5Iu7Q\n",
       "Do2b2FeyZZudMl3baCWnur9LbAa0Ss2OYOmGpToEGWKWy7Enc7m1GLyf91R0x8WiD05tUUor498O\n",
       "K6QaHmWZ3X1vUe0K0g7DwNL01Wnz11Q4l2+7c9OSbxEOiSxmOzW4WfXEXUtEPPx7q/oPVaa7NARG\n",
       "hIqLjxmYSXLTDJPSd2jYQaa7+SL8pdr07VORgsHeLXq76dIZv/KmyayaCO0NvOSoMLY925bsdFZk\n",
       "acKjKki2Qd1DUa7qyb2Cj/FJkQbDptYTzyVzLrNMW85PNLeNiwImWOD6JHrhqJ5mgUePq9wpRyqh\n",
       "AuX+FxDNFVGSS1UrrCYwYD8zqAxvHfvntN9HXfZ9Owt9VYMg59zjzAEb8hTyHW0O2VciymSs7yJ+\n",
       "NgQ0pvf0PVOS06gKSHzvDI2rhJcq1oJLjinhIsUgiusX9ZbU6rYw9Jmol+Ibh/Desp5fx3Mq3Tw/\n",
       "9x3px0RpmDw4cXgqkUpIuLyJHorOqEEtikBtHFOHjOQsdhMykFwdPyulEQgZkqWY3UCUkPoDJlQ4\n",
       "/GxuXZu1r4HhkNGyoROUQl90korZeo0Zja8L8wacQ1H51xUWIDMm0kOT9SPj1uPPUr9MXTyQ0MjE\n",
       "wLJyyLiG/q2RdgRPeFaaaaRe5DtyBx2/8/im3CUt9mghXNN0BxL3M1f5X8ij4xDwgeAa3UxoEzLT\n",
       "CBKX66KOJ0xMjHv6p+TB2TUWqL7TId5yOTc8VCJlTIf6myJIHJzfqL9Gk8IpI+JD/tXB1MJAzI/F\n",
       "n9qS5cPIMU0S6mj245bq13Bt8dfZo5Yb2hR3GXJA1CBe6kb5Vl+K1a7nKugTVMVhL0n1N3shwuVV\n",
       "5zs46oqWOIh4fUWMoGmWBBw/TqU5tHZGcCreT6ie9NMRbgZjB86mLNJ8joEaRVwYSB/+UE+zteQe\n",
       "qmupDT/drQms9pC8ET+LTcn+uBY5oi0XjYZFuH6wg2sz7hbXN577sdDIxvd8Zib6lOC0crST+DGM\n",
       "jZsem13d0bkOdbzyFak1zdxCbU2s2OWEj/QdoncxgzHauDDYJpb9RreEJPQs3KOP+Xp/K54UIxSX\n",
       "kgOL9ooXHhMjXkb4ld7Ybva6n0HIYXn3eLWbM4XMnE0u95tKvPqMZdPnr04Ka9r/zkeEI4+0i9iX\n",
       "RqBxGIV3pPbrufOGJte6DkpbQopJQiFYv3nCFpIFKaEdPQr1q+e8LyWjscceTIxyH4UuscO9m9W5\n",
       "P+fTa1txOE6i3YPwbYLmYj5WW/Sp71BspIKKwHN9utsX8inhgxFIREXCoAJeF5x6Te+Qpw5snAo4\n",
       "nhNiOjz8OAP+LBYfejqPtbWKkYktBBK0eBAA+b9DsjMYqzGD4lsbngezzNZsaenCS2YvswU8BZLZ\n",
       "F/5VN/LynMtSXxZe4IYR5BqejF8SUR++01vsawihNBtJAhSPmxGLYduAQxUJ4jLDsSWqUUuCce9x\n",
       "7NzJHHjFakbHB89BGGfGUulYbzB7GCchZnskz0l1OVej8+OfwSx0YBnLbzVBn2j0092D0ztWPNZm\n",
       "TiP3apf44F32+2/6FtG85VJ2xhKiOIBZEZW35gsXcSwYNil1gRU5JuxuAzbYFdACtJrEICV+UDjP\n",
       "HUd24NMnb3H7dosJfJW0Qan2kSAVkyoLuqh4axDzy5zj8B5f68vegz+ipBc9LGBAXxkK0qAP1uxP\n",
       "9VbN7D7GxVNBFp0GfQsT2LL9SxVUX2x2HoE914MerpB69wl/boluZoWt9Lg/rnSwx7rcYJz0qHLD\n",
       "Xl7b0tlMr/tXPYlubf6EElxiA/kqptO0USY7GCn8tN1Dv/yZWtEukufDRDGwZev7waEOzWHF3bxL\n",
       "XJYkInYWwsaPQm14rA3d/bhQ28468MvCmJgSeDqoGDTaqBu89QV4FOHvyupetLCTsoFF+flIVp0O\n",
       "B2mwkeDDZeaY2RW9SJoAowCd+IfnyAp3BIpOMVXVtpC07rSUISVo/UYPfM+8i+sUjSdC1PptuXI1\n",
       "LRXBn3wz2ocEm/29giKYyYup4N4Tx1XlRtFscK1bNjyHsr/kdFvnGkpHDf2AJmAMtvV4APXB0RB+\n",
       "7FV/4LDpTGuLp8H70itMhTKXYjw2IH9K2S0SrVRVx2dEcooGUwX60jt6ZFHlsp5oD8saARFysDrK\n",
       "Yq90SCRGq1+7x3xlgBnyLWAqIUvK7SUpenLc8Eh61SK9TX4erIjwInp40XfZ3jggXFlnDI00dfmx\n",
       "sggNWLsnAOO2r80y3eAZdciZyd+mMMIFVGw9mhTfY6AsS+DE/C6XgpicknYEhlsFcjpPRGqUKH33\n",
       "4kzsASRQHeuF3vF43VzmWqyB/HU4qMPSA/r1PmrFu24MWo8sn5K2rlsMA40AbslaKa7abS3kSg8v\n",
       "R602ndqyHxf2B29d9rqP+2GsyISW/SIuAYvl0zn0e7Wo4fBnqJoDNw+y/OjEBYL+d8VOz6Mf7uFt\n",
       "KN0wxmzUoKXVisMqdrOE8H0wH3yEkedccP9BwW7Ob5zkjc4kxbeRuXhZTSq57o15mfIP09/NWGrT\n",
       "iqh/0tLcOA9YtIdeswWfprwuBzmPQPlxh+bgjnTr0DQmq9bHSuCF2gthsIm4MNCArtyHO88tx6My\n",
       "w2CT2Jku0s3R3lhuEJehDCCpvggrqwmAbRR9FdPoboa9WXvZiRILopep4y0YLR+IPz/r2rrUnuOJ\n",
       "/sMO/tZaEgQD7JXhHQVweRP6dEZ5fn8mJ64cgR1GDI9WWWIQ3OFdCzuw7NN6E+XI2OwsUrx04yXK\n",
       "RUq3Veogl1TQ8AYISzAA05Nsr3j2ijiWZswDKULAR/zljJ7vUNZpuC3nhiHYSo0IUP1bwHyXDYAD\n",
       "ofMtUyu7PWDcgDzhE4d0kEINM4XsSjBVWfxjjEeZp52Slwya2i4n7qZFV0e5VamIcCJ+lxgWEyTy\n",
       "IotksapCYVkhoGImI2qjCO+YSBt5eOEhfMR5bpIgEWdXReT4KfUz7M8psVs2IbJ/Wl9kR3ot7Co0\n",
       "uzM71YZDET//UBh9vfWBiE9wzNoLiubLeQGxTPI2sDxJpgn/CSVS+5d9HeRv4EYBLJ1FG2zRKayk\n",
       "AXtsni/6NmzpU4K9WXZs47L3KQfgGszfNgzt2KzztBlxn54L1q4vYOdyJThhRCfHR3pjqqU/Q2O7\n",
       "qdlgYiJH+Erypmd1gdGuNSGUebfF4/j/nNWM5bSlLGx0sjJuRZBfbE5wpCezSthL+hFC2pSQ5jMz\n",
       "D+tpmf1cDWydpAxgTGzZ8j/uMXZh4VPz9ek7tJNyi+tmnmT2AcgZtAtsqO6HzUuDHyf1zM2Ke4M3\n",
       "gkODCQq4fuf+3u+5vKyecJZoMRbEHMUTf3iPeIBvKf4pIC+7kOWS4a7Ev4K2MRCnkS3QFguC8pnA\n",
       "tI0of0uEmQiSRa5hFUI9fPKPzplEg3z0yC3H75UJq1JHIITJdUgRBec6XrAq34VUuQEqgV0nq3VK\n",
       "O9Guhvmpoc2iyxMlVPJdzFv46WdUxIl0LgkhHV2SvIomjlwyYIpdBab2GzI7qKRO2IdVHaa1M7Io\n",
       "C89SWLedcVdJhFZg40KtJgUq3/LLkd0Kzkf33nf9d1mij6/f69wQY5FSET0qOcAg3fOeMsUsDahI\n",
       "SOGk14gmcDzmCVrvJpb/f3p6j6UGujA1a9+C7+Ynnm89tqBfo00EP+XX4wtWutwo9A1fB/VpFokI\n",
       "t3FhNkG3LfVu32Vh65L2/8bcczhR4S78x7BhbapGt0KAFf5EeOzwpHlvGg1PBtxzh21c1wX0wUm2\n",
       "9UP2cY62FcZQXm6jga7xPmOXHYo441dn+XW5a7+7TSnUiZib3jIl7mqHhRPLHWj4uXMz+hYZjwrA\n",
       "rP2I4PXdoQ35nKfBpLn2FXEUkljjNRiGuoyI9D7hOsbXIOQjl/kmJh8dtUG+UcHc05CXwC0xI+2S\n",
       "8vZfobMOXsP/J1g598+flOA6wiAoFHenHTtwGaTEEPN6LqHesB+QSJ8pUd3t41kq7W1CUoWonXWO\n",
       "3h//A03N8kZsLBk9QEk7CNvlMeryeD/BijL/F0XgG+IFJPrFQNCUuEyvuVmu9JLZttDDn8Gd6qvj\n",
       "CLqr+jgBTE1SXngov60/BUMVZ3RmjHrL5y2abTr9TcXVYA0lXR8dq9O/x6d5FsKoMkVAldMbhUBM\n",
       "KntGdEFqaWN/d1Tj+GuQjsbnYx3uRtaEwFOfCuepeRFHgQeTypiYTosuaBjKFFJrUtCJhKknUxFE\n",
       "VUWFpQ4Bq8m/jomBgnokmRsvHehkvqyQ9iQhB8O14Wa1xN98uQRbkNotjYWCFg6VHuZE/ZIqIqB7\n",
       "456DpL187OAtE6wWvf7GGMW7r1ycyHjq6nSRn1D/DWjlNjXkTHYQd5iAj56qPAsgGE1yNb3Ykj1N\n",
       "GtceQei2p2hDXxFUcog4iNty9zeZ9/FnDfMhey89GfbuhQDebZ1/LobjUwJ29MMlF0QJF/bDpHGP\n",
       "kcMtTLw6Q6a/TAgbRQR0HwCfRTsjh5H0IW/Wk45KAPK7zLcPigJ+co4lm6deWlbrvnuTwzt+YKSF\n",
       "g1P81ai6EA1Cqu7obz/822mp2ITwT1GA5qMbvXSWZtQUJYepm0yFy5IMyCXYQ9oQaxXKbaFt4Ie1\n",
       "0/5v+a5Qw3kBmQJ2X05w3GEfqZhi0I+5vgwNRBcpEV3uoGo2gB1XTeeWXBcYMxY/iCHwKQGpIUMi\n",
       "fM2Q5MMu5jGHW6s+au7zVe4Hwe8KconvZZRPre005VZGux8xuc0FN9AiXkWuzTH2E+CbwwJiHjaB\n",
       "UgHsKlSjyyFi2cvIEhf0K/fictfUw1c6erZW3HM8i4rBp1xuMr/MtI4e0kDN7SrNcAhGbyZ3WikZ\n",
       "bP3hJU21cagBtYUPTCbwaRZNmkq82SErqh0HDc1j5vuigXEu82D7FbCLVdNg2mdAlKvSnXrAwtl2\n",
       "aL76BDlIQgfSNGlb5gGbWNV+FNrdxsdbByLJZUdDYyrcg45uSLrK4acctPtYZGY3A2DE7az2uMtF\n",
       "YBLXcDNjBmdDZzb+JdcaUp6shsrQUFD9+ExJVqtk7lXiPsKTbL2/YQawBfLLTUgBkbQbujFnO8Tm\n",
       "Bjla4YSWniKcr1Fh21T7iZJY+QznPEmROkoKGsV/avp/0nWR1knun4B045dk4T/us291+r8/uMYw\n",
       "BGoMIcNSn+RZYf8a2e1MfFYzmeOBbHC+Zg5JoItWO/MAspK78a0gmSUT3hg0N698LXtx3bkGlONV\n",
       "IVle0VXeFiDJ8kQFGgCTE6aQYFRjxsqd54j8hSOE64yYGOo/dZF/+zKe88jmDOnv5soVFjc4i7fw\n",
       "jaPQg+uiz8FRVWIv+L44tivYz2jqEwMEV/Lq5AH+TkIw+0d4rjxNaWzXcdfYimLu0elKpp7/pscZ\n",
       "MD4rOLLtv/FcVpwqtgPPMDMgeqLkVU8OdEjnX4pIA4QbbC+YDESII/y85yZdJ7G0MNJXIBEXohBY\n",
       "jcI4Uxo6Ec9D8lWpBVJh5Z24Ckzx85VM1yhABIZorIp5cqXQE5BM4yy9DkpprEIMbqCsSLM5lkoa\n",
       "gak1mXeGbCoYGAh7PX/AWjPKnwrI9wYzHo3kCxN3zxOc1wmhNOFXQtaar7S0gvfUJ3AvdcvksaLU\n",
       "8egDKL2zw4IAv9qVljE3vivxF+L+NWhF+J+VOKmGieKHKLvETqYivkvy2n384wzzQmGI/zbjAfFN\n",
       "6nDst557yy1kZCJqqa4DDjJQKSE3u/MTAaN9XJhfODR6+v/947f/m/REpan7smSk05hEv8BAz9uM\n",
       "jSnGWDhHST5rFlCsznWRqo8L8X1+yY5AGNLy8HQS6g3oRcBk+JFBZsTv6tXXzaaHaNWvyI0fUDMZ\n",
       "dpvBoHEQRPk4Q+90htYZvVlDYioaXKBVGeuDPdXHG0NbLC/ubMjAIaVpOB8Udeueql2utJfVq6wF\n",
       "46hfZPkziePI5zU9yVv5sV+PwvKvzKPVglyZDQ9P+Zrr18ZmzAzstai9wHR24efRAO6EnxK6MvoP\n",
       "caoQIsjE6O6VZK0v43qGdwkXolFsZgW/YM/BcNmKHx5/JB8kb3NjmMF0X+BPXs3H7gim4Obmp1nz\n",
       "yuSidYmmnlJI7y0BxnDO1pHBPl65oLib/oecUEByCpTcYie9mppxKWIX2Q8HoZoSAw9e7S0O8sjL\n",
       "k7weS8k6llX64eYD3X2hnpXbanktvm+CMnOBfU2Eflx/nAxSdS9q+lL+lDOFgBbz0A2u0FIduiEM\n",
       "e8tk1lBF004plfUOqmX3YWOf66rxjYJfEYM19tfFoIPMvtP5lLbpMDeELLuzYkjxTRbaCbOIFtLx\n",
       "iOqMeRGQe6bhwRMuAr/q5g2TNKCWn7OUq9skSOcChoeg/x1CpJqQ1xXIHrVbRCDPcLY8w4ZGMT1X\n",
       "LkJN7I+Y17mydneXUt6XE+UyDLceDX92DHrt8P5iZIkLzYkQw74JqsPydGyPfqktOJBV1Uo5ZMTh\n",
       "oXMaek7gJ4XTYTEchv5+Y4DiW1sezh2YmQMZHLEDA3rfz2FErHKcYGHqFQZ8lKddN0I0Z9YBzJDc\n",
       "IXMINYt9BEh4x9NjrAdY3T0OM9lL/hCOBCwxypBtPNXi2QPJPtDZXXLoizhv7+JJ/LHbpxl7hhAH\n",
       "vT8pgimj8aTeZpF0JKIaJPWwY7xswwGEyGJ29DHWUTWrJavUAY2FpHKdFU5z1OPXhasThAezGt5m\n",
       "NiVlp5fugKJ0oawcY0qi6YrXx46YlMkUrxDk4lFhazcyjv9sSgW1I/xo+OhjofpwtYTjhMjH+WQ5\n",
       "vMFUWvmC67Al1rNFNxAulk1O5Soj5kPXHk7fGJPUByFGVeYQXtF4jeNABCwOPEEYIFijeZAPT5Ar\n",
       "0AsSqgLTzr7R9CZRUe5NlS4SstEA03L976AMGh55c8zxP6/elmL5RgSVMUKUn87Xt2NfIeKIwZcv\n",
       "G7LR6x3cch/dnKXWdaFHFa3xN+krrKjt1/ti9gfXcdTHrVyBAmwTCYzLeRjTB9Mjm7u1yRjHqHY5\n",
       "ClGjebmN9bdjNRSG+InKSFvNe1xZyT4K6LxykgnELFJs29WDUgpfVSU+TLekPf8HAfmfcnsvZ/sN\n",
       "QcLxl14mz+mQRRjOM2VVB4e7f9s0KSmpBb/nv8F5kwP/FcQC5UjDkaqKEj/uX/Aq49OAGABOGDJZ\n",
       "onNnrmiAjh/o2DhZLL7fxgtk5SI/QIBWdsgP3mHBj8xXzd0c+RPFbNd1Tei6sGrb4BSa+IWsKvNK\n",
       "nZvGBSDIIsc7S6J96yOm0IqH8f+KyHxQl/9to31VozViYgfb1sWISSn6JA7RvbfIorPRf8FyBR78\n",
       "MihQiVnfg6rTD87P+WU+vEvjMhYLOz1t4/fs6HgDRZCWIZP2+7dLX5IvlmZw+EgEEIjybeZVumGw\n",
       "yz+v8XPk2pt8qlMQHc9mUqA+RTo4hbujaoCGbIkZaZ0wpK3mXBRdlVD53pGfYIt/BP/tKCZLQaSd\n",
       "5uBkeegtcP275WQgHVYH2oPkbGTHTymZZUu29eWF/CkEnZVk5a3l0MSfnItCNS34BwUJfGv3TUwE\n",
       "bqczBYzoGfZzNaqn6NT95GkuOmE1/MPf+51a5sRj8v2uYFJQAwMc1Cf58kZ8+WdiarV73fpZudvA\n",
       "a9XMu1uAF8HfDH29l6V3/zegysPcfuOT3bERgFX9zOBijPYWxcIHq12p0uB4Rk7pnDgovaiG/rML\n",
       "50pWy1ggbWt7KwMo0+/l9hHPhMQSRgOY8yBGgiD5bAKl7k3DBHXzmi12Q///+TW5n7l8UCRTkxrH\n",
       "8JudSOX/Jbgsy0OJi0JSoyddEE0Q4r8e3SBKnDiLwP35vyH0aDpE5cHo8GmAP+R15IjUFhv0vpBA\n",
       "JR/EOlP9scC49wbr1VI9mlQWkJ2clgi55yppzVs01HKZEz/4wK1t84pCRNoddQ8ARihbwmzVsjTh\n",
       "zOPITXUakSC2LKaqu4M/rJJW9G5HxkMwob5d5tWKOR9sd3+ve5w79rdvR4aKeuYyVgpn4/chjhu8\n",
       "bmrlH8FJh9dSj/vHy4ickQKFQx3uxIZuSm0Tw7tfTPGfmdin1G9KWZGGoF3qNBLV0+Ey0Xhs2vtk\n",
       "3boIFSqgeRPAl8W+CmQzEnh1n/VIyo6UFsG6xDL01ydAb6wmc6oZUc+SAuUPyjXNwUq1dDYMryZ7\n",
       "e51Qy3tcbbpCaJvHlSl7/afJUysLbt9vAkaE29lkovkMhBJ7LkuvNxrYXzssnh/akvjiHsYby2tD\n",
       "1IX7u090w3peDdUS7xI1KqipUCkY6YMAA2y03IHa+G24/JVtxOIJX2IFwLJ+EGQtjWFVbeW0C9NR\n",
       "Zkd6DzDop50qym9GPH47xDUUmaw3fBIdyAZS9YjAw9LAkHlb1gvzYhVJtyga0F+F0xA1ACBDIZHf\n",
       "J2mLhtf+BU/9c/HGdC+rnYghPqoP7fcMwyVwCqvMQ0pfM95AUCa3tYMP5p/gF+CLC4MRoAyG9EDK\n",
       "+zKoecfDjIgKX7xQKksLcPxoKm4MKMKkVkkOw0LCdxnANoGioDeg6qeN4B0l2k/6tILpSSoWDtNo\n",
       "2ZQ9LgyOrNUwY5Rn3+Zfur4tZNMM0GdKE0OnF87smKhurf4yM6arKlgBvn0qZXpxoKLMtap6uUoS\n",
       "RGnFOn/Mg4GsyFCV+uxtu0LGi810Hqa5ypUkU2oEOrxHHqbJhb7TvEsX6J1SmaSvWCbrH3r00bY6\n",
       "tuiy287SA/iGQOLCYpCbQCi9NSlPzFeDAkKsf2kFo4q4Uf2Y8oKCT2dvXujccrRBi8rCaIzAitNo\n",
       "3JKOn9Ta2g+wlWBIJVRTUF/kfXzMQ38Ouvu3u87jwWaLe8dWK42J89UbxaPHOcjVl4CmTEqHkxl+\n",
       "owF8TTzZ3L5Djkep+HhmrHGsBc9S+fEFtM9JN2mZut11zVRA513QQ9oYmzn9MNSZT2AB6BMr+jj5\n",
       "PoRq+sGArCqorwinsBF8JpLKwfN19y6QxUsmL9GdNhh3BVycu+A7yRbn/hbxPp4udp1IXdbtkVz1\n",
       "r+TCURBPLZr7o9IjGiVtALTW6INxFAc8AB045gxwvijP3o8LIzYF/hDTsKgH0opkl3agb4GgT/7v\n",
       "oSWcUkNLSraNa27qoa1Blx6jURG2Kn1Ty+QqopT9JWqbqgSJmChV1j/ZWMeBr2MDxTBiBPc+CqSt\n",
       "po959PzsikxoNfokSpeg8Vu0lxPxTltNp4mM9AXDYQlz/wnhNXfu0pqZNE28a6zzdQIMfKVi7Mjj\n",
       "X5rS10PViHVzmRzEfU23JmsFMaovWEWllM2/OBVtEoyxPwWQDg8lvaUP7FiTtzocLjuCr8dTV5FV\n",
       "WoU2S73X0eugUDpIuY94AisC0C7cK2+tHALnGm0ZzK7Boe2nIzqMlSAQt4YMBgfCfqUVM6bzltHq\n",
       "4DcBg7bIWMQoSJbwcNVGZZxi9jLHaTieB/paE8DJXZMqXnqeymI6glV+bM+fMrjFEymiP2gGLI8y\n",
       "9P4kyZr+F2X6AozlECKqIHqyRnGIPFkZdnHv53J40EG4QpDH1WHvyiw8jTQiVyl3dpGXUj8Zod+v\n",
       "1ZJmkXxjhmO7xLNPrJQ2hsGFnlAJNya5uadqvGn0i//8bXj5VpCfIfNxW3L//6JwNhYahkMEY2BG\n",
       "bQvLd++/rvBi7IiANRpd11FGhC+q2ymlRzjtQdePpgK5bQbwrrilQQ+4AMDlPIohnGZd775yujs4\n",
       "kyRSe1DAJF0QDBvNPYptmL4HFbI+I5RqnCIw2zFVKWyUuR+lpy01uBFq2UkCqDUAoKib/IEPhDfu\n",
       "GPkOUHXcpWARFdxtvO9tZ7nmKE0YdSmkDRUZTV03vMyo0K9f4rJ8g4bsGgk2Lv2K6Z8gyPTeN8MD\n",
       "ps9fxfk12gcJDsNM9+2g8llZdMudirBNaBSCCAlblLEWeRuvmZvjNHqNt8CWtzOcyHwRMfnpbSSm\n",
       "NDee2jVAhWfFprD9aZnqTd0MGOSb7cjpJdNpOXexRkJ6ReHdEhA8gdoB6ZxFpsA98+HDujgLCYF8\n",
       "xMc7qtDQXu2CA0dGvV6xUkRY4GSDv3Sa07+TKIEZKY5QunUVKATXDUuQYYAx/EuV+lHwBN1aO1t4\n",
       "dSbsQ3Zdi4bXBD9h+H+q1nfNrEVfSJDS/FqitmI0tAq2zULcUOCAZnS1ao/jvwrPLy8z5ellzAqO\n",
       "zOL4zMH/9nhNrt7D/7iQb638viJMM7o/ipe3xvUpxBHBqjQErBW6w+Pxxa0gXRG8ENQWZNasO06E\n",
       "/CijiJN3SzEIvRAz3lzc9OcplvGJFfkOGHHjloVBZqGVo+2h6F+GqXM6ScIkPojcBizP+3Htz4ux\n",
       "MZwP8n42CT5oZZ/BaonqtEvOhSkUeDS/S2mTzt9T6iBlNkkQLO/6QTFXBB8kyUMe43PSSjXgUvPI\n",
       "c+nG0b7V8TiXgm6udMYwRKiqCEPVGFwreqp1q3ic8C8J47/w6tv1PTF3K1+nOpGAcouAHDB4+7X2\n",
       "XYs+YshzbUOrRvR/fqFRGvxf556NTxzuv62nzZEZ0PW28RR5ihOi3QlGohFH7JfTxC0hrTWvmLYp\n",
       "OHfrLKdlew8uo3f3Vq/jsLaH6BnXCa1Ov+zLOhjDKm+if04kMijlYznEIEhb4rKgye8YTTjejhPU\n",
       "OhFL8pEUHXEfyJai8N5BuEE+jYZX/yLl/zho0GpijWNSxkdsv0zm/ouDF+Av7b9ubQqCf3+7H2U0\n",
       "dIlXjTHsrgv/AsKyEpgGiB6VvYCx8IAabRnTCYTFCtAH1dO0PAdi1lnYslw7MP6WgIAzHYEwZtcD\n",
       "RLnWDpbdxN7+kKwATeIrmV5QLcuODwpiTqNm498qX8ZZzI9Hq+fOD2mhDQn4kVW7O/WWG6sbbyuQ\n",
       "nshMe2cz+g1KmyYh6dPLEeloni5wIxKHBvlpH3ae/b131kl/NOIKe8QYN2o1sDOYOJJ/KKbYnXMb\n",
       "6E1OwK21KJ9YxDLHSkKqlXQmeAh5qDleEPQdqcVDnX7LlbCidQWF4KmHiByD0xejgIgGELuz7MUP\n",
       "ONFdlILH9B6E9Z6ywtgRoBRO/C12EEbhv9j2YOLnxxl5KwmHvi9wkAUgR3xQx0sYAFhS5+t4y8A6\n",
       "hsiZ+8ygYSi1uFTTDiigWctVnEGJQpfOMWyCDBvSdj9z1TBu7pX0bL8gPYPkDhoPoXuWXIu6frfT\n",
       "WnRx+v7D3OD1UNChZaJ/62lhKlTGh8FQjShg/pGbfhS1QZV7AB3wXNteih4E7SBmblE5+9QT55qz\n",
       "17n2w1we+i+Eb8pKFty3SVWNw0spolO63rQNk9DeEx3MicT27Mo7yW8ZOADbz877ufny7mfgbHWT\n",
       "RVA0H28YRUZB3dhsRkvxT5BjE9ChJCVXJqqIVJ8x2b4XUzNCXwnloxWQbC9bVW7+mRAQAlMfaHHe\n",
       "BUkVTNcQ/zH5GWb8y2eNZEXwd+0cTMinP8nDmUhCXwPg+K9xiEWdTigqHmCUmK55FYESfWfpD4mf\n",
       "c2xZLPMrPQVmUklpH0EuvXPqZe7GBhH/zAKB9hNUvlws/SPbXFNFGqUtQSiFXFJm5b5iY20sSdbR\n",
       "I16Vw0JApBiLfO37fGpCPgzvLZKV0hfe81+h9FuKM1mDsJjdOzuB03V1dYCWP2aIzNGJZSgElDiH\n",
       "+//+VyM4zwax7VEStC6efK5kJweDsOmz3Wz6RlECKwOyLzeqXo3vm7LiG/0LDqbsBgL34hykM1tl\n",
       "9ViFkdIbCQokm+snnq/zxWc6gDXL6FiuFcSxRujNXuKy1s6UUylinl7MjCceSkvSWJTyPqMpbuFY\n",
       "n4XBBGsREXwIaPPOxCwVSrsfSnJby4sJWAEB+wpvRSl49uJPEB6yc2hkJO2xTV5rkUhKoPa/0LB7\n",
       "tsWGQE+QewSaad8R+VXCXq8DOFeSHo1U/u274PVsT9xe19cfktw6FY/AYvFMCqT38xSm1VknkCOW\n",
       "tlz2ktVU8NrwmaxtHgfMwWrQgc7OjIQOZ6upqldwhMnDIkNXqhqwyKKxknkGVcPIHhFFcC7gUS+1\n",
       "eO6WkjoXobT66sB3IcvIDws+8uLaYRVxJMX++SLYOvfWUXJY8MKjyR+4SGJP1qdIhv0uNEL6yTk7\n",
       "Lt/QDwPQwBmr2XMnzNj0k0GMIFNdNAF5MswpUdv1+AmgAqEZWdgZPf0lbueadIdrCB6E31vum9LN\n",
       "/6YUTExkM2a/nyJXsFNhhMs8W96ljjqOX1pkOhORGVSRZmdCJYSc8I0d/8uISZQRcyfIQ0osaBJP\n",
       "oWemkkjoSe6ZuiEqKeY1bZ/te9servSPIXRRP82JX53xqC2t+QL2sBlz07CVuoSufVNH9wv55PJS\n",
       "QGkPQPrF95WJdnTqKri/ZUV2uecJ3LQV8ey8o+Czpw5VXdJjW5SHI3qCb4MKaWJvGXm+mUOwU8Uo\n",
       "gsPz4X+FkJKG1hYerRSEMGYucKyUprdsJMvAs7w5QAZagXUtg+8+J7wxvmahUJN8P0Oqg0cruC2y\n",
       "oZj0y8lzMybosbp/ckDUasbU0RLkEtyUSrs5ggYcxWsabCUuhbi+0FDjZoavptyMBhJ54QdxYkZ0\n",
       "34kH/Gvhwu5CdzWnn6rgZ8JYU2Pf3y6SsEcwQMDoZDgwxlAKWRrPFeXPYOLs87Gjol2ajbcY3F2a\n",
       "gLUCDd4J866FbvDuKTUUEng0rnhcdnSYZaIa+tLOUTr/yM7TZ+C5o3yyHKWaTCLJctlgYJaIjPeI\n",
       "t7Gg+kDQgAGV1XPN2HUWME+wdtSfIhaKImJTU8btIBz2Qqr3+Ow+jGaHcF33bRatNgSDrTaVlr7/\n",
       "jm0q1joYtZdtT/a1yLGwdPIYKhxoRRK2OPkuBkpR9FSBnaH3q7YNkLsTfjmX2h0Ycm+d481YDIKI\n",
       "8m7+hWpGKAGNYBTUUyKq4iNlUw9+OuRaozklk7K+zVcBeQQfSNAL3t6+WHyAVw2zXWLpkxeHSzzt\n",
       "1R1BrQZg23y23C4ivDr/yUvJGFxg9Zh0CDQZV+q7tzao4b0SM2YwqG1RS69ZE0K/PVVEZbhkm0hK\n",
       "9IYQx1/LPtxZl00Mquwf/p/HPbw8ozkBgguPm+WkJ16vKdpmeIbhfbmsihgPejsbGg01VUmy06+X\n",
       "ByDue86SDtzQTqrK6pZrH1LcsD81BwoFBAaYVTeI1yBCT4ErHuwgbvD76gIJkYf9KUUkrsMPNT6m\n",
       "7+SkBlM1Zz1UMB8dpG4FotdkP+I7tO958Xu2+VbauLD4FjQTYhkKRfUGjeMM3Pcx8r3/Wlc0nAIX\n",
       "LAL3PPjezjImpYtzgrjADg59vMnkqCONvH0C2m9c6ptChYdixUH5Z2v/BusQPTD89gqfL/7lr91J\n",
       "FX0JNFREzuaHqgxENo4rhsXUhDVxN7NVlmQv9Wg+cGiwPOo1sALsqUBc2mnW0Sbh27v48WbY69wE\n",
       "GvMP5Oh8TcG6fXcUCAm0BPNHA5dc+JDH2ewephAbKV7ZjJ48892f6hVWyd0Mgy6PpgmdKVX5cOTp\n",
       "grB7KSpgd9pWInGsdjJssvwSm/xcS+2QK2em5YjmuBfZ6+xrCZVr0lYblCcYIfLtHsVcaDeUhFsx\n",
       "kLguQRFKwlr7SwY3HaV90rQczNrYsQOe5iqPP3MhjmP/X6auZmrVD1+0vUuw9xifXnbHN/zPmH9q\n",
       "t4E8uaX+ED34drvWFKlFKBKeS/Ce6j2tuH7kdYK5YV0CoIl45fvLlSrDGw30aTIRiV3m82njLrjB\n",
       "MbrfvCe3ooXJ/oEoy7EnFIfKJky8cKPxmSJAZx2CuHa10b3uTWceEwUKAt5MS3oWs6XbDuOjCB4R\n",
       "RRrA0grhznohOipeLmiij9Qb4s0qZK3BX9lHyaYg7c1rrPnxXmEGr+yDs52uIb0sYOUvFgA3M+wL\n",
       "AYjLqyLq/2gSiG7lxOomSWdEecBOsttZB8D4/CYSNV0IJmTZJUGFKatojqzGpgXU5DpOS0pIi848\n",
       "7/6lHY87fzfJUK3h+zsO7cazECpE72KpoJbpezIb0uM79w9ZXvzmW/0wUXTonQUi5/R74ahp12Up\n",
       "0KGfqpzvyW5pCdubF1D+2A5MkUqj2iyOKN6EUDLIbCEPvYMwiimnYyJKV/O7rnyjl0LM61UQGuDQ\n",
       "43nrxTNUy6JPv05vb2EHOS+X4s4FzUGJ4Eu0b6uz///Lu2EVdb3Be+ggXEnx7g/LwMwpeRdQJj8P\n",
       "ObiRtUnzveqWi6bLRnFhwT9hUjiZ7PXRfU5ZRznudzVxATwqoNBtmvUIlmoXujIr65bHz6JxJ4GX\n",
       "hqvhfOaf8ZVy0NfZhfs/GYXpYGRADx8eg1wZJ54awMLorDzcuJI6tPF9ety0UXpAAbZD+VHeLF1J\n",
       "eZxOGBLD/8RafUT4DowAAL0l4DOCFAIOBTw/idlVsQAAAgNBmiRsQv/+jLAHyrqOAWQEoiQLNlY1\n",
       "o0d8eTL+F7aa/j3Q6ZP39DTKaBU2uZ4lmKmUPkxQwwDdPyhydCZANg5Y4HCNC8ashkLK2+R+Q5WB\n",
       "m1LxY+WDEciJB1SiqMPaX/XENrDrZn2yuBUpH26ypK6FVcb7n02b5AftU5UjPQS/6Gwe3gZh+OaH\n",
       "6WvKnGnOYSZb12j8fCzKGZAU/L8E7kG+eUuQ8Unk/R0SSOvLPo9yy15LjXRODTvRrs5Igl76AJeo\n",
       "lNco91ms+ggBBL+gao2o5G/XkMPC9fZazm7fjEInUMVxGItpqfU/rwNFkT8ox140ehOKM7kArazW\n",
       "+NniGQl9AxSdf9ALHIBurD9crg57fvzPCTYQxaMFgjGV+5otF/pk8Xpuqsqc5a6IiwKtw/hOA7S2\n",
       "JRKyjTPoK0miA+ZHcIncyl/oG+A5cFrQ8HHvMGv6VwWZHlVxhmF8WHuJp0c2PHLcE7qLI4yiY2Wx\n",
       "1OQHdP00j/BFqlIgDgnsx/RGqkEozhEj80ubt4xW+fYzxrlIZaHpbxIMDUDvbBicqX+WNDBqkJmx\n",
       "ttSR4384qkXWiJYrHFQJDbrgUUYQpMlwknI5Ggp5lSZrG3UnF2buRHCCNrRD+rKovM54HwNwTBbP\n",
       "bueSq2E26TTMLXjP3pNG0m1Rl/l6oCohAtjXp79o3i2NjPZ2uAAAADlBnkJ4j/8E5Wj5xS4NWi67\n",
       "gcsFRfX+kcAE2ZtuZHsxaySK5ofkUdtBJkY8aCSORQxS709w3Rno64EAAAA2AZ5hdEf/Ba/dJlc7\n",
       "8LaMxABAc5K0x9vEQlDjOPTeEZgcuDDolGVv/w5wIvNExZR4D98dnw35AAAAHgGeY2pH/wWv3O8k\n",
       "zrXKSVHTdXpgIS/wdpx/+Bd1cwAAAGlBmmZJqEFomUwU8L/+jLACyfZz/1u7NA43EvfoBAEKbBWY\n",
       "d6w0t1zmCd1VomWTxwPMzDoG6d2GGNoWyTDSC6fhSy3dPKx59v0ubQYrTODqlrjIAN/6v5/+4hNO\n",
       "q+/GYRJAMGPSMwf/Is4AAAAkAZ6Fakf/BPT5Ga0F8AEv0tvz9wgAma97djmIx4Qx5yNk7jlpAAAA\n",
       "OkGaiUnhClJlMCF//oywAFJ1pIAB0jVR20t5W7v0WkIvhSofRz6upXTJQ0eY3s7dC6ZZVQLRSdGZ\n",
       "hFwAAAAlQZ6nRTRMI/8DHqt6PI53G3qO9BcAB+5XXufv5R92f0k6mAfyYQAAABIBnshqR/8E8+PF\n",
       "Nc1thWyN7AgAAAAyQZrMSahBaJlMCGf//p4QAFGe9vkAN2HAFaLgpSyyHUOj8HrV4zr7wnWe5LKN\n",
       "VskQMWEAAAAYQZ7qRREsI/8DKzRAKCY9/tkP+eq06AjlAAAAFwGfC2pH/wTz488VYcAEyPgXTxOj\n",
       "CGVBAAAASkGbEEmoQWyZTAhn//6eEABRsnRgCac2Sz+Ua8v62ix5w22CYw5zMTcJPj4EhZBgVVsc\n",
       "Ryf9tIi6cTQPC/IdL7usIP7TitHQLBxxAAAAIEGfLkUVLCP/Ays0QCgmTq5AAF0BJZcErPwtKa25\n",
       "pRKXAAAAHAGfTXRH/wTxiCatBTRCGtYAJ2eSmSs4fpT9ikAAAAATAZ9Pakf/BPPj2NU2yDcA1fSZ\n",
       "SQAAADFBm1RJqEFsmUwIZ//+nhAAU/G44ApmtWKLc7VLbGqkR+1+fNEFVlcsPBWgXVA7k4JuAAAA\n",
       "FEGfckUVLCP/Ays0QCglCeB1F0XAAAAAEAGfkXRH/wTxiBYR40vZ1ScAAAAQAZ+Takf/BPPjz1D6\n",
       "TS62LwAAACRBm5hJqEFsmUwIZ//+nhAAU/IsgBEx763ASjKvseSPCrAsDAkAAAAVQZ+2RRUsI/8D\n",
       "KzRAKCZs7IhyV2OQAAAADgGf1XRH/wTxiARgJ11dAAAAEAGf12pH/wTz489WESaV0xcAAABQQZvc\n",
       "SahBbJlMCGf//p4QAFPyvjgCt+vDCASOvRjcwaPWQAYvNQccsGeUe/PISrwL6o7toHFWXzD3fA7+\n",
       "WEwQm6TW3NDJLF9t8elQFJJkI2oAAAAhQZ/6RRUsI/8DKzRAKCZqiqOgeSQAgRK53a89qkj4APSA\n",
       "AAAAEgGeGXRH/wTxiBYEKWQ3L4wjOQAAABIBnhtqR/8E8+PKTGRRJybTnXAAAABFQZoASahBbJlM\n",
       "CGf//p4QACsZveACNXcdKLsZZ9rI6xlGGrQCx8ocujmOJJt9SecYInNBcbtQesEJkKoBH7LxQB2O\n",
       "TCghAAAAIUGePkUVLCP/Ays0QCglThE6u4AEN2H8Xng9jDgTN7/jkQAAABoBnl10R/8E8YgNQg14\n",
       "aACWiIRxi68fXjBO4AAAABIBnl9qR/8E8+PKKH1UEuoo4bkAAAAgQZpESahBbJlMCGf//p4QACn5\n",
       "veACHXlqsAL0j9Jwm4AAAAAWQZ5iRRUsI/8DKzRAKCVMEvMuPBlLgQAAAA4BnoF0R/8E8YgEYCdd\n",
       "XQAAAA8BnoNqR/8E8+PFNnC2bYAAAAAwQZqISahBbJlMCGf//p4QAFPxi9AEdTFrRtqVl4Xjui4R\n",
       "xuoxqek2peN8qvIn6FBAAAAAFkGepkUVLCP/Ays0QCgmaoe0mRdCHIEAAAAQAZ7FdEf/BPGIDQIV\n",
       "29qVJgAAAA8BnsdqR/8E8+PFNnC2bYEAAAATQZrMSahBbJlMCGf//p4QAAAHTAAAABNBnupFFSwj\n",
       "/wMrNEAoJQnpzBZVAAAADgGfCXRH/wTxiARgJ11dAAAADwGfC2pH/wTz48U2cLZtgQAAABNBmxBJ\n",
       "qEFsmUwIZ//+nhAAAAdNAAAAE0GfLkUVLCP/Ays0QCglCenMFlQAAAAOAZ9NdEf/BPGIBGAnXV0A\n",
       "AAAPAZ9Pakf/BPPjxTZwtm2BAAAAE0GbVEmoQWyZTAhf//6MsAAAB1QAAAATQZ9yRRUsI/8DKzRA\n",
       "KCUJ6cwWVAAAAA4Bn5F0R/8E8YgEYCddXQAAAA8Bn5NqR/8E8+PFNnC2bYEAAAA2QZuXSahBbJlM\n",
       "CGf//p4QAFPz1/AEdrDmrKcH2vOjr5aIILf4kbC7eN7VqrEfkpX69LdMnBNxAAAAFUGftUUVLCP/\n",
       "Ays0QCgmbOyIcldjkAAAABcBn9ZqR/8E8+PPXWHABMR6wWucdtAHKgAAADdBm9tJqEFsmUwIZ//+\n",
       "nhAAU/S5wBHuDlSxng7fdfrxKVIPY5m3bOc/PrhagcYc2mA6f2K6cE3BAAAAFUGf+UUVLCP/Ays0\n",
       "QCgmaoiVC92OQAAAABEBnhh0R/8E8YgVz4Gper7lQAAAAA8BnhpqR/8E8+PFNnC2bYEAAAAqQZof\n",
       "SahBbJlMCGf//p4QAFGyvjgCla4mBqqdu3EunOgnW8pJRHAak4KCAAAAFUGePUUVLCP/Ays0QCgm\n",
       "UEM7mldjkQAAAA4Bnlx0R/8E8YgEYCddXQAAABABnl5qR/8E8+PPDhEnzoMXAAAAIUGaQ0moQWyZ\n",
       "TAhf//6MsABSct0QBtttNTQ4yLfdynyCtwAAABVBnmFFFSwj/wMrNEAoJk4xXzSuxyAAAAAQAZ6A\n",
       "dEf/BPGIFYQrTlqVJwAAAA8BnoJqR/8E8+PFNnC2bYEAAABTQZqHSahBbJlMCF///oywAFJ17bgC\n",
       "BdQFCWUljFruj0EEKg360xrhrDED4X4pn3h5bhjlSt1WAh7UZMyGbsAp6QGSOarDdsClYlAsjnSM\n",
       "rTnyruAAAAAWQZ6lRRUsI/8DKzRAKCZQQxAAtA0jkAAAAA4BnsR0R/8E8YgEYCddXQAAABkBnsZq\n",
       "R/8E8+PPCPhlBoBO6xsIhodOl6KQAAAAIkGayUmoQWyZTBRMM//+nhAAKOxtJNDFADPK01eXJfcW\n",
       "HHEAAAAWAZ7oakf/BPT5BlCqs7xuuHa08lKHIAAAADRBmu1J4QpSZTAhf/6MsAApS5fkAArm972O\n",
       "ZY65ESFwVOi6euI/Sk7gpvptPX7o7YvrWYi5AAAAI0GfC0U0TCP/AyraQbQYZT8kQAbaXV+XYzDb\n",
       "rI4i7mT0sE3xAAAADwGfKnRH/wTxiARfNYtDbQAAAA8BnyxqR/8E8+PFNc1tobcAAAA4QZsxSahB\n",
       "aJlMCF///oywAClHoLnIAoBi9zcR2cHzO+hw11uM9arBIAhIDTWGGNoVfqiWj5x4YZ8AAAAcQZ9P\n",
       "RREsI/8DKzRAKCVKOUbiAGfiwNvnS/Y4cgAAABABn250R/8E8YgEXzWLJ+NnAAAAGgGfcGpH/wTz\n",
       "48oL9+AAtaA906n0vR+9OGmoAAAAL0GbdEmoQWyZTAhf//6MsAApOtJAALD6g9CCbqOWfk0YOfL4\n",
       "Kvg0orDfOpt3GzEXAAAAHkGfkkUVLCP/Ays0QCglSn+4AAcbrfFKAQa5H3rHIQAAABkBn7NqR/8E\n",
       "8+PKC/fgALdKq7eok1eunUmpAAAAQkGbtkmoQWyZTBRMM//+nhAAKNqaYAFgZzgqLaKgai3+v2Py\n",
       "SpVGivecpt/G4DwOW38379qkng02DNTawH4vGNOFBQAAABwBn9VqR/8E9PkGUKqyMC4q0YqgAtuz\n",
       "QvnrjPKSAAAANUGb2knhClJlMCGf/p4QACjOuNbxRZ4ArZRqyGmGY/CINrnSzy/otP8vJCiVse6r\n",
       "FOeNWjGgAAAAGEGf+EU0TCP/AyraQbQYZOw/AiJxToylwQAAABoBnhd0R/8E8YgMyVH4ASsCtgca\n",
       "ygQswWKCkAAAABABnhlqR/8E8+PKBH1XoGYuAAAAKUGaHkmoQWiZTAhn//6eEAAo2NxwBD4Y1RTq\n",
       "7VxvIuvylh1+I8zKxBixAAAAFkGePEURLCP/Ays0QCglSeMp1r/zxyAAAAAOAZ5bdEf/BPGIBGAn\n",
       "XV0AAAARAZ5dakf/BPPjyeMY/CozpMEAAAA8QZpCSahBbJlMCGf//p4QACjSJkiGHAFb8lms/JfM\n",
       "YZwgt6B8GrAu5QfbHqsCeXvKMWgZEkVS3SQ0hYccAAAAH0GeYEUVLCP/Ays0QCglSRe2DwgBbRJR\n",
       "JPQjdF4WJS8AAAARAZ6fdEf/BPGIDIjx3/zMjKgAAAASAZ6Bakf/BPPjyeUhKxrEjUmBAAAAPEGa\n",
       "hkmoQWyZTAhn//6eEAAo2qqcALD4lq/eSZT8AIUHysJB2RnGRm1d9nGXHjNXRZksZeLbq7IDvCiD\n",
       "FwAAABZBnqRFFSwj/wMrNEAoJUdCQnuERGO9AAAAEgGew3RH/wTxiAynvTzmfAUzgAAAABABnsVq\n",
       "R/8E8+PJ48Rj1dMXAAAALUGaykmoQWyZTAhn//6eEAAozq9CWKAIf0d0lSVi6hPsawW2UZM+Ufr3\n",
       "OERBiwAAABVBnuhFFSwj/wMrNEAoJUhDsXS92OUAAAAQAZ8HdEf/BPGIDIIV4QWsXAAAABABnwlq\n",
       "R/8E8+PJ48Rj1dMXAAAAPkGbDkmoQWyZTAhn//6eEAAo2qqcAKljgqgEjmU+cvEJDvD0xybPBOHY\n",
       "AV+zUcjaJ6Jx+O1KXlZTybbphYcdAAAAF0GfLEUVLCP/Ays0QCglSdPRjqivvIchAAAAEAGfS3RH\n",
       "/wTxiAyCFeEFrF0AAAARAZ9Nakf/BPPjygb/nRoKT64AAABNQZtSSahBbJlMCGf//p4QACn5x7gB\n",
       "Dvv2YK+vNjgDhUoVZFgvJCTQA7fQV9APpb7wzmJnTBm6MNetOO2k5mK1R/7taQn996atX15MKSAA\n",
       "AAAgQZ9wRRUsI/8DKzRAKCVMOBcAAnbqEe0ZUoxfRmapFBEAAAARAZ+PdEf/BPGIDMXdAk6qNSYA\n",
       "AAAPAZ+Rakf/BPPjxTXNbaG2AAAANEGblkmoQWyZTAhn//6eEAAp+ce4AVznBS3UjYCL0imo8Dq+\n",
       "qBkFnMnOXsJW2pOHuAaLDekAAAAcQZ+0RRUsI/8DKzRAKCVMeKQAE2tv9n+vN7scOQAAABABn9N0\n",
       "R/8E8YgEXzWLJ+NnAAAAEgGf1WpH/wTz48oofVQS6ijhuAAAACxBm9pJqEFsmUwIZ//+nhAAKfqt\n",
       "EgBVuP0xZcq+cNBsJLNa31CzuY/BEFgwIAAAABZBn/hFFSwj/wMrNEAoJUw0J4iBkI5BAAAADgGe\n",
       "F3RH/wTxiARgJ11dAAAAEAGeGWpH/wTz48orCKqV0xcAAAAlQZoeSahBbJlMCGf//p4QACn6z/cA\n",
       "Q+M7dFdkLZLfYc3sIEWG9QAAABVBnjxFFSwj/wMrNEAoJUwS80ZXY5AAAAAQAZ5bdEf/BPGIDQIV\n",
       "29qVJwAAAA8Bnl1qR/8E8+PFNnC2bYEAAAAhQZpCSahBbJlMCGf//p4QACn60QKAHHthl5EX/+G2\n",
       "LDegAAAAE0GeYEUVLCP/Ays0QCglCenMFlUAAAAOAZ6fdEf/BPGIBGAnXV0AAAAQAZ6Bakf/BPPj\n",
       "yih9VS62LwAAAD1BmoZJqEFsmUwIX//+jLAAVvGZABHvUMJtDfCIw+4x0Z0Phje2BR3cJMOwaRLb\n",
       "Ydjek8EX/dhtO/fnii8hAAAAF0GepEUVLCP/Ays0QCgmjyzYOGenLz0gAAAADgGew3RH/wTxiARg\n",
       "J11dAAAAEgGexWpH/wTz48+eFSEJqtsI5QAAAClBmspJqEFsmUwIX//+jLAAK3nr+gBroOdHlMLd\n",
       "wHxVSKk41Bd0Qq6DjgAAAB1BnuhFFSwj/wMrNEAoJU4cVwAJH2HaMICJv5RKXQAAAA8Bnwd0R/8E\n",
       "8YgEXzWLQ2wAAAAPAZ8Jakf/BPPjxTXNbaG3AAAALkGbDkmoQWyZTAhf//6MsAAreebwALRW1wNx\n",
       "OW1vkY/T+aHu4SWhEvnofvuGGLEAAAAdQZ8sRRUsI/8DKzRAKCVOeKQAFxW1zpPVW92OHIEAAAAS\n",
       "AZ9LdEf/BPGIDUIV2HRsXvG5AAAAEAGfTWpH/wTz48U1zW2FZyYAAAAqQZtSSahBbJlMCFf//jhA\n",
       "AKfeDwAJUmBXOclti2pOUcb7JZ4zlvts8EbAAAAAF0GfcEUVLCP/Ays0QCglThG2tAfrIRyBAAAA\n",
       "DgGfj3RH/wTxiARgJ11dAAAAEAGfkWpH/wTz48orCKqV0xcAAAAcQZuVSahBbJlMCP/8hAAJp2io\n",
       "AJiPjl946ZWKCQAAABNBn7NFFSwj/wMrNEAoJQnpzBZVAAAADwGf1GpH/wTz48U2cLZtgQAAFXpt\n",
       "b292AAAAbG12aGQAAAAAAAAAAAAAAAAAAAPoAAAfQAABAAABAAAAAAAAAAAAAAAAAQAAAAAAAAAA\n",
       "AAAAAAAAAAEAAAAAAAAAAAAAAAAAAEAAAAAAAAAAAAAAAAAAAAAAAAAAAAAAAAAAAAAAAAACAAAU\n",
       "pHRyYWsAAABcdGtoZAAAAAMAAAAAAAAAAAAAAAEAAAAAAAAfQAAAAAAAAAAAAAAAAAAAAAAAAQAA\n",
       "AAAAAAAAAAAAAAAAAAEAAAAAAAAAAAAAAAAAAEAAAAABsAAAASAAAAAAACRlZHRzAAAAHGVsc3QA\n",
       "AAAAAAAAAQAAH0AAAAIAAAEAAAAAFBxtZGlhAAAAIG1kaGQAAAAAAAAAAAAAAAAAADIAAAGQAFXE\n",
       "AAAAAAAtaGRscgAAAAAAAAAAdmlkZQAAAAAAAAAAAAAAAFZpZGVvSGFuZGxlcgAAABPHbWluZgAA\n",
       "ABR2bWhkAAAAAQAAAAAAAAAAAAAAJGRpbmYAAAAcZHJlZgAAAAAAAAABAAAADHVybCAAAAABAAAT\n",
       "h3N0YmwAAACzc3RzZAAAAAAAAAABAAAAo2F2YzEAAAAAAAAAAQAAAAAAAAAAAAAAAAAAAAABsAEg\n",
       "AEgAAABIAAAAAAAAAAEAAAAAAAAAAAAAAAAAAAAAAAAAAAAAAAAAAAAAAAAAAAAY//8AAAAxYXZj\n",
       "QwFkAB7/4QAYZ2QAHqzZQbCWhAAAAwAEAAADAZA8WLZYAQAGaOvjyyLAAAAAHHV1aWRraEDyXyRP\n",
       "xbo5pRvPAyPzAAAAAAAAABhzdHRzAAAAAAAAAAEAAAGQAAABAAAAABhzdHNzAAAAAAAAAAIAAAAB\n",
       "AAAA+wAADBhjdHRzAAAAAAAAAYEAAAABAAACAAAAAAEAAAMAAAAAAQAAAQAAAAABAAAEAAAAAAIA\n",
       "AAEAAAAAAQAAAwAAAAABAAABAAAAAAEAAAQAAAAAAgAAAQAAAAABAAAFAAAAAAEAAAIAAAAAAQAA\n",
       "AAAAAAABAAABAAAAAAEAAAIAAAAAAQAABQAAAAABAAACAAAAAAEAAAAAAAAAAQAAAQAAAAABAAAD\n",
       "AAAAAAEAAAEAAAAAAQAABQAAAAABAAACAAAAAAEAAAAAAAAAAQAAAQAAAAABAAAFAAAAAAEAAAIA\n",
       "AAAAAQAAAAAAAAABAAABAAAAAAEAAAUAAAAAAQAAAgAAAAABAAAAAAAAAAEAAAEAAAAAAQAABAAA\n",
       "AAACAAABAAAAAAEAAAUAAAAAAQAAAgAAAAABAAAAAAAAAAEAAAEAAAAAAQAAAwAAAAABAAABAAAA\n",
       "AAEAAAIAAAAAAQAABQAAAAABAAACAAAAAAEAAAAAAAAAAQAAAQAAAAABAAAFAAAAAAEAAAIAAAAA\n",
       "AQAAAAAAAAABAAABAAAAAAEAAAUAAAAAAQAAAgAAAAABAAAAAAAAAAEAAAEAAAAAAQAABAAAAAAC\n",
       "AAABAAAAAAEAAAQAAAAAAgAAAQAAAAABAAADAAAAAAEAAAEAAAAAAQAABQAAAAABAAACAAAAAAEA\n",
       "AAAAAAAAAQAAAQAAAAABAAACAAAAAAEAAAUAAAAAAQAAAgAAAAABAAAAAAAAAAEAAAEAAAAAAQAA\n",
       "BQAAAAABAAACAAAAAAEAAAAAAAAAAQAAAQAAAAABAAAFAAAAAAEAAAIAAAAAAQAAAAAAAAABAAAB\n",
       "AAAAAAEAAAUAAAAAAQAAAgAAAAABAAAAAAAAAAEAAAEAAAAAAQAABQAAAAABAAACAAAAAAEAAAAA\n",
       "AAAAAQAAAQAAAAABAAACAAAAAAEAAAMAAAAAAQAAAQAAAAABAAACAAAAAAEAAAQAAAAAAgAAAQAA\n",
       "AAABAAAEAAAAAAIAAAEAAAAAAQAABQAAAAABAAACAAAAAAEAAAAAAAAAAQAAAQAAAAABAAAFAAAA\n",
       "AAEAAAIAAAAAAQAAAAAAAAABAAABAAAAAAEAAAMAAAAAAQAAAQAAAAABAAAFAAAAAAEAAAIAAAAA\n",
       "AQAAAAAAAAABAAABAAAAAAEAAAUAAAAAAQAAAgAAAAABAAAAAAAAAAEAAAEAAAAAAQAABQAAAAAB\n",
       "AAACAAAAAAEAAAAAAAAAAQAAAQAAAAABAAAFAAAAAAEAAAIAAAAAAQAAAAAAAAABAAABAAAAAAEA\n",
       "AAUAAAAAAQAAAgAAAAABAAAAAAAAAAEAAAEAAAAAAQAAAwAAAAABAAABAAAAAAEAAAUAAAAAAQAA\n",
       "AgAAAAABAAAAAAAAAAEAAAEAAAAAAQAAAwAAAAABAAABAAAAAAEAAAUAAAAAAQAAAgAAAAABAAAA\n",
       "AAAAAAEAAAEAAAAAAQAAAgAAAAABAAAFAAAAAAEAAAIAAAAAAQAAAAAAAAABAAABAAAAAAEAAAUA\n",
       "AAAAAQAAAgAAAAABAAAAAAAAAAEAAAEAAAAAAQAABQAAAAABAAACAAAAAAEAAAAAAAAAAQAAAQAA\n",
       "AAABAAAFAAAAAAEAAAIAAAAAAQAAAAAAAAABAAABAAAAAAEAAAUAAAAAAQAAAgAAAAABAAAAAAAA\n",
       "AAEAAAEAAAAAAQAABQAAAAABAAACAAAAAAEAAAAAAAAAAQAAAQAAAAABAAADAAAAAAEAAAEAAAAA\n",
       "AQAABQAAAAABAAACAAAAAAEAAAAAAAAAAQAAAQAAAAABAAAFAAAAAAEAAAIAAAAAAQAAAAAAAAAB\n",
       "AAABAAAAAAEAAAUAAAAAAQAAAgAAAAABAAAAAAAAAAEAAAEAAAAAAQAABQAAAAABAAACAAAAAAEA\n",
       "AAAAAAAAAQAAAQAAAAABAAAFAAAAAAEAAAIAAAAAAQAAAAAAAAABAAABAAAAAAEAAAUAAAAAAQAA\n",
       "AgAAAAABAAAAAAAAAAEAAAEAAAAAAQAABQAAAAABAAACAAAAAAEAAAAAAAAAAQAAAQAAAAABAAAF\n",
       "AAAAAAEAAAIAAAAAAQAAAAAAAAABAAABAAAAAAEAAAUAAAAAAQAAAgAAAAABAAAAAAAAAAEAAAEA\n",
       "AAAAAQAABQAAAAABAAACAAAAAAEAAAAAAAAAAQAAAQAAAAABAAAEAAAAAAIAAAEAAAAAAQAABQAA\n",
       "AAABAAACAAAAAAEAAAAAAAAAAQAAAQAAAAABAAAFAAAAAAEAAAIAAAAAAQAAAAAAAAABAAABAAAA\n",
       "AAEAAAUAAAAAAQAAAgAAAAABAAAAAAAAAAEAAAEAAAAAAQAABAAAAAACAAABAAAAAAEAAAIAAAAA\n",
       "AQAABQAAAAABAAACAAAAAAEAAAAAAAAAAQAAAQAAAAABAAAFAAAAAAEAAAIAAAAAAQAAAAAAAAAB\n",
       "AAABAAAAAAEAAAUAAAAAAQAAAgAAAAABAAAAAAAAAAEAAAEAAAAAAQAABQAAAAABAAACAAAAAAEA\n",
       "AAAAAAAAAQAAAQAAAAABAAAEAAAAAAIAAAEAAAAAAQAABQAAAAABAAACAAAAAAEAAAAAAAAAAQAA\n",
       "AQAAAAABAAACAAAAAAEAAAUAAAAAAQAAAgAAAAABAAAAAAAAAAEAAAEAAAAAAQAAAwAAAAABAAAB\n",
       "AAAAAAEAAAQAAAAAAgAAAQAAAAABAAAEAAAAAAIAAAEAAAAAAQAABQAAAAABAAACAAAAAAEAAAAA\n",
       "AAAAAQAAAQAAAAABAAAFAAAAAAEAAAIAAAAAAQAAAAAAAAABAAABAAAAAAEAAAUAAAAAAQAAAgAA\n",
       "AAABAAAAAAAAAAEAAAEAAAAAAQAABQAAAAABAAACAAAAAAEAAAAAAAAAAQAAAQAAAAABAAAFAAAA\n",
       "AAEAAAIAAAAAAQAAAAAAAAABAAABAAAAAAEAAAUAAAAAAQAAAgAAAAABAAAAAAAAAAEAAAEAAAAA\n",
       "AQAABQAAAAABAAACAAAAAAEAAAAAAAAAAQAAAQAAAAABAAAFAAAAAAEAAAIAAAAAAQAAAAAAAAAB\n",
       "AAABAAAAAAEAAAUAAAAAAQAAAgAAAAABAAAAAAAAAAEAAAEAAAAAAQAABQAAAAABAAACAAAAAAEA\n",
       "AAAAAAAAAQAAAQAAAAABAAAEAAAAAAIAAAEAAAAAAQAABQAAAAABAAACAAAAAAEAAAAAAAAAAQAA\n",
       "AQAAAAABAAAFAAAAAAEAAAIAAAAAAQAAAAAAAAABAAABAAAAAAEAAAUAAAAAAQAAAgAAAAABAAAA\n",
       "AAAAAAEAAAEAAAAAAQAABQAAAAABAAACAAAAAAEAAAAAAAAAAQAAAQAAAAABAAADAAAAAAEAAAEA\n",
       "AAAAAQAABQAAAAABAAACAAAAAAEAAAAAAAAAAQAAAQAAAAABAAAFAAAAAAEAAAIAAAAAAQAAAAAA\n",
       "AAABAAABAAAAAAEAAAQAAAAAAgAAAQAAAAABAAADAAAAAAEAAAEAAAAAAQAABQAAAAABAAACAAAA\n",
       "AAEAAAAAAAAAAQAAAQAAAAABAAAFAAAAAAEAAAIAAAAAAQAAAAAAAAABAAABAAAAAAEAAAUAAAAA\n",
       "AQAAAgAAAAABAAAAAAAAAAEAAAEAAAAAAQAABQAAAAABAAACAAAAAAEAAAAAAAAAAQAAAQAAAAAB\n",
       "AAAFAAAAAAEAAAIAAAAAAQAAAAAAAAABAAABAAAAAAEAAAUAAAAAAQAAAgAAAAABAAAAAAAAAAEA\n",
       "AAEAAAAAAQAABQAAAAABAAACAAAAAAEAAAAAAAAAAQAAAQAAAAABAAAFAAAAAAEAAAIAAAAAAQAA\n",
       "AAAAAAABAAABAAAAAAEAAAUAAAAAAQAAAgAAAAABAAAAAAAAAAEAAAEAAAAAAQAABQAAAAABAAAC\n",
       "AAAAAAEAAAAAAAAAAQAAAQAAAAABAAAFAAAAAAEAAAIAAAAAAQAAAAAAAAABAAABAAAAAAEAAAUA\n",
       "AAAAAQAAAgAAAAABAAAAAAAAAAEAAAEAAAAAAQAABQAAAAABAAACAAAAAAEAAAAAAAAAAQAAAQAA\n",
       "AAABAAAFAAAAAAEAAAIAAAAAAQAAAAAAAAABAAABAAAAAAEAAAUAAAAAAQAAAgAAAAABAAAAAAAA\n",
       "AAEAAAEAAAAAAQAABAAAAAACAAABAAAAABxzdHNjAAAAAAAAAAEAAAABAAABkAAAAAEAAAZUc3Rz\n",
       "egAAAAAAAAAAAAABkAAANOkAAALSAAAAXQAAANIAAABLAAAALwAAAHcAAAAvAAAAgAAAADoAAAAq\n",
       "AAAAXwAAADAAAAAkAAAAGAAAAEkAAABvAAAAKAAAACMAAAAiAAAASwAAACsAAAB+AAAAJwAAACEA\n",
       "AAAkAAAAYQAAADIAAAAhAAAAJQAAAHQAAAAxAAAAIQAAABsAAABaAAAAKwAAACMAAABcAAAAKwAA\n",
       "ABsAAAAhAAAAXQAAACkAAAAyAAAAQwAAAC8AAAAdAAAAIgAAAE4AAAAuAAAAHgAAABkAAABzAAAA\n",
       "LgAAABkAAAAaAAAATAAAACsAAAAcAAAAZwAAACoAAAAcAAAARAAAACgAAABLAAAALgAAACMAAAAe\n",
       "AAAAJgAAACYAAAAjAAAAIQAAABYAAABQAAAAMgAAABwAAAAbAAAAUwAAADcAAAAkAAAAGwAAADwA\n",
       "AAAtAAAAFgAAABYAAABoAAAALQAAACEAAAAkAAAAOwAAABwAAAAaAAAAOgAAADEAAAAeAAAAHgAA\n",
       "AG8AAAAgAAAAIAAAADwAAAAjAAAAHgAAABcAAABUAAAAJgAAABgAAAAfAAAAPgAAAB0AAABEAAAA\n",
       "KwAAAB0AAAAaAAAARgAAACoAAAAXAAAAGwAAAHcAAAAxAAAAHgAAACIAAABJAAAAKwAAAB4AAAAe\n",
       "AAAASQAAACgAAAAcAAAAGAAAACsAAAAbAAAAVwAAACsAAAAYAAAAFwAAACgAAAAbAAAAQgAAACAA\n",
       "AAAgAAAAFwAAACsAAAA8AAAAIgAAABoAAAAZAAAAMQAAACEAAAAYAAAAFQAAACsAAAAhAAAAFQAA\n",
       "ABUAAAA+AAAAIQAAABcAAAAYAAAANAAAACIAAAAVAAAAGAAAADcAAAAnAAAAFwAAACIAAABNAAAA\n",
       "JgAAAHYAAAAqAAAAIQAAABkAAABjAAAAIgAAABUAAAAjAAAAOQAAACEAAAAXAAAAFQAAADwAAAAg\n",
       "AAAAFQAAAB8AAABOAAAAIgAAABUAAAAVAAAASQAAACEAAAAZAAAAFQAAAEsAAAAoAAAAGgAAABgA\n",
       "AABJAAAAKwAAABkAAAAYAAAAOgAAACcAAAAXAAAAGAAAADIAAAAgAAAAFQAAABcAAABEAAAAHQAA\n",
       "ABUAAABdAAAAJAAAABgAAAAXAAAAIwAAACMAAAAXAAAAFwAAADEAAAAiAAAAGAAAABcAAABTAAAA\n",
       "IgAAACQAAAAqAAAAQwAAACoAAAAfAAAAEwAAADsAAAAkAAAAGQAAABkAAAAtAAAAIAAAABkAAAAX\n",
       "AAAAOQAAACAAAAAXAAAAGQAAAEoAAAAkAAAAFgAAAEoAAAAsAAAAEwAAABUAAEFuAAACBwAAAD0A\n",
       "AAA6AAAAIgAAAG0AAAAoAAAAPgAAACkAAAAWAAAANgAAABwAAAAbAAAATgAAACQAAAAgAAAAFwAA\n",
       "ADUAAAAYAAAAFAAAABQAAAAoAAAAGQAAABIAAAAUAAAAVAAAACUAAAAWAAAAFgAAAEkAAAAlAAAA\n",
       "HgAAABYAAAAkAAAAGgAAABIAAAATAAAANAAAABoAAAAUAAAAEwAAABcAAAAXAAAAEgAAABMAAAAX\n",
       "AAAAFwAAABIAAAATAAAAFwAAABcAAAASAAAAEwAAADoAAAAZAAAAGwAAADsAAAAZAAAAFQAAABMA\n",
       "AAAuAAAAGQAAABIAAAAUAAAAJQAAABkAAAAUAAAAEwAAAFcAAAAaAAAAEgAAAB0AAAAmAAAAGgAA\n",
       "ADgAAAAnAAAAEwAAABMAAAA8AAAAIAAAABQAAAAeAAAAMwAAACIAAAAdAAAARgAAACAAAAA5AAAA\n",
       "HAAAAB4AAAAUAAAALQAAABoAAAASAAAAFQAAAEAAAAAjAAAAFQAAABYAAABAAAAAGgAAABYAAAAU\n",
       "AAAAMQAAABkAAAAUAAAAFAAAAEIAAAAbAAAAFAAAABUAAABRAAAAJAAAABUAAAATAAAAOAAAACAA\n",
       "AAAUAAAAFgAAADAAAAAaAAAAEgAAABQAAAApAAAAGQAAABQAAAATAAAAJQAAABcAAAASAAAAFAAA\n",
       "AEEAAAAbAAAAEgAAABYAAAAtAAAAIQAAABMAAAATAAAAMgAAACEAAAAWAAAAFAAAAC4AAAAbAAAA\n",
       "EgAAABQAAAAgAAAAFwAAABMAAAAUc3RjbwAAAAAAAAABAAAALAAAAGJ1ZHRhAAAAWm1ldGEAAAAA\n",
       "AAAAIWhkbHIAAAAAAAAAAG1kaXJhcHBsAAAAAAAAAAAAAAAALWlsc3QAAAAlqXRvbwAAAB1kYXRh\n",
       "AAAAAQAAAABMYXZmNTcuODMuMTAw\n",
       "\">\n",
       "  Your browser does not support the video tag.\n",
       "</video>"
      ]
     },
     "metadata": {},
     "output_type": "display_data"
    }
   ],
   "source": [
    "try:\n",
    "    display_html(HTML(anim.to_html5_video()))\n",
    "# In case the build-in renderers are unaviable, fall back to\n",
    "# a custom one, that doesn't require external libraries\n",
    "except (RuntimeError, KeyError):\n",
    "    anim.save(None, writer=matplotlib_utils.SimpleMovieWriter(0.001))"
   ]
  },
  {
   "cell_type": "markdown",
   "metadata": {},
   "source": [
    "# Logistic regression\n",
    "Your assignment is to implement the logistic regression\n",
    "\n",
    "Plan:\n",
    "* Use a shared variable for weights\n",
    "* Use a matrix placeholder for `X`\n",
    " \n",
    "We shall train on a two-class MNIST dataset\n",
    "* please note that target `y` are `{0,1}` and not `{-1,1}` as in some formulae"
   ]
  },
  {
   "cell_type": "code",
   "execution_count": 52,
   "metadata": {},
   "outputs": [
    {
     "name": "stdout",
     "output_type": "stream",
     "text": [
      "Collecting scikit-learn\n",
      "\u001b[?25l  Downloading https://files.pythonhosted.org/packages/85/04/49633f490f726da6e454fddc8e938bbb5bfed2001681118d3814c219b723/scikit_learn-0.21.2-cp36-cp36m-manylinux1_x86_64.whl (6.7MB)\n",
      "\u001b[K     |████████████████████████████████| 6.7MB 571kB/s eta 0:00:01\n",
      "\u001b[?25hCollecting joblib>=0.11 (from scikit-learn)\n",
      "\u001b[?25l  Downloading https://files.pythonhosted.org/packages/cd/c1/50a758e8247561e58cb87305b1e90b171b8c767b15b12a1734001f41d356/joblib-0.13.2-py2.py3-none-any.whl (278kB)\n",
      "\u001b[K     |████████████████████████████████| 286kB 10.1MB/s eta 0:00:01\n",
      "\u001b[?25hRequirement already satisfied: scipy>=0.17.0 in /home/atenagm/.virtualenvs/hse/lib/python3.6/site-packages (from scikit-learn) (1.3.0)\n",
      "Requirement already satisfied: numpy>=1.11.0 in /home/atenagm/.virtualenvs/hse/lib/python3.6/site-packages (from scikit-learn) (1.16.4)\n",
      "Installing collected packages: joblib, scikit-learn\n",
      "Successfully installed joblib-0.13.2 scikit-learn-0.21.2\n"
     ]
    }
   ],
   "source": [
    "!pip install scikit-learn"
   ]
  },
  {
   "cell_type": "code",
   "execution_count": 53,
   "metadata": {},
   "outputs": [
    {
     "name": "stdout",
     "output_type": "stream",
     "text": [
      "y [shape - (360,)]: [0 1 0 1 0 1 0 0 1 1]\n",
      "X [shape - (360, 64)]:\n"
     ]
    }
   ],
   "source": [
    "from sklearn.datasets import load_digits\n",
    "mnist = load_digits(2)\n",
    "\n",
    "X, y = mnist.data, mnist.target\n",
    "\n",
    "print(\"y [shape - %s]:\" % (str(y.shape)), y[:10])\n",
    "print(\"X [shape - %s]:\" % (str(X.shape)))"
   ]
  },
  {
   "cell_type": "code",
   "execution_count": 54,
   "metadata": {},
   "outputs": [
    {
     "name": "stdout",
     "output_type": "stream",
     "text": [
      "X:\n",
      " [[ 0.  0.  5. 13.  9.  1.  0.  0.  0.  0.]\n",
      " [ 0.  0.  0. 12. 13.  5.  0.  0.  0.  0.]\n",
      " [ 0.  0.  1.  9. 15. 11.  0.  0.  0.  0.]]\n",
      "y:\n",
      " [0 1 0 1 0 1 0 0 1 1]\n"
     ]
    },
    {
     "data": {
      "image/png": "[encoded data removed]",
      "text/plain": [
       "<Figure size 432x288 with 1 Axes>"
      ]
     },
     "metadata": {
      "needs_background": "light"
     },
     "output_type": "display_data"
    }
   ],
   "source": [
    "print('X:\\n',X[:3,:10])\n",
    "print('y:\\n',y[:10])\n",
    "plt.imshow(X[0].reshape([8,8]));"
   ]
  },
  {
   "cell_type": "markdown",
   "metadata": {},
   "source": [
    "It's your turn now!\n",
    "Just a small reminder of the relevant math:\n",
    "\n",
    "$$\n",
    "P(y=1|X) = \\sigma(X \\cdot W + b)\n",
    "$$\n",
    "$$\n",
    "\\text{loss} = -\\log\\left(P\\left(y_\\text{predicted} = 1\\right)\\right)\\cdot y_\\text{true} - \\log\\left(1 - P\\left(y_\\text{predicted} = 1\\right)\\right)\\cdot\\left(1 - y_\\text{true}\\right)\n",
    "$$\n",
    "\n",
    "$\\sigma(x)$ is available via `tf.nn.sigmoid` and matrix multiplication via `tf.matmul`"
   ]
  },
  {
   "cell_type": "code",
   "execution_count": 55,
   "metadata": {},
   "outputs": [],
   "source": [
    "from sklearn.model_selection import train_test_split\n",
    "X_train, X_test, y_train, y_test = train_test_split(\n",
    "    X, y, random_state=42)"
   ]
  },
  {
   "cell_type": "markdown",
   "metadata": {},
   "source": [
    "__Your code goes here.__ For the training and testing scaffolding to work, please stick to the names in comments."
   ]
  },
  {
   "cell_type": "code",
   "execution_count": 56,
   "metadata": {},
   "outputs": [],
   "source": [
    "# Model parameters - weights and bias\n",
    "weights = tf.Variable(initial_value=np.random.randn(X.shape[1], 1) * 0.01, name=\"weights\", dtype=\"float32\")\n",
    "b = tf.Variable(initial_value=0, name=\"b\", dtype=\"float32\")"
   ]
  },
  {
   "cell_type": "code",
   "execution_count": 57,
   "metadata": {},
   "outputs": [],
   "source": [
    "# Placeholders for the input data\n",
    "input_X = tf.placeholder(tf.float32, name=\"input_X\")\n",
    "input_y = tf.placeholder(tf.float32, name=\"input_y\")"
   ]
  },
  {
   "cell_type": "code",
   "execution_count": 63,
   "metadata": {},
   "outputs": [],
   "source": [
    "# The model code\n",
    "\n",
    "# Compute a vector of predictions, resulting shape should be [input_X.shape[0],]\n",
    "# This is 1D, if you have extra dimensions, you can  get rid of them with tf.squeeze .\n",
    "# Don't forget the sigmoid.\n",
    "predicted_y = tf.squeeze(tf.nn.sigmoid(tf.add(tf.matmul(input_X, weights), b)))\n",
    "\n",
    "# Loss. Should be a scalar number - average loss over all the objects\n",
    "# tf.reduce_mean is your friend here\n",
    "loss = -tf.reduce_mean(tf.log(predicted_y) * input_y + tf.log(1 - predicted_y) * (1 - input_y))\n",
    "\n",
    "# See above for an example. tf.train.*Optimizer\n",
    "optimizer = tf.train.GradientDescentOptimizer(0.01).minimize(loss)"
   ]
  },
  {
   "cell_type": "markdown",
   "metadata": {},
   "source": [
    "A test to help with the debugging"
   ]
  },
  {
   "cell_type": "code",
   "execution_count": 64,
   "metadata": {},
   "outputs": [
    {
     "name": "stdout",
     "output_type": "stream",
     "text": [
      "0.72868866\n"
     ]
    }
   ],
   "source": [
    "validation_weights = 1e-3 * np.fromiter(map(lambda x:\n",
    "        s.run(weird_psychotic_function, {my_scalar:x, my_vector:[1, 0.1, 2]}),\n",
    "                                   0.15 * np.arange(1, X.shape[1] + 1)),\n",
    "                                   count=X.shape[1], dtype=np.float32)[:, np.newaxis]\n",
    "# Compute predictions for given weights and bias\n",
    "prediction_validation = s.run(\n",
    "    predicted_y, {\n",
    "    input_X: X,\n",
    "    weights: validation_weights,\n",
    "    b: 1e-1})\n",
    "\n",
    "# Load the reference values for the predictions\n",
    "validation_true_values = np.loadtxt(\"validation_predictons.txt\")\n",
    "\n",
    "assert prediction_validation.shape == (X.shape[0],),\\\n",
    "       \"Predictions must be a 1D array with length equal to the number \" \\\n",
    "       \"of examples in input_X\"\n",
    "assert np.allclose(validation_true_values, prediction_validation)\n",
    "loss_validation = s.run(\n",
    "        loss, {\n",
    "            input_X: X[:100],\n",
    "            input_y: y[-100:],\n",
    "            weights: validation_weights+1.21e-3,\n",
    "            b: -1e-1})\n",
    "print(loss_validation)\n",
    "assert np.allclose(loss_validation, 0.728689)"
   ]
  },
  {
   "cell_type": "code",
   "execution_count": 65,
   "metadata": {},
   "outputs": [
    {
     "name": "stdout",
     "output_type": "stream",
     "text": [
      "loss at iter 0:0.2178\n",
      "train auc: 1.0\n",
      "test auc: 1.0\n",
      "loss at iter 1:0.3330\n",
      "train auc: 1.0\n",
      "test auc: 1.0\n",
      "loss at iter 2:0.3498\n",
      "train auc: 1.0\n",
      "test auc: 1.0\n",
      "loss at iter 3:0.1440\n",
      "train auc: 1.0\n",
      "test auc: 1.0\n",
      "loss at iter 4:0.0203\n",
      "train auc: 1.0\n",
      "test auc: 1.0\n"
     ]
    }
   ],
   "source": [
    "from sklearn.metrics import roc_auc_score\n",
    "s.run(tf.global_variables_initializer())\n",
    "for i in range(5):\n",
    "    s.run(optimizer, {input_X: X_train, input_y: y_train})\n",
    "    loss_i = s.run(loss, {input_X: X_train, input_y: y_train})\n",
    "    print(\"loss at iter %i:%.4f\" % (i, loss_i))\n",
    "    print(\"train auc:\", roc_auc_score(y_train, s.run(predicted_y, {input_X:X_train})))\n",
    "    print(\"test auc:\", roc_auc_score(y_test, s.run(predicted_y, {input_X:X_test})))"
   ]
  },
  {
   "cell_type": "markdown",
   "metadata": {},
   "source": [
    "### Coursera submission"
   ]
  },
  {
   "cell_type": "code",
   "execution_count": 37,
   "metadata": {
    "collapsed": true
   },
   "outputs": [],
   "source": [
    "grade_submitter = grading.Grader(\"BJCiiY8sEeeCnhKCj4fcOA\")"
   ]
  },
  {
   "cell_type": "code",
   "execution_count": 38,
   "metadata": {
    "collapsed": true
   },
   "outputs": [],
   "source": [
    "test_weights = 1e-3 * np.fromiter(map(lambda x:\n",
    "    s.run(weird_psychotic_function, {my_scalar:x, my_vector:[1, 2, 3]}),\n",
    "                               0.1 * np.arange(1, X.shape[1] + 1)),\n",
    "                               count=X.shape[1], dtype=np.float32)[:, np.newaxis]"
   ]
  },
  {
   "cell_type": "markdown",
   "metadata": {},
   "source": [
    "First, test prediction and loss computation. This part doesn't require a fitted model."
   ]
  },
  {
   "cell_type": "code",
   "execution_count": 39,
   "metadata": {
    "collapsed": true
   },
   "outputs": [],
   "source": [
    "prediction_test = s.run(\n",
    "    predicted_y, {\n",
    "    input_X: X,\n",
    "    weights: test_weights,\n",
    "    b: 1e-1})"
   ]
  },
  {
   "cell_type": "code",
   "execution_count": 40,
   "metadata": {
    "collapsed": true
   },
   "outputs": [],
   "source": [
    "assert prediction_test.shape == (X.shape[0],),\\\n",
    "       \"Predictions must be a 1D array with length equal to the number \" \\\n",
    "       \"of examples in X_test\""
   ]
  },
  {
   "cell_type": "code",
   "execution_count": 41,
   "metadata": {
    "collapsed": true
   },
   "outputs": [],
   "source": [
    "grade_submitter.set_answer(\"0ENlN\", prediction_test)"
   ]
  },
  {
   "cell_type": "code",
   "execution_count": 42,
   "metadata": {
    "collapsed": true
   },
   "outputs": [],
   "source": [
    "loss_test = s.run(\n",
    "    loss, {\n",
    "        input_X: X[:100],\n",
    "        input_y: y[-100:],\n",
    "        weights: test_weights+1.21e-3,\n",
    "        b: -1e-1})\n",
    "# Yes, the X/y indices mistmach is intentional"
   ]
  },
  {
   "cell_type": "code",
   "execution_count": 43,
   "metadata": {
    "collapsed": true
   },
   "outputs": [],
   "source": [
    "grade_submitter.set_answer(\"mMVpM\", loss_test)"
   ]
  },
  {
   "cell_type": "code",
   "execution_count": 44,
   "metadata": {
    "collapsed": true
   },
   "outputs": [],
   "source": [
    "grade_submitter.set_answer(\"D16Rc\", roc_auc_score(y_test, s.run(predicted_y, {input_X:X_test})))"
   ]
  },
  {
   "cell_type": "markdown",
   "metadata": {},
   "source": [
    "Please use the credentials obtained from the Coursera assignment page."
   ]
  },
  {
   "cell_type": "code",
   "execution_count": 45,
   "metadata": {},
   "outputs": [
    {
     "name": "stdout",
     "output_type": "stream",
     "text": [
      "Submitted to Coursera platform. See results on assignment page!\n"
     ]
    }
   ],
   "source": [
    "grade_submitter.submit(<email>, <token>)"
   ]
  }
 ],
 "metadata": {
  "kernelspec": {
   "display_name": "Python 3",
   "language": "python",
   "name": "python3"
  },
  "language_info": {
   "codemirror_mode": {
    "name": "ipython",
    "version": 3
   },
   "file_extension": ".py",
   "mimetype": "text/x-python",
   "name": "python",
   "nbconvert_exporter": "python",
   "pygments_lexer": "ipython3",
   "version": "3.6.8"
  }
 },
 "nbformat": 4,
 "nbformat_minor": 1
}
